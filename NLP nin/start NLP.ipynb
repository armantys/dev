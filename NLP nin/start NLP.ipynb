{
 "cells": [
  {
   "cell_type": "code",
   "execution_count": 2,
   "id": "ef164510",
   "metadata": {},
   "outputs": [],
   "source": [
    "import nltk\n",
    "import string\n",
    "import re"
   ]
  },
  {
   "cell_type": "code",
   "execution_count": 4,
   "id": "87fb1845",
   "metadata": {},
   "outputs": [],
   "source": [
    "#lowercasing\n",
    "\n",
    "def text_lowercase(text):\n",
    "    return text.lower()"
   ]
  },
  {
   "cell_type": "code",
   "execution_count": 7,
   "id": "db782167",
   "metadata": {},
   "outputs": [
    {
     "data": {
      "text/plain": [
       "'hey, did you know that the summer break is comming? amazing right !!'"
      ]
     },
     "execution_count": 7,
     "metadata": {},
     "output_type": "execute_result"
    }
   ],
   "source": [
    "input_text = \"Hey, did you know that the summer break is comming? Amazing right !!\"\n",
    "text_lowercase(input_text)"
   ]
  },
  {
   "cell_type": "code",
   "execution_count": 8,
   "id": "4183ec6d",
   "metadata": {},
   "outputs": [],
   "source": [
    "#removing number/digits\n",
    "\n",
    "def remove_number(text2):\n",
    "    result = re.sub(r'\\d+','', text2)\n",
    "    return result"
   ]
  },
  {
   "cell_type": "code",
   "execution_count": 9,
   "id": "de2a1f72",
   "metadata": {},
   "outputs": [
    {
     "data": {
      "text/plain": [
       "'Hey phone number is , and my phone number is '"
      ]
     },
     "execution_count": 9,
     "metadata": {},
     "output_type": "execute_result"
    }
   ],
   "source": [
    "input_text2 = \"Hey phone number is 0123456789, and my phone number is 9876543210\"\n",
    "remove_number(input_text2)"
   ]
  },
  {
   "cell_type": "code",
   "execution_count": 21,
   "id": "df4111a8",
   "metadata": {},
   "outputs": [
    {
     "name": "stdout",
     "output_type": "stream",
     "text": [
      "['!', '\"', '#', '$', '%', '&', \"'\", '(', ')', '*', '+', ',', '-', '.', '/', ':', ';', '<', '=', '>', '?', '@', '[', '\\\\', ']', '^', '_', '`', '{', '|', '}', '~']\n"
     ]
    }
   ],
   "source": [
    "#remove punctiation & special caracters\n",
    "\n",
    "regular_punct = list(string.punctuation)\n",
    "print(regular_punct)"
   ]
  },
  {
   "cell_type": "code",
   "execution_count": 23,
   "id": "3aeda50a",
   "metadata": {},
   "outputs": [
    {
     "data": {
      "text/plain": [
       "'Hey did you know that the  summer  break is comming Amazing right'"
      ]
     },
     "execution_count": 23,
     "metadata": {},
     "output_type": "execute_result"
    }
   ],
   "source": [
    "def remove_punctuation(text3, punct_list):\n",
    "    for punc in punct_list:\n",
    "        if punc in text3:\n",
    "            text3 = text3.replace(punc, '')\n",
    "    return text3.strip()\n",
    "\n",
    "remove_punctuation(\"Hey, did, you, know, that?? the $$ summer + break is comming? Amazing right !!\", regular_punct)"
   ]
  },
  {
   "cell_type": "code",
   "execution_count": 26,
   "id": "8673826f",
   "metadata": {},
   "outputs": [
    {
     "data": {
      "text/plain": [
       "\"we don't need the given question.\""
      ]
     },
     "execution_count": 26,
     "metadata": {},
     "output_type": "execute_result"
    }
   ],
   "source": [
    "# Handling  double whitespace from text\n",
    "\n",
    "def remove_whitespace(text4):\n",
    "    return \" \".join(text4.split())\n",
    "\n",
    "input_str = \"we  don't need the given   question.\"\n",
    "remove_whitespace(input_str)"
   ]
  },
  {
   "cell_type": "code",
   "execution_count": 27,
   "id": "2fef2339",
   "metadata": {},
   "outputs": [],
   "source": [
    "# removal of URLs, HTML tags or other irrelevant hints\n",
    "\n",
    "#define a regex pattern to match URLs\n",
    "url_pattern = re.compile(r'https?://\\S+')\n",
    "\n",
    "#define a function to remove URLs from text\n",
    "def remove_urls(text5):\n",
    "    return url_pattern.sub('', text5) #we replace the URL with word"
   ]
  },
  {
   "cell_type": "code",
   "execution_count": 28,
   "id": "3013f452",
   "metadata": {},
   "outputs": [
    {
     "data": {
      "text/plain": [
       "'You can visit '"
      ]
     },
     "execution_count": 28,
     "metadata": {},
     "output_type": "execute_result"
    }
   ],
   "source": [
    "input_str2 = \"You can visit https://www.google.com/\"\n",
    "remove_urls(input_str2)"
   ]
  },
  {
   "cell_type": "code",
   "execution_count": 33,
   "id": "90c1f1ab",
   "metadata": {},
   "outputs": [
    {
     "name": "stdout",
     "output_type": "stream",
     "text": [
      "Result fom tokenization: ['this', 'is', 'a', 'text', 'to', 'tokenize']\n",
      "<class 'list'>\n"
     ]
    },
    {
     "name": "stderr",
     "output_type": "stream",
     "text": [
      "[nltk_data] Downloading package punkt to\n",
      "[nltk_data]     C:\\Users\\ludovic.souquet\\AppData\\Roaming\\nltk_data...\n",
      "[nltk_data]   Package punkt is already up-to-date!\n"
     ]
    }
   ],
   "source": [
    "nltk.download('punkt') #this line is needed to download the necessary data\n",
    "\n",
    "text6 = \"this is a text to tokenize\"\n",
    "tokenized = nltk.word_tokenize(text6)\n",
    "\n",
    "print(\"Result fom tokenization:\" , tokenized)\n",
    "print(type(tokenized))"
   ]
  },
  {
   "cell_type": "code",
   "execution_count": 44,
   "id": "a70af864",
   "metadata": {},
   "outputs": [
    {
     "name": "stdout",
     "output_type": "stream",
     "text": [
      "{'eusses', 'fut', 'mon', 'fûtes', 'par', 'elle', 'aurais', 'étantes', 'dans', 'serai', 'eue', 'fût', 'ai', 'ces', 'étée', 'eûmes', 'notre', 'ayons', 'je', 'auriez', 'en', 'qu', 'soit', 'm', 'ait', 'ils', 'nous', 'avaient', 'le', 'ne', 'sa', 'eût', 'étiez', 'eurent', 'vos', 's', 'sera', 'aie', 'serions', 'avions', 'avait', 'pour', 'ayant', 'étions', 'es', 'avons', 'ce', 'suis', 'que', 'fussions', 'as', 'votre', 'ayante', 'avec', 'aviez', 'aurons', 'sur', 'étants', 'fusses', 'fûmes', 'eusse', 'toi', 'ayants', 'eux', 'mais', 'une', 'il', 'soyez', 'avez', 'tu', 'aurez', 'sois', 'd', 'ayantes', 'étaient', 'sommes', 'serons', 'leur', 'soyons', 'qui', 'ses', 'seras', 'on', 'ma', 'ayez', 'était', 'des', 'vous', 'eussions', 'mes', 'ta', 'l', 'seront', 'et', 'étés', 'fus', 'c', 'y', 'j', 'serait', 'nos', 'étées', 'est', 'aurions', 'eu', 'serais', 'avais', 'lui', 'seraient', 't', 'ont', 'les', 'serez', 'son', 'un', 'fusse', 'auront', 'seriez', 'fussent', 'du', 'ton', 'aies', 'soient', 'n', 'aient', 'te', 'la', 'aurait', 'à', 'eus', 'de', 'me', 'étant', 'au', 'fussiez', 'moi', 'même', 'auras', 'pas', 'eues', 'eut', 'eussent', 'étante', 'aura', 'auraient', 'eûtes', 'êtes', 'ou', 'aux', 'furent', 'été', 'tes', 'aurai', 'eussiez', 'sont', 'se', 'étais'}\n",
      "{'he', 'again', 'has', 'own', 'if', \"shan't\", 'just', 'during', 'do', 'out', 'your', 'we', 'a', 'itself', 'after', 'hasn', 'this', \"isn't\", 'have', 'yourself', 'by', 'those', 'now', 'm', 're', \"shouldn't\", 'its', \"you've\", 'above', \"should've\", 'hers', 'you', 'll', \"mustn't\", \"aren't\", 'haven', \"don't\", 'am', \"wasn't\", 'doesn', 'theirs', 's', 'hadn', 'more', 'under', 'some', 'doing', 'no', 'here', 'who', 'weren', 'down', 'as', 'which', 'shan', 'then', 'any', 'up', 'isn', 'most', 'themselves', 'being', 'than', 'myself', 'didn', 'into', \"mightn't\", 'off', \"hadn't\", 'mustn', 'such', 'before', 'i', 'an', 'wouldn', 'because', 'very', 'ourselves', 'does', 'with', 'd', 'yourselves', 've', 'there', 'where', 'on', 'ma', 'him', 'against', 'was', 'it', 'his', 'had', 'or', 'and', \"that'll\", 'they', 'y', 'did', 'ain', 'too', 'whom', 'these', 'while', 'of', \"hasn't\", 'only', 'she', \"weren't\", 'until', \"haven't\", 'having', \"didn't\", \"doesn't\", 'can', 'my', 't', 'her', 'should', 'aren', 'needn', 'their', \"it's\", 'but', 'why', 'through', 'won', 'when', 'what', \"she's\", 'each', 'our', 'couldn', 'is', \"couldn't\", 'herself', 'further', \"you'll\", 'shouldn', 'the', 'for', 'not', 'from', 'in', 'wasn', 'will', 'don', 'me', 'been', 'yours', \"wouldn't\", 'few', 'ours', \"you'd\", 'below', 'other', 'so', 'same', 'nor', 'at', \"you're\", \"needn't\", 'to', 'were', 'himself', 'be', 'them', 'that', \"won't\", 'mightn', 'how', 'about', 'over', 'between', 'all', 'o', 'both', 'are', 'once'}\n"
     ]
    },
    {
     "name": "stderr",
     "output_type": "stream",
     "text": [
      "[nltk_data] Downloading package stopwords to\n",
      "[nltk_data]     C:\\Users\\ludovic.souquet\\AppData\\Roaming\\nltk_data...\n",
      "[nltk_data]   Package stopwords is already up-to-date!\n"
     ]
    }
   ],
   "source": [
    "from nltk.corpus import stopwords\n",
    "nltk.download('stopwords')\n",
    "\n",
    "stop_words = set(stopwords.words('french'))\n",
    "stop_words2 = set(stopwords.words('english'))\n",
    "print(stop_words)\n",
    "print(stop_words2)"
   ]
  },
  {
   "cell_type": "code",
   "execution_count": 42,
   "id": "1416fdbc",
   "metadata": {},
   "outputs": [],
   "source": [
    "stop_words.add('test')"
   ]
  },
  {
   "cell_type": "code",
   "execution_count": 43,
   "id": "28cebaa1",
   "metadata": {},
   "outputs": [
    {
     "name": "stdout",
     "output_type": "stream",
     "text": [
      "{'eusses', 'fut', 'mon', 'fûtes', 'par', 'elle', 'aurais', 'étantes', 'dans', 'serai', 'eue', 'fût', 'ai', 'ces', 'étée', 'eûmes', 'notre', 'ayons', 'je', 'auriez', 'en', 'qu', 'soit', 'm', 'ait', 'test', 'ils', 'nous', 'avaient', 'le', 'ne', 'sa', 'eût', 'étiez', 'eurent', 'vos', 's', 'sera', 'aie', 'serions', 'avions', 'avait', 'pour', 'ayant', 'étions', 'es', 'avons', 'ce', 'suis', 'que', 'fussions', 'as', 'votre', 'ayante', 'avec', 'aviez', 'aurons', 'sur', 'étants', 'fusses', 'fûmes', 'eusse', 'toi', 'ayants', 'eux', 'mais', 'une', 'il', 'soyez', 'avez', 'tu', 'aurez', 'sois', 'd', 'ayantes', 'étaient', 'sommes', 'serons', 'leur', 'soyons', 'qui', 'ses', 'seras', 'on', 'ma', 'ayez', 'était', 'des', 'vous', 'eussions', 'mes', 'ta', 'l', 'seront', 'et', 'étés', 'fus', 'c', 'y', 'j', 'serait', 'nos', 'étées', 'est', 'aurions', 'eu', 'serais', 'avais', 'lui', 'seraient', 't', 'ont', 'les', 'serez', 'son', 'un', 'fusse', 'auront', 'seriez', 'fussent', 'du', 'ton', 'aies', 'soient', 'n', 'aient', 'te', 'la', 'aurait', 'à', 'eus', 'de', 'me', 'étant', 'au', 'fussiez', 'moi', 'même', 'auras', 'pas', 'eues', 'eut', 'eussent', 'étante', 'aura', 'auraient', 'eûtes', 'êtes', 'ou', 'aux', 'furent', 'été', 'tes', 'aurai', 'eussiez', 'sont', 'se', 'étais'}\n"
     ]
    }
   ],
   "source": [
    "print(stop_words)"
   ]
  },
  {
   "cell_type": "code",
   "execution_count": 49,
   "id": "dc5e62ad",
   "metadata": {},
   "outputs": [
    {
     "name": "stdout",
     "output_type": "stream",
     "text": [
      "before removing stopwords:  this is a sample sentence and we are going to remove the stopwords from this\n",
      "after removing stopwords:  ['sample', 'sentence', 'going', 'remove', 'stopwords']\n"
     ]
    },
    {
     "name": "stderr",
     "output_type": "stream",
     "text": [
      "[nltk_data] Downloading package punkt to\n",
      "[nltk_data]     C:\\Users\\ludovic.souquet\\AppData\\Roaming\\nltk_data...\n",
      "[nltk_data]   Package punkt is already up-to-date!\n",
      "[nltk_data] Downloading package stopwords to\n",
      "[nltk_data]     C:\\Users\\ludovic.souquet\\AppData\\Roaming\\nltk_data...\n",
      "[nltk_data]   Package stopwords is already up-to-date!\n"
     ]
    }
   ],
   "source": [
    "import nltk\n",
    "from nltk.corpus import stopwords\n",
    "from nltk.tokenize import word_tokenize\n",
    "\n",
    "#download th necessary NLTK datasets\n",
    "nltk.download('punkt')\n",
    "nltk.download('stopwords')\n",
    "\n",
    "#remove stopwords function\n",
    "def remove_stopwords(text7):\n",
    "    stop_words = set(stopwords.words('english'))\n",
    "    word_tokens = word_tokenize(text7)\n",
    "    \n",
    "    #filter out the stopwords\n",
    "    filtered_text = [word for word in word_tokens if word.lower() not in stop_words]\n",
    "    \n",
    "    return filtered_text\n",
    "\n",
    "example_text = \"this is a sample sentence and we are going to remove the stopwords from this\"\n",
    "print(\"before removing stopwords: \", example_text)\n",
    "print(\"after removing stopwords: \", remove_stopwords(example_text))"
   ]
  },
  {
   "cell_type": "code",
   "execution_count": 57,
   "id": "e8fae91d",
   "metadata": {},
   "outputs": [
    {
     "data": {
      "text/plain": [
       "['data',\n",
       " 'scienc',\n",
       " 'use',\n",
       " 'scientif',\n",
       " 'method',\n",
       " 'algorithm',\n",
       " 'and',\n",
       " 'mani',\n",
       " 'type',\n",
       " 'of',\n",
       " 'process']"
      ]
     },
     "execution_count": 57,
     "metadata": {},
     "output_type": "execute_result"
    }
   ],
   "source": [
    "# Stemming\n",
    "\n",
    "from nltk.stem.porter import PorterStemmer\n",
    "from nltk.tokenize import word_tokenize\n",
    "stemmer = PorterStemmer()\n",
    "\n",
    "#stem words in the list of tokenized words\n",
    "def stem_words(text8):\n",
    "    word_tokens = word_tokenize(text8)\n",
    "    stem = [stemmer.stem(word) for word in word_tokens]\n",
    "    return stem\n",
    "\n",
    "text = 'data science uses scientific methods algorithms and many types of processes'\n",
    "stem_words(text)"
   ]
  },
  {
   "cell_type": "code",
   "execution_count": 58,
   "id": "8453b8b1",
   "metadata": {},
   "outputs": [
    {
     "name": "stderr",
     "output_type": "stream",
     "text": [
      "[nltk_data] Downloading package punkt to\n",
      "[nltk_data]     C:\\Users\\ludovic.souquet\\AppData\\Roaming\\nltk_data...\n",
      "[nltk_data]   Package punkt is already up-to-date!\n",
      "[nltk_data] Downloading package wordnet to\n",
      "[nltk_data]     C:\\Users\\ludovic.souquet\\AppData\\Roaming\\nltk_data...\n"
     ]
    },
    {
     "data": {
      "text/plain": [
       "['data',\n",
       " 'science',\n",
       " 'us',\n",
       " 'scientific',\n",
       " 'method',\n",
       " 'algorithm',\n",
       " 'and',\n",
       " 'many',\n",
       " 'type',\n",
       " 'of',\n",
       " 'process']"
      ]
     },
     "execution_count": 58,
     "metadata": {},
     "output_type": "execute_result"
    }
   ],
   "source": [
    "#Lemma\n",
    "import nltk\n",
    "from nltk.tokenize import word_tokenize\n",
    "from nltk.stem import WordNetLemmatizer\n",
    "\n",
    "#download th necessary NLTK datasets\n",
    "nltk.download('punkt')\n",
    "nltk.download('wordnet')\n",
    "\n",
    "#Initialize the WordNetLemmatizer\n",
    "lemmatizer = WordNetLemmatizer()\n",
    "\n",
    "#function to lemmatize words in the list of tokenized words\n",
    "def lemma_words(text9):\n",
    "    word_tokens = word_tokenize(text9)\n",
    "    lemmas = [lemmatizer.lemmatize(word) for word in word_tokens]\n",
    "    return lemmas\n",
    "\n",
    "text = 'data science uses scientific methods algorithms and many types of processes'\n",
    "lemma_words(text)"
   ]
  },
  {
   "cell_type": "code",
   "execution_count": 19,
   "id": "05728411",
   "metadata": {},
   "outputs": [
    {
     "name": "stdout",
     "output_type": "stream",
     "text": [
      "67 Y de asking like this. Non-Spam\n",
      "68 We live in the next  &lt;#&gt; mins Non-Spam\n",
      "69 Been running but only managed 5 minutes and then needed oxygen! Might have to resort to the roller option! Non-Spam\n",
      "70 Oh... Haha... Den we shld had went today too... Gee, nvm la... Kaiez, i dun mind goin jazz oso... Scared hiphop open cant catch up...  Non-Spam\n",
      "71 I need an 8th but I'm off campus atm, could I pick up in an hour or two? Non-Spam\n",
      "72 THANX 4 PUTTIN DA FONE DOWN ON ME!! Non-Spam\n",
      "73 And I don't plan on staying the night but I prolly won't be back til late Non-Spam\n",
      "74 Hey j! r u feeling any better, hopeSo hunny. i amnow feelin ill & ithink i may have tonsolitusaswell! damn iam layin in bedreal bored. lotsof luv me xxxx Non-Spam\n",
      "76 Hi did u decide wot 2 get 4 his bday if not ill prob jus get him a voucher frm virgin or sumfing  Non-Spam\n",
      "77 Have you laid your airtel line to rest? Non-Spam\n",
      "78 I'm stuck in da middle of da row on da right hand side of da lt...  Non-Spam\n",
      "79 Full heat pa:-) i have applyed oil pa. Non-Spam\n",
      "80 Carlos is down but I have to pick it up from him, so I'll swing by usf in a little bit Non-Spam\n",
      "81 Yo sorry was in the shower sup Non-Spam\n",
      "82 I had a good time too. Its nice to do something a bit different with my weekends for a change. See ya soon Non-Spam\n",
      "83 It's ok i wun b angry. Msg u aft i come home tonight. Non-Spam\n",
      "84 Right it wasnt you who phoned it was someone with a number like yours! Non-Spam\n",
      "86 Tomorrow i am not going to theatre. . . So i can come wherever u call me. . . Tell me where and when to come tomorrow Non-Spam\n",
      "87 Have you not finished work yet or something? Non-Spam\n",
      "88 I wanted to wish you a Happy New Year and I wanted to talk to you about some legal advice to do with when Gary and I split but in person. I'll make a trip to Ptbo for that. I hope everything is good with you babe and I love ya :) Non-Spam\n",
      "89 I'll see if I can swing by in a bit, got some things to take care of here firsg Non-Spam\n",
      "92 Noooooooo please. Last thing I need is stress. For once in your life be fair. Non-Spam\n",
      "94 Wow didn't think it was that common. I take it all back ur not a freak! Unless u chop it off:-) Non-Spam\n",
      "95 Not course. Only maths one day one chapter with in one month we can finish. Non-Spam\n",
      "96 Hi ....My engagement has been fixd on  &lt;#&gt; th of next month. I know its really shocking bt....hmm njan vilikkam....t ws al of a sudn;-(. Non-Spam\n",
      "97 No plans yet. What are you doing ? Non-Spam\n",
      "101 Not directly behind... Abt 4 rows behind ü... Non-Spam\n",
      "102 :( but your not here.... Non-Spam\n",
      "104 Omg how did u know what I ate? Non-Spam\n",
      "105 CHA QUITEAMUZING THATSCOOL BABE,PROBPOP IN & CU SATTHEN HUNNY 4BREKKIE! LOVE JEN XXX. PSXTRA LRG PORTIONS 4 ME PLEASE  Non-Spam\n",
      "107 At WHAT TIME should i come tomorrow Non-Spam\n",
      "108 hiya hows it going in sunny africa? hope u r avin a good time. give that big old silver back a big kiss from me. Non-Spam\n",
      "109 But you were together so you should be thinkin about him Non-Spam\n",
      "110 Should i buy him a blackberry bold 2 or torch. Should i buy him new or used. Let me know. Plus are you saying i should buy the  &lt;#&gt; g wifi ipad. And what are you saying about the about the  &lt;#&gt; g? Non-Spam\n",
      "111 Honeybee Said: *I'm d Sweetest in d World* God Laughed &amp; Said: *Wait,U Havnt Met d Person Reading This Msg* MORAL: Even GOD Can Crack Jokes! GM+GN+GE+GN:) Non-Spam\n",
      "112 Tell me again what your address is Non-Spam\n",
      "113 Come around  &lt;DECIMAL&gt; pm vikky..i'm otside nw, il come by tht time Non-Spam\n",
      "114 How much u trying to get? Non-Spam\n",
      "115 Good afternoon my boytoy. How goes that walking here and there day ? Did you get that police abstract? Are you still out and about? I wake and miss you babe Non-Spam\n",
      "116 I'm awake oh. What's up. Non-Spam\n",
      "117 Think + da. You wil do. Non-Spam\n",
      "118 PISS IS TALKING IS SOMEONE THAT REALISE U THAT POINT THIS AT IS IT.(NOW READ IT BACKWARDS) Non-Spam\n",
      "119 I am in hospital da. . I will return home in evening Non-Spam\n",
      "120 Gettin rdy to ship comp Non-Spam\n",
      "121 7 wonders in My WORLD 7th You 6th Ur style 5th Ur smile 4th Ur Personality 3rd Ur Nature 2nd Ur SMS and 1st \"Ur Lovely Friendship\"... good morning dear Non-Spam\n",
      "122 Try to do something dear. You read something for exams Non-Spam\n",
      "123 Sun ah... Thk mayb can if dun have anythin on... Thk have to book e lesson... E pilates is at orchard mrt u noe hor...   Non-Spam\n",
      "124 SYMPTOMS when U are in love: \"1.U like listening songs 2.U get stopped where u see the name of your beloved 3.U won't get angry when your Non-Spam\n",
      "125 Great. Have a safe trip. Dont panic surrender all. Non-Spam\n"
     ]
    }
   ],
   "source": [
    "#create df from CSV and read the dataframe\n",
    "import pandas as pd\n",
    "\n",
    "df = pd.read_csv(r'C:\\Users\\ludovic.souquet\\Documents\\GitHub\\ludovic.souquet\\Untitled Folder\\SMS_test.csv' , encoding='unicode_escape' )\n",
    "df.head()\n",
    "\n",
    "for No , Message , label in zip (df[\"S. No.\"] , df[\"Message_body\"] , df[\"Label\"] ) :\n",
    "    if label != \"Spam\":\n",
    "        print(No,Message,label)"
   ]
  },
  {
   "cell_type": "code",
   "execution_count": 15,
   "id": "c5006528",
   "metadata": {},
   "outputs": [
    {
     "data": {
      "text/html": [
       "<div>\n",
       "<style scoped>\n",
       "    .dataframe tbody tr th:only-of-type {\n",
       "        vertical-align: middle;\n",
       "    }\n",
       "\n",
       "    .dataframe tbody tr th {\n",
       "        vertical-align: top;\n",
       "    }\n",
       "\n",
       "    .dataframe thead th {\n",
       "        text-align: right;\n",
       "    }\n",
       "</style>\n",
       "<table border=\"1\" class=\"dataframe\">\n",
       "  <thead>\n",
       "    <tr style=\"text-align: right;\">\n",
       "      <th></th>\n",
       "      <th>S. No.</th>\n",
       "      <th>Message_body</th>\n",
       "      <th>Label</th>\n",
       "    </tr>\n",
       "  </thead>\n",
       "  <tbody>\n",
       "    <tr>\n",
       "      <th>0</th>\n",
       "      <td>1</td>\n",
       "      <td>UpgrdCentre Orange customer, you may now claim...</td>\n",
       "      <td>Spam</td>\n",
       "    </tr>\n",
       "    <tr>\n",
       "      <th>1</th>\n",
       "      <td>2</td>\n",
       "      <td>Loan for any purpose £500 - £75,000. Homeowner...</td>\n",
       "      <td>Spam</td>\n",
       "    </tr>\n",
       "    <tr>\n",
       "      <th>2</th>\n",
       "      <td>3</td>\n",
       "      <td>Congrats! Nokia 3650 video camera phone is you...</td>\n",
       "      <td>Spam</td>\n",
       "    </tr>\n",
       "    <tr>\n",
       "      <th>3</th>\n",
       "      <td>4</td>\n",
       "      <td>URGENT! Your Mobile number has been awarded wi...</td>\n",
       "      <td>Spam</td>\n",
       "    </tr>\n",
       "    <tr>\n",
       "      <th>4</th>\n",
       "      <td>5</td>\n",
       "      <td>Someone has contacted our dating service and e...</td>\n",
       "      <td>Spam</td>\n",
       "    </tr>\n",
       "  </tbody>\n",
       "</table>\n",
       "</div>"
      ],
      "text/plain": [
       "   S. No.                                       Message_body Label\n",
       "0       1  UpgrdCentre Orange customer, you may now claim...  Spam\n",
       "1       2  Loan for any purpose £500 - £75,000. Homeowner...  Spam\n",
       "2       3  Congrats! Nokia 3650 video camera phone is you...  Spam\n",
       "3       4  URGENT! Your Mobile number has been awarded wi...  Spam\n",
       "4       5  Someone has contacted our dating service and e...  Spam"
      ]
     },
     "execution_count": 15,
     "metadata": {},
     "output_type": "execute_result"
    }
   ],
   "source": [
    "import pandas as pd\n",
    "\n",
    "df = pd.read_csv(r'C:\\Users\\ludovic.souquet\\Documents\\GitHub\\ludovic.souquet\\Untitled Folder\\SMS_test.csv', encoding='unicode_escape')\n",
    "df.head()"
   ]
  },
  {
   "cell_type": "code",
   "execution_count": 25,
   "id": "3af6ac83",
   "metadata": {},
   "outputs": [],
   "source": [
    "import re\n",
    "\n",
    "def remove_number(text10):\n",
    "    result = re.sub(r'\\d+','', text10)\n",
    "    return result"
   ]
  },
  {
   "cell_type": "code",
   "execution_count": 26,
   "id": "75c248e1",
   "metadata": {},
   "outputs": [
    {
     "name": "stdout",
     "output_type": "stream",
     "text": [
      "[\"UpgrdCentre Orange customer, you may now claim your FREE CAMERA PHONE upgrade for your loyalty. Call now on   . Offer ends th July. T&C's apply. Opt-out available\", \"Loan for any purpose £ - £,. Homeowners + Tenants welcome. Have you been previously refused? We can still help. Call Free   or text back 'help'\", 'Congrats! Nokia  video camera phone is your Call  Calls cost ppm Ave call mins vary from mobiles + Close  post BCM Ldn WCNXX', 'URGENT! Your Mobile number has been awarded with a £ prize GUARANTEED. Call  from land line. Claim . Valid hrs only', 'Someone has contacted our dating service and entered your phone because they fancy you! To find out who it is call from a landline  . PoBoxntfp', 'Send a logo  ur lover -  names joined by a heart. Txt LOVE NAME NAME MOBNO eg LOVE ADAM EVE  to  Yahoo! POBoxWWQ TxtNO  no ads p', 'FREE entry into our £ weekly competition just text the word WIN to  NOW.  T&C www.txttowin.co.uk', ' dating service cal;l  boxskch', 'FREE RINGTONE text FIRST to  for a poly or text GET to  for a true tone! Help?    after st free, tones are x£pw to e£nd txt stop', 'mths half price Orange line rental & latest camera phones  FREE. Had your phone mths ? Call MobilesDirect free on  to update now! orstoptxt', 'Double mins and txts  months FREE Bluetooth on Orange. Available on Sony, Nokia Motorola phones. Call MobileUpd on  or calloptout/NDX', 'Thanks for your Ringtone Order, Reference T. You will be charged GBP  per week. You can unsubscribe at anytime by calling customer services on ', 'Here is your discount code RP. To stop further messages reply stop. www.regalportfolio.co.uk. Customer Services ', 'Update_Now - Xmas Offer! Latest Motorola, SonyEricsson & Nokia & FREE Bluetooth! Double Mins &  Txt on Orange. Call MobileUpd on  or calloptout/FQ=', 'Ur cash-balance is currently  pounds - to maximize ur cash-in now send CASH to  only p/msg. CC:  HG/Suite/Lands Row/WJHL', 'Congratulations ur awarded  of CD vouchers or gift guaranteed & Free entry   wkly draw txt MUSIC to  TnCs www.Ldew.comwinppmxage', 'Fancy a shag? I do.Interested? sextextuk.com txt XXUK SUZY to . Txts cost . per msg. TnCs on website. X', 'Valentines Day Special! Win over £ in our quiz and take your partner on the trip of a lifetime! Send GO to  now. p/msg rcvd. CustCare:.', 'Call Germany for only  pence per minute! Call from a fixed line via access number    . No prepayment. Direct access!', 'December only! Had your mobile mths+? You are entitled to update to the latest colour camera mobile for Free! Call The Mobile Update Co FREE on ', 'Think ur smart ? Win £ this week in our weekly quiz, text PLAY to  now!T&Cs WinnersClub PO BOX , M UZ. +. GBP./week', 'TheMob> Check out our newest selection of content, Games, Tones, Gossip, babes and sport, Keep your mobile fit and funky text WAP to ', 'SMS. ac Blind Date U!: Rodds is /m from Aberdeen, United Kingdom. Check Him out http://img. sms. ac/W/icmbcktzr!- no Blind Dates send HIDE', \"T-Mobile customer you may now claim your FREE CAMERA PHONE upgrade & a pay & go sim card for your loyalty. Call on   .Offer ends thFeb.T&C's apply\", 'HMV BONUS SPECIAL  pounds of genuine HMV vouchers to be won. Just answer  easy questions. Play Now! Send HMV to  More info:www.percent-real.com', 'Ringtone Club: Get the UK singles chart on your mobile each week and choose any top quality ringtone! This message is free of charge.', 'Ur ringtone service has changed!  Free credits! Go to clubmobiles.com to choose content now! Stop? txt CLUB STOP to . p/wk Club PO Box MK WT', 'Hey I am really horny want to chat or see me naked text hot to  text charged at pm to unsubscribe text stop ', 'We tried to contact you re your reply to our offer of a Video Handset?  anytime networks mins? UNLIMITED TEXT? Camcorder? Reply or call  NOW', 'Congratulations ur awarded  of CD vouchers or gift guaranteed & Free entry   wkly draw txt MUSIC to  TnCs www.Ldew.comwinppmxage', 'U  have a secret admirer who is looking  make contact with U-find out who they R*reveal who thinks UR so special-call on ', 'Text & meet someone sexy today. U can find a date or even flirt its up to U. Join  just p. REPLY with NAME & AGE eg Sam .  -msg recd@thirtyeight pence', 'Will u meet ur dream partner soon? Is ur career off  a flyng start?  find out free, txt HORO followed by ur star sign, e. g. HORO ARIES', ' New Mobiles from , MUST GO! Txt: NOKIA to No:  & collect yours today!From ONLY £ www.-tc.biz optout .gbp/mtmsg', 'Are you unique enough? Find out from th August. www.areyouunique.co.uk', 'Please call our customer service representative on FREEPHONE    between am-pm as you have WON a guaranteed £ cash or £ prize!', 'URGENT! We are trying to contact you. Last weekends draw shows that you have won a £ prize GUARANTEED. Call . Claim code S. Valid hrs only', 'BangBabes Ur order is on the way. U SHOULD receive a Service Msg  download UR content. If U do not, GoTo wap. bangb. tv on UR mobile internet/service menu', '-PLS STOP bootydelious (/F) is inviting you to be her friend. Reply YES- or NO- See her: www.SMS.ac/u/bootydelious STOP? Send STOP FRND to ', 'You are a winner U have been specially selected  receive £ cash or a * holiday (flights inc) speak to a live operator  claim ', 'Customer service annoncement. You have a New Years delivery waiting for you. Please call  now to arrange delivery', \"FreeMsg Why haven't you replied to my text? I'm Randy, sexy, female and live local. Luv to hear from u. Netcollex Ltd p per msg reply Stop to end\", \"You'll not rcv any more msgs from the chat svc. For FREE Hardcore services text GO to:  If u get nothing u must Age Verify with yr network & try again\", \"Want  get laid tonight? Want real Dogging locations sent direct  ur mob? Join the UK's largest Dogging Network bt Txting GRAVEL to ! Nt. eca. p.msg@p\", 'Sunshine Quiz Wkly Q! Win a top Sony DVD player if u know which country the Algarve is in? Txt ansr to . £. SP:Tyrone', 'Todays Voda numbers ending  are selected to receive a $ award. If you have a match please call  quoting claim code  standard rates app', 'URGENT! Your Mobile No. was awarded £ Bonus Caller Prize on // This is our final try to contact U! Call from Landline  BOXWRC, PPM', 'PRIVATE! Your  Account Statement for  shows  unredeemed Bonus Points. To claim call  Identifier Code:  Expires', 'You are a winner U have been specially selected  receive £ or a * holiday (flights inc) speak to a live operator  claim p/min (+) ', 'GENT! We are trying to contact you. Last weekends draw shows that you won a £ prize GUARANTEED. Call . Claim Code K. Valid hrs only. ppm', 'Please call our customer service representative on    between am-pm as you have WON a guaranteed £ cash or £ prize!', 'Did you hear about the new \"Divorce Barbie\"? It comes with all of Ken\\'s stuff!', 'Urgent UR awarded a complimentary trip to EuroDisinc Trav, Aco&Entry Or £. To claim txt DIS to  +*£.(moreFrmMob. ShrAcomOrSglSuplt), LS AJ', 'As a valued customer, I am pleased to advise you that following recent review of your Mob No. you are awarded with a £ Bonus Prize, call ', 'Congrats!  year special cinema pass for  is yours. call  now! C Suprman V, Matrix, StarWars, etc all  FREE! bx-ip-we. pm. Dont miss out! ', 'SMS. ac Sptv: The New Jersey Devils and the Detroit Red Wings play Ice Hockey. Correct or Incorrect? End? Reply END SPTV', ' - Rodger Burns - MSG = We tried to call you re your reply to our sms for a free nokia mobile + free camcorder. Please call now  for delivery tomorrow', 'Thanks for your subscription to Ringtone UK your mobile will be charged £/month Please confirm by replying YES or NO. If you reply NO you will not be charged', 'England v Macedonia - dont miss the goals/team news. Txt ur national team to  eg ENGLAND to  Try:WALES, SCOTLAND txt/ú. POBOXoxWWQ +', 'XXXMobileMovieClub: To use your credit, click the WAP link in the next txt message or click here>> http://wap. xxxmobilemovieclub.com?n=QJKGIGHJJGCBL', 'URGENT! You have won a  week FREE membership in our £, Prize Jackpot! Txt the word: CLAIM to No:  T&C www.dbuk.net LCCLTD POBOX LDNWARW', 'SIX chances to win CASH! From  to , pounds txt> CSH and send to . Cost p/day, days, + TsandCs apply Reply HL  info', 'Had your mobile  months or more? U R entitled to Update to the latest colour mobiles with camera for Free! Call The Mobile Update Co FREE on ', 'WINNER!! As a valued network customer you have been selected to receivea £ prize reward! To claim call . Claim code KL. Valid  hours only.', \"FreeMsg Hey there darling it's been  week's now and no word back! I'd like some fun you up for it still? Tb ok! XxX std chgs to send, £. to rcv\", \"Free entry in  a wkly comp to win FA Cup final tkts st May . Text FA to  to receive entry question(std txt rate)T&C's apply over's\", 'Y de asking like this.', 'We live in the next  &lt;#&gt; mins', 'Been running but only managed  minutes and then needed oxygen! Might have to resort to the roller option!', 'Oh... Haha... Den we shld had went today too... Gee, nvm la... Kaiez, i dun mind goin jazz oso... Scared hiphop open cant catch up... ', \"I need an th but I'm off campus atm, could I pick up in an hour or two?\", 'THANX  PUTTIN DA FONE DOWN ON ME!!', \"And I don't plan on staying the night but I prolly won't be back til late\", 'Hey j! r u feeling any better, hopeSo hunny. i amnow feelin ill & ithink i may have tonsolitusaswell! damn iam layin in bedreal bored. lotsof luv me xxxx', 'FreeMsg: Txt: CALL to No:  & claim your reward of  hours talk time to use from your phone now! SubscribeGBP/mnth inc hrs  stop?txtStop', 'Hi did u decide wot  get  his bday if not ill prob jus get him a voucher frm virgin or sumfing ', 'Have you laid your airtel line to rest?', \"I'm stuck in da middle of da row on da right hand side of da lt... \", 'Full heat pa:-) i have applyed oil pa.', \"Carlos is down but I have to pick it up from him, so I'll swing by usf in a little bit\", 'Yo sorry was in the shower sup', 'I had a good time too. Its nice to do something a bit different with my weekends for a change. See ya soon', \"It's ok i wun b angry. Msg u aft i come home tonight.\", 'Right it wasnt you who phoned it was someone with a number like yours!', 'Well done ENGLAND! Get the official poly ringtone or colour flag on yer mobile! text TONE or FLAG to  NOW! Opt-out txt ENG STOP. Box WWX £.', 'Tomorrow i am not going to theatre. . . So i can come wherever u call me. . . Tell me where and when to come tomorrow', 'Have you not finished work yet or something?', \"I wanted to wish you a Happy New Year and I wanted to talk to you about some legal advice to do with when Gary and I split but in person. I'll make a trip to Ptbo for that. I hope everything is good with you babe and I love ya :)\", \"I'll see if I can swing by in a bit, got some things to take care of here firsg\", 'Mila, age, blonde, new in UK. I look sex with UK guys. if u like fun with me. Text MTALK to . . pp/txt st free. £. increments. Help', 'U have a Secret Admirer who is looking  make contact with U-find out who they R*reveal who thinks UR so special-call on -stopsms-ppm', 'Noooooooo please. Last thing I need is stress. For once in your life be fair.', \"For ur chance to win a £ wkly shopping spree TXT: SHOP to . T's&C's www.txt--shop.com custcare , xp/wk\", \"Wow didn't think it was that common. I take it all back ur not a freak! Unless u chop it off:-)\", 'Not course. Only maths one day one chapter with in one month we can finish.', 'Hi ....My engagement has been fixd on  &lt;#&gt; th of next month. I know its really shocking bt....hmm njan vilikkam....t ws al of a sudn;-(.', 'No plans yet. What are you doing ?', 'Urgent! call  from your landline. Your complimentary * Ibiza Holiday or , cash await collection SAE T&Cs PO BOX  SK WP  ppm +', 'Had your contract mobile  Mnths? Latest Motorola, Nokia etc. all FREE! Double Mins & Text on Orange tariffs. TEXT YES for callback, no to remove from records', 'Congratulations ur awarded  of CD vouchers or gift guaranteed & Free entry   wkly draw txt MUSIC to ', 'Not directly behind... Abt  rows behind ü...', ':( but your not here....', 'URGENT! This is the nd attempt to contact U!U have WON £CALL  b t&csBCMWCNXX.callcostppmmobilesvary. max£. ', 'Omg how did u know what I ate?', 'CHA QUITEAMUZING THAT\\x92SCOOL BABE,PROBPOP IN & CU SATTHEN HUNNY BREKKIE! LOVE JEN XXX. PSXTRA LRG PORTIONS  ME PLEASE ', 'Wanna have a laugh? Try CHIT-CHAT on your mobile now! Logon by txting the word: CHAT and send it to No:  CM PO Box  London WA ZF + p/msg rcvd', 'At WHAT TIME should i come tomorrow', 'hiya hows it going in sunny africa? hope u r avin a good time. give that big old silver back a big kiss from me.', 'But you were together so you should be thinkin about him', 'Should i buy him a blackberry bold  or torch. Should i buy him new or used. Let me know. Plus are you saying i should buy the  &lt;#&gt; g wifi ipad. And what are you saying about the about the  &lt;#&gt; g?', \"Honeybee Said: *I'm d Sweetest in d World* God Laughed &amp; Said: *Wait,U Havnt Met d Person Reading This Msg* MORAL: Even GOD Can Crack Jokes! GM+GN+GE+GN:)\", 'Tell me again what your address is', \"Come around  &lt;DECIMAL&gt; pm vikky..i'm otside nw, il come by tht time\", 'How much u trying to get?', 'Good afternoon my boytoy. How goes that walking here and there day ? Did you get that police abstract? Are you still out and about? I wake and miss you babe', \"I'm awake oh. What's up.\", 'Think + da. You wil do.', 'PISS IS TALKING IS SOMEONE THAT REALISE U THAT POINT THIS AT IS IT.(NOW READ IT BACKWARDS)', 'I am in hospital da. . I will return home in evening', 'Gettin rdy to ship comp', ' wonders in My WORLD th You th Ur style th Ur smile th Ur Personality rd Ur Nature nd Ur SMS and st \"Ur Lovely Friendship\"... good morning dear', 'Try to do something dear. You read something for exams', 'Sun ah... Thk mayb can if dun have anythin on... Thk have to book e lesson... E pilates is at orchard mrt u noe hor...  ', 'SYMPTOMS when U are in love: \".U like listening songs .U get stopped where u see the name of your beloved .U won\\'t get angry when your', 'Great. Have a safe trip. Dont panic surrender all.']\n"
     ]
    }
   ],
   "source": [
    "clean_text = []\n",
    "\n",
    "for text in df['Message_body']:\n",
    "    result = remove_number(text)\n",
    "    clean_text.append(result)\n",
    "print(clean_text)"
   ]
  },
  {
   "cell_type": "code",
   "execution_count": 27,
   "id": "01be522b",
   "metadata": {},
   "outputs": [
    {
     "data": {
      "text/html": [
       "<div>\n",
       "<style scoped>\n",
       "    .dataframe tbody tr th:only-of-type {\n",
       "        vertical-align: middle;\n",
       "    }\n",
       "\n",
       "    .dataframe tbody tr th {\n",
       "        vertical-align: top;\n",
       "    }\n",
       "\n",
       "    .dataframe thead th {\n",
       "        text-align: right;\n",
       "    }\n",
       "</style>\n",
       "<table border=\"1\" class=\"dataframe\">\n",
       "  <thead>\n",
       "    <tr style=\"text-align: right;\">\n",
       "      <th></th>\n",
       "      <th>S. No.</th>\n",
       "      <th>Message_body</th>\n",
       "      <th>Label</th>\n",
       "      <th>clean_text</th>\n",
       "    </tr>\n",
       "  </thead>\n",
       "  <tbody>\n",
       "    <tr>\n",
       "      <th>0</th>\n",
       "      <td>1</td>\n",
       "      <td>UpgrdCentre Orange customer, you may now claim...</td>\n",
       "      <td>Spam</td>\n",
       "      <td>UpgrdCentre Orange customer, you may now claim...</td>\n",
       "    </tr>\n",
       "    <tr>\n",
       "      <th>1</th>\n",
       "      <td>2</td>\n",
       "      <td>Loan for any purpose £500 - £75,000. Homeowner...</td>\n",
       "      <td>Spam</td>\n",
       "      <td>Loan for any purpose £ - £,. Homeowners + Tena...</td>\n",
       "    </tr>\n",
       "    <tr>\n",
       "      <th>2</th>\n",
       "      <td>3</td>\n",
       "      <td>Congrats! Nokia 3650 video camera phone is you...</td>\n",
       "      <td>Spam</td>\n",
       "      <td>Congrats! Nokia  video camera phone is your Ca...</td>\n",
       "    </tr>\n",
       "    <tr>\n",
       "      <th>3</th>\n",
       "      <td>4</td>\n",
       "      <td>URGENT! Your Mobile number has been awarded wi...</td>\n",
       "      <td>Spam</td>\n",
       "      <td>URGENT! Your Mobile number has been awarded wi...</td>\n",
       "    </tr>\n",
       "    <tr>\n",
       "      <th>4</th>\n",
       "      <td>5</td>\n",
       "      <td>Someone has contacted our dating service and e...</td>\n",
       "      <td>Spam</td>\n",
       "      <td>Someone has contacted our dating service and e...</td>\n",
       "    </tr>\n",
       "  </tbody>\n",
       "</table>\n",
       "</div>"
      ],
      "text/plain": [
       "   S. No.                                       Message_body Label  \\\n",
       "0       1  UpgrdCentre Orange customer, you may now claim...  Spam   \n",
       "1       2  Loan for any purpose £500 - £75,000. Homeowner...  Spam   \n",
       "2       3  Congrats! Nokia 3650 video camera phone is you...  Spam   \n",
       "3       4  URGENT! Your Mobile number has been awarded wi...  Spam   \n",
       "4       5  Someone has contacted our dating service and e...  Spam   \n",
       "\n",
       "                                          clean_text  \n",
       "0  UpgrdCentre Orange customer, you may now claim...  \n",
       "1  Loan for any purpose £ - £,. Homeowners + Tena...  \n",
       "2  Congrats! Nokia  video camera phone is your Ca...  \n",
       "3  URGENT! Your Mobile number has been awarded wi...  \n",
       "4  Someone has contacted our dating service and e...  "
      ]
     },
     "execution_count": 27,
     "metadata": {},
     "output_type": "execute_result"
    }
   ],
   "source": [
    "df['clean_text']= clean_text\n",
    "df.head()"
   ]
  },
  {
   "cell_type": "code",
   "execution_count": null,
   "id": "3f617f67",
   "metadata": {},
   "outputs": [],
   "source": []
  }
 ],
 "metadata": {
  "kernelspec": {
   "display_name": "Python 3 (ipykernel)",
   "language": "python",
   "name": "python3"
  },
  "language_info": {
   "codemirror_mode": {
    "name": "ipython",
    "version": 3
   },
   "file_extension": ".py",
   "mimetype": "text/x-python",
   "name": "python",
   "nbconvert_exporter": "python",
   "pygments_lexer": "ipython3",
   "version": "3.11.5"
  }
 },
 "nbformat": 4,
 "nbformat_minor": 5
}
