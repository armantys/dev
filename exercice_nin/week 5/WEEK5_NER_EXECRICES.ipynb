{
 "cells": [
  {
   "cell_type": "code",
   "execution_count": 1,
   "id": "5a8448f5",
   "metadata": {},
   "outputs": [],
   "source": [
    "import spacy\n",
    "# Import necessary libraries\n",
    "from spacy.tokens import DocBin  # For efficient binary serialization of Doc objects\n",
    "from tqdm import tqdm  # For displaying progress bars during long-running operations\n",
    "\n",
    "# Load a new blank spaCy model for the English language\n",
    "nlp = spacy.blank(\"en\")\n",
    "\n",
    "# Initialize a DocBin object\n",
    "# DocBin is used for efficient binary serialization of spaCy's Doc objects\n",
    "# It's particularly useful for creating training data for spaCy models\n",
    "doc_bin = DocBin()\n"
   ]
  },
  {
   "cell_type": "code",
   "execution_count": 2,
   "id": "0c6b2dc1",
   "metadata": {},
   "outputs": [
    {
     "name": "stderr",
     "output_type": "stream",
     "text": [
      "100%|██████████| 700/700 [00:00<00:00, 3147.23it/s]\n"
     ]
    }
   ],
   "source": [
    "# Import necessary functions from spaCy\n",
    "from spacy.util import filter_spans\n",
    "from tqdm import tqdm\n",
    "import spacy\n",
    "from spacy.tokens import DocBin\n",
    "import json  # Ajout de l'importation du module json\n",
    "\n",
    "# Load spaCy model\n",
    "nlp = spacy.blank(\"en\")\n",
    "\n",
    "# Create a DocBin to store the processed documents\n",
    "doc_bin = DocBin()\n",
    "\n",
    "# Read the JSON data from the file\n",
    "with open(\"TESTEset.json\", \"r\", encoding=\"utf-8\") as file:\n",
    "    data = json.load(file)\n",
    "\n",
    "# Process each training example\n",
    "for training_example in tqdm(data):\n",
    "    # Extract text and entity labels from the training example\n",
    "    text = training_example[0]\n",
    "    labels = training_example[1][\"entities\"]\n",
    "\n",
    "    # Create a Doc object from the text without running the full pipeline\n",
    "    doc = nlp.make_doc(text)\n",
    "\n",
    "    # Initialize an empty list to store entity spans\n",
    "    ents = []\n",
    "\n",
    "    # Iterate over the entities in the training example\n",
    "    for start, end, label in labels:\n",
    "        # Create a span for each entity\n",
    "        span = doc.char_span(start, end, label=label, alignment_mode=\"contract\")\n",
    "\n",
    "        # If the span is valid, add it to the list of entities\n",
    "        if span is None:\n",
    "            print(\"Skipping entity\")\n",
    "        else:\n",
    "            ents.append(span)\n",
    "\n",
    "    # Filter overlapping spans to ensure each token is part of at most one entity\n",
    "    filtered_ents = filter_spans(ents)\n",
    "\n",
    "    # Assign the filtered entities to the document\n",
    "    doc.ents = filtered_ents\n",
    "\n",
    "    # Add the processed document to the DocBin\n",
    "    doc_bin.add(doc)\n",
    "\n",
    "# Save the DocBin with the processed documents to disk\n",
    "doc_bin.to_disk(\"train.spacy\")\n"
   ]
  },
  {
   "cell_type": "code",
   "execution_count": 3,
   "id": "a4f27210",
   "metadata": {
    "scrolled": true
   },
   "outputs": [
    {
     "name": "stdout",
     "output_type": "stream",
     "text": [
      "\u001b[38;5;2m[+] Auto-filled config with all values\u001b[0m\n",
      "\u001b[38;5;2m[+] Saved config\u001b[0m\n",
      "config.cfg\n",
      "You can now add your data and train your pipeline:\n",
      "python -m spacy train config.cfg --paths.train ./train.spacy --paths.dev ./dev.spacy\n"
     ]
    }
   ],
   "source": [
    "!python -m spacy init fill-config base_config.cfg config.cfg"
   ]
  },
  {
   "cell_type": "code",
   "execution_count": 4,
   "id": "5a75938a",
   "metadata": {},
   "outputs": [
    {
     "name": "stdout",
     "output_type": "stream",
     "text": [
      "^C\n"
     ]
    }
   ],
   "source": [
    "!python -m spacy train config.cfg --output ./ --paths.train ./train.spacy --paths.dev ./train.spacy"
   ]
  },
  {
   "cell_type": "code",
   "execution_count": null,
   "id": "f31f5b79",
   "metadata": {},
   "outputs": [],
   "source": [
    "nlp_ner = spacy.load(\"model-best\")"
   ]
  },
  {
   "cell_type": "code",
   "execution_count": null,
   "id": "db0c3f25",
   "metadata": {},
   "outputs": [],
   "source": [
    "# Intitalize the colours for the NER\n",
    "\n",
    "colors = {\"QUANTITY\": \"#F67DE3\", \"FOOD\": \"#7DF6D9\", \"PHYSICAL_QUALITY\":\"#a6e22d\", \"PROCESS\":\"#D8D623\", \"UNIT\":\"#EE87D3\"}\n",
    "options = {\"colors\": colors}"
   ]
  },
  {
   "cell_type": "code",
   "execution_count": null,
   "id": "160140f2",
   "metadata": {},
   "outputs": [],
   "source": [
    "doc = nlp_ner(\"\"\"STEP 1\n",
    "Mix 500g strong white flour, 2 tsp salt and a 7g sachet of fast-action yeast in a large bowl.\n",
    "\n",
    "STEP 2\n",
    "Make a well in the centre, then add 3 tbsp olive oil and 300ml water, and mix well. If the dough seems a little stiff, add another 1-2 tbsp water and mix well.\n",
    "\n",
    "STEP 3\n",
    "Tip onto a lightly floured work surface and knead for around 10 mins.\n",
    "\n",
    "STEP 4\n",
    "Once the dough is satin-smooth, place it in a lightly oiled bowl and cover with cling film. Leave to rise for 1 hour until doubled in size or place in the fridge overnight.\n",
    "\n",
    "STEP 5\n",
    "Line a baking tray with baking parchment. Knock back the dough (punch the air out and pull the dough in on itself) then gently mould the dough into a ball.\n",
    "\n",
    "STEP 6\n",
    "Place it on the baking parchment to prove for a further hour until doubled in size.\n",
    "\n",
    "STEP 7\n",
    "Heat oven to 220C/fan 200C/gas 7.\n",
    "\n",
    "STEP 8\n",
    "Dust the loaf with some extra flour and cut a cross about 6cm long into the top of the loaf with a sharp knife.\n",
    "\n",
    "STEP 9\n",
    "Bake for 25-30 mins until golden brown and the loaf sounds hollow when tapped underneath.\"\"\")\n",
    "\n",
    "spacy.displacy.render(doc, style=\"ent\", options= options, jupyter=True)"
   ]
  },
  {
   "cell_type": "code",
   "execution_count": null,
   "id": "63ee9373",
   "metadata": {},
   "outputs": [],
   "source": []
  }
 ],
 "metadata": {
  "kernelspec": {
   "display_name": "Python 3 (ipykernel)",
   "language": "python",
   "name": "python3"
  },
  "language_info": {
   "codemirror_mode": {
    "name": "ipython",
    "version": 3
   },
   "file_extension": ".py",
   "mimetype": "text/x-python",
   "name": "python",
   "nbconvert_exporter": "python",
   "pygments_lexer": "ipython3",
   "version": "3.11.5"
  }
 },
 "nbformat": 4,
 "nbformat_minor": 5
}
