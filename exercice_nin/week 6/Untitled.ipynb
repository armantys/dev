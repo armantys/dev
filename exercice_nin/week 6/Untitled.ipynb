{
 "cells": [
  {
   "cell_type": "code",
   "execution_count": 1,
   "id": "8db11058",
   "metadata": {},
   "outputs": [
    {
     "name": "stdout",
     "output_type": "stream",
     "text": [
      "Defaulting to user installation because normal site-packages is not writeable\n",
      "Requirement already satisfied: vaderSentiment in c:\\users\\ludovic.souquet\\appdata\\roaming\\python\\python311\\site-packages (3.3.2)\n",
      "Requirement already satisfied: requests in c:\\programdata\\anaconda3\\lib\\site-packages (from vaderSentiment) (2.31.0)\n",
      "Requirement already satisfied: charset-normalizer<4,>=2 in c:\\programdata\\anaconda3\\lib\\site-packages (from requests->vaderSentiment) (2.0.4)\n",
      "Requirement already satisfied: idna<4,>=2.5 in c:\\programdata\\anaconda3\\lib\\site-packages (from requests->vaderSentiment) (3.4)\n",
      "Requirement already satisfied: urllib3<3,>=1.21.1 in c:\\programdata\\anaconda3\\lib\\site-packages (from requests->vaderSentiment) (1.26.16)\n",
      "Requirement already satisfied: certifi>=2017.4.17 in c:\\programdata\\anaconda3\\lib\\site-packages (from requests->vaderSentiment) (2023.11.17)\n"
     ]
    }
   ],
   "source": [
    "!pip install vaderSentiment"
   ]
  },
  {
   "cell_type": "code",
   "execution_count": 2,
   "id": "a568157a",
   "metadata": {},
   "outputs": [
    {
     "name": "stdout",
     "output_type": "stream",
     "text": [
      "Defaulting to user installation because normal site-packages is not writeable\n",
      "Requirement already satisfied: flair in c:\\users\\ludovic.souquet\\appdata\\roaming\\python\\python311\\site-packages (0.13.1)\n",
      "Requirement already satisfied: boto3>=1.20.27 in c:\\users\\ludovic.souquet\\appdata\\roaming\\python\\python311\\site-packages (from flair) (1.34.34)\n",
      "Requirement already satisfied: bpemb>=0.3.2 in c:\\users\\ludovic.souquet\\appdata\\roaming\\python\\python311\\site-packages (from flair) (0.3.4)\n",
      "Requirement already satisfied: conllu>=4.0 in c:\\users\\ludovic.souquet\\appdata\\roaming\\python\\python311\\site-packages (from flair) (4.5.3)\n",
      "Requirement already satisfied: deprecated>=1.2.13 in c:\\users\\ludovic.souquet\\appdata\\roaming\\python\\python311\\site-packages (from flair) (1.2.14)\n",
      "Requirement already satisfied: ftfy>=6.1.0 in c:\\users\\ludovic.souquet\\appdata\\roaming\\python\\python311\\site-packages (from flair) (6.1.3)\n",
      "Requirement already satisfied: gdown>=4.4.0 in c:\\users\\ludovic.souquet\\appdata\\roaming\\python\\python311\\site-packages (from flair) (5.1.0)\n",
      "Requirement already satisfied: gensim>=4.2.0 in c:\\programdata\\anaconda3\\lib\\site-packages (from flair) (4.3.0)\n",
      "Requirement already satisfied: huggingface-hub>=0.10.0 in c:\\programdata\\anaconda3\\lib\\site-packages (from flair) (0.15.1)\n",
      "Requirement already satisfied: janome>=0.4.2 in c:\\users\\ludovic.souquet\\appdata\\roaming\\python\\python311\\site-packages (from flair) (0.5.0)\n",
      "Requirement already satisfied: langdetect>=1.0.9 in c:\\users\\ludovic.souquet\\appdata\\roaming\\python\\python311\\site-packages (from flair) (1.0.9)\n",
      "Requirement already satisfied: lxml>=4.8.0 in c:\\programdata\\anaconda3\\lib\\site-packages (from flair) (4.9.3)\n",
      "Requirement already satisfied: matplotlib>=2.2.3 in c:\\programdata\\anaconda3\\lib\\site-packages (from flair) (3.7.2)\n",
      "Requirement already satisfied: more-itertools>=8.13.0 in c:\\users\\ludovic.souquet\\appdata\\roaming\\python\\python311\\site-packages (from flair) (10.2.0)\n",
      "Requirement already satisfied: mpld3>=0.3 in c:\\users\\ludovic.souquet\\appdata\\roaming\\python\\python311\\site-packages (from flair) (0.5.10)\n",
      "Requirement already satisfied: pptree>=3.1 in c:\\users\\ludovic.souquet\\appdata\\roaming\\python\\python311\\site-packages (from flair) (3.1)\n",
      "Requirement already satisfied: python-dateutil>=2.8.2 in c:\\programdata\\anaconda3\\lib\\site-packages (from flair) (2.8.2)\n",
      "Requirement already satisfied: pytorch-revgrad>=0.2.0 in c:\\users\\ludovic.souquet\\appdata\\roaming\\python\\python311\\site-packages (from flair) (0.2.0)\n",
      "Requirement already satisfied: regex>=2022.1.18 in c:\\programdata\\anaconda3\\lib\\site-packages (from flair) (2022.7.9)\n",
      "Requirement already satisfied: scikit-learn>=1.0.2 in c:\\programdata\\anaconda3\\lib\\site-packages (from flair) (1.3.0)\n",
      "Requirement already satisfied: segtok>=1.5.11 in c:\\users\\ludovic.souquet\\appdata\\roaming\\python\\python311\\site-packages (from flair) (1.5.11)\n",
      "Requirement already satisfied: sqlitedict>=2.0.0 in c:\\users\\ludovic.souquet\\appdata\\roaming\\python\\python311\\site-packages (from flair) (2.1.0)\n",
      "Requirement already satisfied: tabulate>=0.8.10 in c:\\programdata\\anaconda3\\lib\\site-packages (from flair) (0.8.10)\n",
      "Requirement already satisfied: torch!=1.8,>=1.5.0 in c:\\users\\ludovic.souquet\\appdata\\roaming\\python\\python311\\site-packages (from flair) (2.2.0)\n",
      "Requirement already satisfied: tqdm>=4.63.0 in c:\\programdata\\anaconda3\\lib\\site-packages (from flair) (4.65.0)\n",
      "Requirement already satisfied: transformer-smaller-training-vocab>=0.2.3 in c:\\users\\ludovic.souquet\\appdata\\roaming\\python\\python311\\site-packages (from flair) (0.3.3)\n",
      "Requirement already satisfied: transformers[sentencepiece]<5.0.0,>=4.18.0 in c:\\programdata\\anaconda3\\lib\\site-packages (from flair) (4.32.1)\n",
      "Requirement already satisfied: urllib3<2.0.0,>=1.0.0 in c:\\programdata\\anaconda3\\lib\\site-packages (from flair) (1.26.16)\n",
      "Requirement already satisfied: wikipedia-api>=0.5.7 in c:\\users\\ludovic.souquet\\appdata\\roaming\\python\\python311\\site-packages (from flair) (0.6.0)\n",
      "Requirement already satisfied: semver<4.0.0,>=3.0.0 in c:\\users\\ludovic.souquet\\appdata\\roaming\\python\\python311\\site-packages (from flair) (3.0.2)\n",
      "Requirement already satisfied: botocore<1.35.0,>=1.34.34 in c:\\users\\ludovic.souquet\\appdata\\roaming\\python\\python311\\site-packages (from boto3>=1.20.27->flair) (1.34.34)\n",
      "Requirement already satisfied: jmespath<2.0.0,>=0.7.1 in c:\\programdata\\anaconda3\\lib\\site-packages (from boto3>=1.20.27->flair) (0.10.0)\n",
      "Requirement already satisfied: s3transfer<0.11.0,>=0.10.0 in c:\\users\\ludovic.souquet\\appdata\\roaming\\python\\python311\\site-packages (from boto3>=1.20.27->flair) (0.10.0)\n",
      "Requirement already satisfied: numpy in c:\\programdata\\anaconda3\\lib\\site-packages (from bpemb>=0.3.2->flair) (1.24.3)\n",
      "Requirement already satisfied: requests in c:\\programdata\\anaconda3\\lib\\site-packages (from bpemb>=0.3.2->flair) (2.31.0)\n",
      "Requirement already satisfied: sentencepiece in c:\\users\\ludovic.souquet\\appdata\\roaming\\python\\python311\\site-packages (from bpemb>=0.3.2->flair) (0.1.99)\n",
      "Requirement already satisfied: wrapt<2,>=1.10 in c:\\programdata\\anaconda3\\lib\\site-packages (from deprecated>=1.2.13->flair) (1.14.1)\n",
      "Requirement already satisfied: wcwidth<0.3.0,>=0.2.12 in c:\\users\\ludovic.souquet\\appdata\\roaming\\python\\python311\\site-packages (from ftfy>=6.1.0->flair) (0.2.13)\n",
      "Requirement already satisfied: beautifulsoup4 in c:\\programdata\\anaconda3\\lib\\site-packages (from gdown>=4.4.0->flair) (4.12.2)\n",
      "Requirement already satisfied: filelock in c:\\programdata\\anaconda3\\lib\\site-packages (from gdown>=4.4.0->flair) (3.9.0)\n",
      "Requirement already satisfied: scipy>=1.7.0 in c:\\programdata\\anaconda3\\lib\\site-packages (from gensim>=4.2.0->flair) (1.11.1)\n",
      "Requirement already satisfied: smart-open>=1.8.1 in c:\\programdata\\anaconda3\\lib\\site-packages (from gensim>=4.2.0->flair) (5.2.1)\n",
      "Requirement already satisfied: FuzzyTM>=0.4.0 in c:\\users\\ludovic.souquet\\appdata\\roaming\\python\\python311\\site-packages (from gensim>=4.2.0->flair) (2.0.5)\n",
      "Requirement already satisfied: fsspec in c:\\programdata\\anaconda3\\lib\\site-packages (from huggingface-hub>=0.10.0->flair) (2023.4.0)\n",
      "Requirement already satisfied: pyyaml>=5.1 in c:\\programdata\\anaconda3\\lib\\site-packages (from huggingface-hub>=0.10.0->flair) (6.0)\n",
      "Requirement already satisfied: typing-extensions>=3.7.4.3 in c:\\users\\ludovic.souquet\\appdata\\roaming\\python\\python311\\site-packages (from huggingface-hub>=0.10.0->flair) (4.9.0)\n",
      "Requirement already satisfied: packaging>=20.9 in c:\\programdata\\anaconda3\\lib\\site-packages (from huggingface-hub>=0.10.0->flair) (23.1)\n",
      "Requirement already satisfied: six in c:\\programdata\\anaconda3\\lib\\site-packages (from langdetect>=1.0.9->flair) (1.16.0)\n",
      "Requirement already satisfied: contourpy>=1.0.1 in c:\\programdata\\anaconda3\\lib\\site-packages (from matplotlib>=2.2.3->flair) (1.0.5)\n",
      "Requirement already satisfied: cycler>=0.10 in c:\\programdata\\anaconda3\\lib\\site-packages (from matplotlib>=2.2.3->flair) (0.11.0)\n",
      "Requirement already satisfied: fonttools>=4.22.0 in c:\\programdata\\anaconda3\\lib\\site-packages (from matplotlib>=2.2.3->flair) (4.25.0)\n",
      "Requirement already satisfied: kiwisolver>=1.0.1 in c:\\programdata\\anaconda3\\lib\\site-packages (from matplotlib>=2.2.3->flair) (1.4.4)\n",
      "Requirement already satisfied: pillow>=6.2.0 in c:\\programdata\\anaconda3\\lib\\site-packages (from matplotlib>=2.2.3->flair) (10.0.1)\n",
      "Requirement already satisfied: pyparsing<3.1,>=2.3.1 in c:\\programdata\\anaconda3\\lib\\site-packages (from matplotlib>=2.2.3->flair) (3.0.9)\n",
      "Requirement already satisfied: jinja2 in c:\\programdata\\anaconda3\\lib\\site-packages (from mpld3>=0.3->flair) (3.1.2)\n",
      "Requirement already satisfied: joblib>=1.1.1 in c:\\programdata\\anaconda3\\lib\\site-packages (from scikit-learn>=1.0.2->flair) (1.2.0)\n",
      "Requirement already satisfied: threadpoolctl>=2.0.0 in c:\\programdata\\anaconda3\\lib\\site-packages (from scikit-learn>=1.0.2->flair) (2.2.0)\n",
      "Requirement already satisfied: sympy in c:\\programdata\\anaconda3\\lib\\site-packages (from torch!=1.8,>=1.5.0->flair) (1.11.1)\n",
      "Requirement already satisfied: networkx in c:\\programdata\\anaconda3\\lib\\site-packages (from torch!=1.8,>=1.5.0->flair) (3.1)\n",
      "Requirement already satisfied: colorama in c:\\programdata\\anaconda3\\lib\\site-packages (from tqdm>=4.63.0->flair) (0.4.6)\n",
      "Requirement already satisfied: tokenizers!=0.11.3,<0.14,>=0.11.1 in c:\\programdata\\anaconda3\\lib\\site-packages (from transformers[sentencepiece]<5.0.0,>=4.18.0->flair) (0.13.2)\n",
      "Requirement already satisfied: safetensors>=0.3.1 in c:\\programdata\\anaconda3\\lib\\site-packages (from transformers[sentencepiece]<5.0.0,>=4.18.0->flair) (0.3.2)\n",
      "Requirement already satisfied: protobuf in c:\\users\\ludovic.souquet\\appdata\\roaming\\python\\python311\\site-packages (from transformers[sentencepiece]<5.0.0,>=4.18.0->flair) (4.25.2)\n",
      "Requirement already satisfied: pandas in c:\\programdata\\anaconda3\\lib\\site-packages (from FuzzyTM>=0.4.0->gensim>=4.2.0->flair) (2.0.3)\n",
      "Requirement already satisfied: pyfume in c:\\users\\ludovic.souquet\\appdata\\roaming\\python\\python311\\site-packages (from FuzzyTM>=0.4.0->gensim>=4.2.0->flair) (0.2.25)\n",
      "Requirement already satisfied: accelerate>=0.20.3 in c:\\users\\ludovic.souquet\\appdata\\roaming\\python\\python311\\site-packages (from transformers[sentencepiece]<5.0.0,>=4.18.0->flair) (0.26.1)\n",
      "Requirement already satisfied: soupsieve>1.2 in c:\\programdata\\anaconda3\\lib\\site-packages (from beautifulsoup4->gdown>=4.4.0->flair) (2.4)\n",
      "Requirement already satisfied: MarkupSafe>=2.0 in c:\\programdata\\anaconda3\\lib\\site-packages (from jinja2->mpld3>=0.3->flair) (2.1.1)\n",
      "Requirement already satisfied: charset-normalizer<4,>=2 in c:\\programdata\\anaconda3\\lib\\site-packages (from requests->bpemb>=0.3.2->flair) (2.0.4)\n",
      "Requirement already satisfied: idna<4,>=2.5 in c:\\programdata\\anaconda3\\lib\\site-packages (from requests->bpemb>=0.3.2->flair) (3.4)\n",
      "Requirement already satisfied: certifi>=2017.4.17 in c:\\programdata\\anaconda3\\lib\\site-packages (from requests->bpemb>=0.3.2->flair) (2023.11.17)\n",
      "Requirement already satisfied: PySocks!=1.5.7,>=1.5.6 in c:\\programdata\\anaconda3\\lib\\site-packages (from requests->bpemb>=0.3.2->flair) (1.7.1)\n",
      "Requirement already satisfied: mpmath>=0.19 in c:\\programdata\\anaconda3\\lib\\site-packages (from sympy->torch!=1.8,>=1.5.0->flair) (1.3.0)\n",
      "Requirement already satisfied: psutil in c:\\programdata\\anaconda3\\lib\\site-packages (from accelerate>=0.20.3->transformers[sentencepiece]<5.0.0,>=4.18.0->flair) (5.9.0)\n",
      "Requirement already satisfied: pytz>=2020.1 in c:\\programdata\\anaconda3\\lib\\site-packages (from pandas->FuzzyTM>=0.4.0->gensim>=4.2.0->flair) (2023.3.post1)\n",
      "Requirement already satisfied: tzdata>=2022.1 in c:\\programdata\\anaconda3\\lib\\site-packages (from pandas->FuzzyTM>=0.4.0->gensim>=4.2.0->flair) (2023.3)\n",
      "Requirement already satisfied: simpful in c:\\users\\ludovic.souquet\\appdata\\roaming\\python\\python311\\site-packages (from pyfume->FuzzyTM>=0.4.0->gensim>=4.2.0->flair) (2.11.1)\n",
      "Requirement already satisfied: fst-pso in c:\\users\\ludovic.souquet\\appdata\\roaming\\python\\python311\\site-packages (from pyfume->FuzzyTM>=0.4.0->gensim>=4.2.0->flair) (1.8.1)\n",
      "Requirement already satisfied: miniful in c:\\users\\ludovic.souquet\\appdata\\roaming\\python\\python311\\site-packages (from fst-pso->pyfume->FuzzyTM>=0.4.0->gensim>=4.2.0->flair) (0.0.6)\n"
     ]
    }
   ],
   "source": [
    "!pip install flair"
   ]
  },
  {
   "cell_type": "code",
   "execution_count": 3,
   "id": "47bfdae1",
   "metadata": {},
   "outputs": [
    {
     "name": "stderr",
     "output_type": "stream",
     "text": [
      "C:\\ProgramData\\anaconda3\\Lib\\site-packages\\transformers\\utils\\generic.py:260: UserWarning: torch.utils._pytree._register_pytree_node is deprecated. Please use torch.utils._pytree.register_pytree_node instead.\n",
      "  torch.utils._pytree._register_pytree_node(\n",
      "C:\\ProgramData\\anaconda3\\Lib\\site-packages\\transformers\\utils\\generic.py:260: UserWarning: torch.utils._pytree._register_pytree_node is deprecated. Please use torch.utils._pytree.register_pytree_node instead.\n",
      "  torch.utils._pytree._register_pytree_node(\n"
     ]
    }
   ],
   "source": [
    "# Import the necessary libraries/packages\n",
    "# Data processing\n",
    "import pandas as pd\n",
    "import numpy as np\n",
    "\n",
    "# Import TextBlob\n",
    "from textblob import TextBlob\n",
    "\n",
    "# Import VADER sentiment\n",
    "from vaderSentiment.vaderSentiment import SentimentIntensityAnalyzer\n",
    "\n",
    "# Import flair pre-trained sentiment model\n",
    "from flair.models import TextClassifier\n",
    "classifier = TextClassifier.load('en-sentiment')\n",
    "\n",
    "# Import flair Sentence to process input text\n",
    "from flair.data import Sentence\n",
    "\n",
    "# Import accuracy_score to check performance\n",
    "from sklearn.metrics import accuracy_score, precision_score, recall_score, f1_score"
   ]
  },
  {
   "cell_type": "code",
   "execution_count": 4,
   "id": "de7dfb11",
   "metadata": {},
   "outputs": [
    {
     "name": "stdout",
     "output_type": "stream",
     "text": [
      "Defaulting to user installation because normal site-packages is not writeable\n",
      "Requirement already satisfied: textblob in c:\\users\\ludovic.souquet\\appdata\\roaming\\python\\python311\\site-packages (0.17.1)\n",
      "Requirement already satisfied: nltk>=3.1 in c:\\programdata\\anaconda3\\lib\\site-packages (from textblob) (3.8.1)\n",
      "Requirement already satisfied: click in c:\\programdata\\anaconda3\\lib\\site-packages (from nltk>=3.1->textblob) (8.0.4)\n",
      "Requirement already satisfied: joblib in c:\\programdata\\anaconda3\\lib\\site-packages (from nltk>=3.1->textblob) (1.2.0)\n",
      "Requirement already satisfied: regex>=2021.8.3 in c:\\programdata\\anaconda3\\lib\\site-packages (from nltk>=3.1->textblob) (2022.7.9)\n",
      "Requirement already satisfied: tqdm in c:\\programdata\\anaconda3\\lib\\site-packages (from nltk>=3.1->textblob) (4.65.0)\n",
      "Requirement already satisfied: colorama in c:\\programdata\\anaconda3\\lib\\site-packages (from click->nltk>=3.1->textblob) (0.4.6)\n"
     ]
    }
   ],
   "source": [
    "!pip install -U textblob"
   ]
  },
  {
   "cell_type": "code",
   "execution_count": 5,
   "id": "5b6cec16",
   "metadata": {},
   "outputs": [
    {
     "data": {
      "text/html": [
       "<div>\n",
       "<style scoped>\n",
       "    .dataframe tbody tr th:only-of-type {\n",
       "        vertical-align: middle;\n",
       "    }\n",
       "\n",
       "    .dataframe tbody tr th {\n",
       "        vertical-align: top;\n",
       "    }\n",
       "\n",
       "    .dataframe thead th {\n",
       "        text-align: right;\n",
       "    }\n",
       "</style>\n",
       "<table border=\"1\" class=\"dataframe\">\n",
       "  <thead>\n",
       "    <tr style=\"text-align: right;\">\n",
       "      <th></th>\n",
       "      <th>review</th>\n",
       "      <th>label</th>\n",
       "    </tr>\n",
       "  </thead>\n",
       "  <tbody>\n",
       "    <tr>\n",
       "      <th>0</th>\n",
       "      <td>Wow... Loved this place.</td>\n",
       "      <td>1</td>\n",
       "    </tr>\n",
       "    <tr>\n",
       "      <th>1</th>\n",
       "      <td>Crust is not good.</td>\n",
       "      <td>0</td>\n",
       "    </tr>\n",
       "    <tr>\n",
       "      <th>2</th>\n",
       "      <td>Not tasty and the texture was just nasty.</td>\n",
       "      <td>0</td>\n",
       "    </tr>\n",
       "    <tr>\n",
       "      <th>3</th>\n",
       "      <td>Stopped by during the late May bank holiday of...</td>\n",
       "      <td>1</td>\n",
       "    </tr>\n",
       "    <tr>\n",
       "      <th>4</th>\n",
       "      <td>The selection on the menu was great and so wer...</td>\n",
       "      <td>1</td>\n",
       "    </tr>\n",
       "  </tbody>\n",
       "</table>\n",
       "</div>"
      ],
      "text/plain": [
       "                                              review  label\n",
       "0                           Wow... Loved this place.      1\n",
       "1                                 Crust is not good.      0\n",
       "2          Not tasty and the texture was just nasty.      0\n",
       "3  Stopped by during the late May bank holiday of...      1\n",
       "4  The selection on the menu was great and so wer...      1"
      ]
     },
     "execution_count": 5,
     "metadata": {},
     "output_type": "execute_result"
    }
   ],
   "source": [
    "# Read in data\n",
    "amz_review = pd.read_csv('datasets/yelp_labelled.txt', sep='\\t', names=['review', 'label'])\n",
    "\n",
    "# Take a look at the data\n",
    "amz_review.head()"
   ]
  },
  {
   "cell_type": "code",
   "execution_count": 6,
   "id": "5c5ee5f5",
   "metadata": {},
   "outputs": [
    {
     "name": "stdout",
     "output_type": "stream",
     "text": [
      "<class 'pandas.core.frame.DataFrame'>\n",
      "RangeIndex: 1000 entries, 0 to 999\n",
      "Data columns (total 2 columns):\n",
      " #   Column  Non-Null Count  Dtype \n",
      "---  ------  --------------  ----- \n",
      " 0   review  1000 non-null   object\n",
      " 1   label   1000 non-null   int64 \n",
      "dtypes: int64(1), object(1)\n",
      "memory usage: 15.8+ KB\n"
     ]
    }
   ],
   "source": [
    "# Get the dataset information\n",
    "amz_review.info()"
   ]
  },
  {
   "cell_type": "code",
   "execution_count": 7,
   "id": "fb6d0c07",
   "metadata": {},
   "outputs": [
    {
     "data": {
      "text/plain": [
       "label\n",
       "1    500\n",
       "0    500\n",
       "Name: count, dtype: int64"
      ]
     },
     "execution_count": 7,
     "metadata": {},
     "output_type": "execute_result"
    }
   ],
   "source": [
    "# Check the label distribution\n",
    "amz_review['label'].value_counts()"
   ]
  },
  {
   "cell_type": "code",
   "execution_count": 8,
   "id": "ffaba7d0",
   "metadata": {},
   "outputs": [
    {
     "name": "stdout",
     "output_type": "stream",
     "text": [
      "Finished.\n"
     ]
    },
    {
     "name": "stderr",
     "output_type": "stream",
     "text": [
      "[nltk_data] Downloading package brown to\n",
      "[nltk_data]     C:\\Users\\ludovic.souquet\\AppData\\Roaming\\nltk_data...\n",
      "[nltk_data]   Package brown is already up-to-date!\n",
      "[nltk_data] Downloading package punkt to\n",
      "[nltk_data]     C:\\Users\\ludovic.souquet\\AppData\\Roaming\\nltk_data...\n",
      "[nltk_data]   Package punkt is already up-to-date!\n",
      "[nltk_data] Downloading package wordnet to\n",
      "[nltk_data]     C:\\Users\\ludovic.souquet\\AppData\\Roaming\\nltk_data...\n",
      "[nltk_data]   Package wordnet is already up-to-date!\n",
      "[nltk_data] Downloading package averaged_perceptron_tagger to\n",
      "[nltk_data]     C:\\Users\\ludovic.souquet\\AppData\\Roaming\\nltk_data...\n",
      "[nltk_data]   Package averaged_perceptron_tagger is already up-to-\n",
      "[nltk_data]       date!\n",
      "[nltk_data] Downloading package conll2000 to\n",
      "[nltk_data]     C:\\Users\\ludovic.souquet\\AppData\\Roaming\\nltk_data...\n",
      "[nltk_data]   Package conll2000 is already up-to-date!\n",
      "[nltk_data] Downloading package movie_reviews to\n",
      "[nltk_data]     C:\\Users\\ludovic.souquet\\AppData\\Roaming\\nltk_data...\n",
      "[nltk_data]   Package movie_reviews is already up-to-date!\n"
     ]
    }
   ],
   "source": [
    "!python -m textblob.download_corpora\n",
    "# to executes the TextBlob module's script to download necessary data,\n",
    "# including datasets and corpora used for tasks like part-of-speech tagging, noun phrase extraction, and sentiment analysis."
   ]
  },
  {
   "cell_type": "code",
   "execution_count": 9,
   "id": "6cc4f91c",
   "metadata": {},
   "outputs": [
    {
     "name": "stdout",
     "output_type": "stream",
     "text": [
      "Pattern Analyzer Sentiment:\n",
      "Polarity: 0.75\n",
      "Subjectivity: 0.8\n",
      "\n",
      "Naive Bayes Analyzer Sentiment:\n",
      "Classification: pos\n",
      "Positive Probability: 0.6560203571571461\n",
      "Negative Probability: 0.34397964284285404\n"
     ]
    }
   ],
   "source": [
    "from textblob.sentiments import NaiveBayesAnalyzer\n",
    "\n",
    "# Example text\n",
    "text = \"I love this product, it's absolutely wonderful!\"\n",
    "\n",
    "# Using Pattern Analyzer\n",
    "blob_pattern = TextBlob(text)\n",
    "print(\"Pattern Analyzer Sentiment:\")\n",
    "print(\"Polarity:\", blob_pattern.sentiment.polarity)\n",
    "print(\"Subjectivity:\", blob_pattern.sentiment.subjectivity)\n",
    "\n",
    "# Using Naive Bayes Analyzer\n",
    "blob_naivebayes = TextBlob(text, analyzer=NaiveBayesAnalyzer())\n",
    "print(\"\\nNaive Bayes Analyzer Sentiment:\")\n",
    "print(\"Classification:\", blob_naivebayes.sentiment.classification)\n",
    "print(\"Positive Probability:\", blob_naivebayes.sentiment.p_pos)\n",
    "print(\"Negative Probability:\", blob_naivebayes.sentiment.p_neg)"
   ]
  },
  {
   "cell_type": "code",
   "execution_count": 10,
   "id": "f3c3479f",
   "metadata": {},
   "outputs": [
    {
     "name": "stdout",
     "output_type": "stream",
     "text": [
      "Word: happy, Sentiment: Sentiment(polarity=0.8, subjectivity=1.0)\n",
      "Word: sad, Sentiment: Sentiment(polarity=-0.5, subjectivity=1.0)\n",
      "Word: neutral, Sentiment: Sentiment(polarity=0.0, subjectivity=0.0)\n",
      "Word: exciting, Sentiment: Sentiment(polarity=0.3, subjectivity=0.8)\n",
      "Word: frustrating, Sentiment: Sentiment(polarity=-0.4, subjectivity=0.9)\n",
      "Word: crazy, Sentiment: Sentiment(polarity=-0.6, subjectivity=0.9)\n",
      "Word: yummy, Sentiment: Sentiment(polarity=0.0, subjectivity=0.0)\n",
      "Word: :D, Sentiment: Sentiment(polarity=1.0, subjectivity=1.0)\n",
      "Word: }:(, Sentiment: Sentiment(polarity=-0.75, subjectivity=1.0)\n"
     ]
    }
   ],
   "source": [
    "# List of words to check\n",
    "words = [\"happy\", \"sad\", \"neutral\", \"exciting\", \"frustrating\",\"crazy\",\"yummy\", \":D\", \"}:(\"]\n",
    "\n",
    "# Checking the sentiment of each word\n",
    "for word in words:\n",
    "    blob = TextBlob(word)\n",
    "    print(f\"Word: {word}, Sentiment: {blob.sentiment}\")"
   ]
  },
  {
   "cell_type": "code",
   "execution_count": 11,
   "id": "c827bbd7",
   "metadata": {},
   "outputs": [
    {
     "data": {
      "text/plain": [
       "Sentiment(polarity=-0.5, subjectivity=1.0)"
      ]
     },
     "execution_count": 11,
     "metadata": {},
     "output_type": "execute_result"
    }
   ],
   "source": [
    "# Example text\n",
    "text = 'it\\'s so sad.'\n",
    "\n",
    "# TextBlob sentiment\n",
    "textBlob_sentiment = TextBlob(text).sentiment\n",
    "textBlob_sentiment"
   ]
  },
  {
   "cell_type": "code",
   "execution_count": 12,
   "id": "060b3907",
   "metadata": {},
   "outputs": [
    {
     "data": {
      "text/plain": [
       "Sentiment(polarity=0.65, subjectivity=0.65)"
      ]
     },
     "execution_count": 12,
     "metadata": {},
     "output_type": "execute_result"
    }
   ],
   "source": [
    "# Example text\n",
    "text = 'It is a very interesting movie.'\n",
    "\n",
    "# TextBlob sentiment\n",
    "textBlob_sentiment = TextBlob(text).sentiment\n",
    "textBlob_sentiment"
   ]
  },
  {
   "cell_type": "code",
   "execution_count": 13,
   "id": "7e79ec68",
   "metadata": {},
   "outputs": [
    {
     "data": {
      "text/plain": [
       "0.65"
      ]
     },
     "execution_count": 13,
     "metadata": {},
     "output_type": "execute_result"
    }
   ],
   "source": [
    "# Extract sentiment score\n",
    "textBlob_sentiment.polarity"
   ]
  },
  {
   "cell_type": "code",
   "execution_count": 14,
   "id": "af816ef0",
   "metadata": {},
   "outputs": [
    {
     "data": {
      "text/plain": [
       "Sentiment(polarity=-0.5, subjectivity=1.0)"
      ]
     },
     "execution_count": 14,
     "metadata": {},
     "output_type": "execute_result"
    }
   ],
   "source": [
    "text2 = \"This movie is sad.\"\n",
    "\n",
    "# TextBlob sentiment\n",
    "textBlob_sentiment2 = TextBlob(text2).sentiment\n",
    "textBlob_sentiment2"
   ]
  },
  {
   "cell_type": "code",
   "execution_count": 15,
   "id": "24aab9b6",
   "metadata": {},
   "outputs": [
    {
     "data": {
      "text/plain": [
       "-0.5"
      ]
     },
     "execution_count": 15,
     "metadata": {},
     "output_type": "execute_result"
    }
   ],
   "source": [
    "textBlob_sentiment2.polarity"
   ]
  },
  {
   "cell_type": "code",
   "execution_count": 16,
   "id": "44ce3fb1",
   "metadata": {},
   "outputs": [
    {
     "name": "stdout",
     "output_type": "stream",
     "text": [
      "Classification: neg\n",
      "Positive Probability: 0.4512680959058136\n",
      "Negative Probability: 0.5487319040941867\n"
     ]
    }
   ],
   "source": [
    "# TextBlob sentiment using Naive Bayes Analyzer\n",
    "blob_naivebayes = TextBlob(text2, analyzer=NaiveBayesAnalyzer())\n",
    "print(\"Classification:\", blob_naivebayes.sentiment.classification)\n",
    "print(\"Positive Probability:\", blob_naivebayes.sentiment.p_pos)\n",
    "print(\"Negative Probability:\", blob_naivebayes.sentiment.p_neg)"
   ]
  },
  {
   "cell_type": "code",
   "execution_count": 17,
   "id": "77a490fa",
   "metadata": {},
   "outputs": [
    {
     "data": {
      "text/plain": [
       "Sentiment(polarity=0.5, subjectivity=0.6)"
      ]
     },
     "execution_count": 17,
     "metadata": {},
     "output_type": "execute_result"
    }
   ],
   "source": [
    "text3 = \"i love cooking.\"\n",
    "\n",
    "# TextBlob sentiment\n",
    "textBlob_sentiment3 = TextBlob(text3).sentiment\n",
    "textBlob_sentiment3"
   ]
  },
  {
   "cell_type": "code",
   "execution_count": 18,
   "id": "d1b0ef0d",
   "metadata": {},
   "outputs": [
    {
     "data": {
      "text/plain": [
       "-0.5"
      ]
     },
     "execution_count": 18,
     "metadata": {},
     "output_type": "execute_result"
    }
   ],
   "source": [
    "# Extract sentiment score\n",
    "textBlob_sentiment2.polarity"
   ]
  },
  {
   "cell_type": "code",
   "execution_count": 19,
   "id": "d8c8d068",
   "metadata": {},
   "outputs": [
    {
     "name": "stdout",
     "output_type": "stream",
     "text": [
      "Classification: pos\n",
      "Positive Probability: 0.5129615458197816\n",
      "Negative Probability: 0.4870384541802183\n"
     ]
    }
   ],
   "source": [
    "# TextBlob sentiment using Naive Bayes Analyzer\n",
    "blob_naivebayes = TextBlob(text3, analyzer=NaiveBayesAnalyzer())\n",
    "print(\"Classification:\", blob_naivebayes.sentiment.classification)\n",
    "print(\"Positive Probability:\", blob_naivebayes.sentiment.p_pos)\n",
    "print(\"Negative Probability:\", blob_naivebayes.sentiment.p_neg)"
   ]
  },
  {
   "cell_type": "code",
   "execution_count": 20,
   "id": "adf50214",
   "metadata": {},
   "outputs": [
    {
     "name": "stdout",
     "output_type": "stream",
     "text": [
      "wrong: -2.1\n",
      "wronged: -1.9\n",
      "yay: 2.4\n",
      "yeah: 1.2\n",
      "yearning: 0.5\n",
      "yeees: 1.7\n",
      "yep: 1.2\n",
      "yes: 1.7\n",
      "youthful: 1.3\n",
      "yucky: -1.8\n",
      "yummy: 2.4\n",
      "zealot: -1.9\n",
      "zealots: -0.8\n",
      "zealous: 0.5\n",
      "{:: 1.8\n",
      "|-0: -1.2\n",
      "|-:: -0.8\n",
      "|-:>: -1.6\n",
      "|-o: -1.2\n",
      "|:: -0.5\n",
      "|;-): 2.2\n",
      "|=: -0.4\n",
      "|^:: -1.1\n",
      "|o:: -0.9\n",
      "||-:: -2.3\n",
      "}:: -2.1\n",
      "}:(: -2.0\n",
      "}:): 0.4\n",
      "}:-(: -2.1\n",
      "}:-): 0.3\n"
     ]
    },
    {
     "name": "stderr",
     "output_type": "stream",
     "text": [
      "[nltk_data] Downloading package vader_lexicon to\n",
      "[nltk_data]     C:\\Users\\ludovic.souquet\\AppData\\Roaming\\nltk_data...\n",
      "[nltk_data]   Package vader_lexicon is already up-to-date!\n"
     ]
    }
   ],
   "source": [
    "# Take a peek on VADER's lexicon\n",
    "import nltk\n",
    "\n",
    "# Download VADER lexicon\n",
    "nltk.download('vader_lexicon')\n",
    "\n",
    "# Import the SentimentIntensityAnalyzer\n",
    "from nltk.sentiment.vader import SentimentIntensityAnalyzer\n",
    "\n",
    "# Create an instance of SentimentIntensityAnalyzer\n",
    "sid = SentimentIntensityAnalyzer()\n",
    "\n",
    "# Accessing the lexicon (a dictionary of words and their sentiment scores)\n",
    "vader_lexicon = sid.lexicon\n",
    "\n",
    "# Displaying a portion of the lexicon\n",
    "for word in list(vader_lexicon.keys())[-30:]:  # Display last 30 words for brevity\n",
    "    print(f\"{word}: {vader_lexicon[word]}\")"
   ]
  },
  {
   "cell_type": "code",
   "execution_count": 21,
   "id": "d1264703",
   "metadata": {},
   "outputs": [
    {
     "data": {
      "text/plain": [
       "{'neg': 0.0, 'neu': 0.556, 'pos': 0.444, 'compound': 0.4927}"
      ]
     },
     "execution_count": 21,
     "metadata": {},
     "output_type": "execute_result"
    }
   ],
   "source": [
    "# Example text\n",
    "text = 'this dog is very funny.'\n",
    "\n",
    "# VADER Sentiment\n",
    "vader = SentimentIntensityAnalyzer()\n",
    "vader_sentiment = vader.polarity_scores(text)\n",
    "vader_sentiment"
   ]
  },
  {
   "cell_type": "code",
   "execution_count": 22,
   "id": "a1d34b66",
   "metadata": {},
   "outputs": [
    {
     "data": {
      "text/plain": [
       "0.4927"
      ]
     },
     "execution_count": 22,
     "metadata": {},
     "output_type": "execute_result"
    }
   ],
   "source": [
    "# Extract sentiment score\n",
    "vader_sentiment['compound']"
   ]
  },
  {
   "cell_type": "code",
   "execution_count": 23,
   "id": "147d90e8",
   "metadata": {},
   "outputs": [
    {
     "data": {
      "text/plain": [
       "{'neg': 0.376, 'neu': 0.624, 'pos': 0.0, 'compound': -0.3412}"
      ]
     },
     "execution_count": 23,
     "metadata": {},
     "output_type": "execute_result"
    }
   ],
   "source": [
    "text2 = \"this dog is not funny.\"\n",
    "vader_sentiment2 = vader.polarity_scores(text2)\n",
    "vader_sentiment2"
   ]
  },
  {
   "cell_type": "code",
   "execution_count": 24,
   "id": "5b41335d",
   "metadata": {},
   "outputs": [
    {
     "data": {
      "text/plain": [
       "-0.3412"
      ]
     },
     "execution_count": 24,
     "metadata": {},
     "output_type": "execute_result"
    }
   ],
   "source": [
    "# Extract sentiment score\n",
    "vader_sentiment2['compound']"
   ]
  },
  {
   "cell_type": "code",
   "execution_count": 25,
   "id": "5f7a8b01",
   "metadata": {},
   "outputs": [
    {
     "data": {
      "text/plain": [
       "{'neg': 0.0, 'neu': 0.674, 'pos': 0.326, 'compound': 0.4404}"
      ]
     },
     "execution_count": 25,
     "metadata": {},
     "output_type": "execute_result"
    }
   ],
   "source": [
    "text3 = \"I cannot say that this dog is funny.\"\n",
    "vader_sentiment3 = vader.polarity_scores(text3)\n",
    "vader_sentiment3"
   ]
  },
  {
   "cell_type": "code",
   "execution_count": 26,
   "id": "55e6f6f2",
   "metadata": {},
   "outputs": [
    {
     "data": {
      "text/plain": [
       "Sentence[6]: \"It is an interesting dog.\""
      ]
     },
     "execution_count": 26,
     "metadata": {},
     "output_type": "execute_result"
    }
   ],
   "source": [
    "# Example text\n",
    "text = 'It is an interesting dog.'\n",
    "\n",
    "# Flair tokenization\n",
    "sentence = Sentence(text)\n",
    "sentence"
   ]
  },
  {
   "cell_type": "code",
   "execution_count": 27,
   "id": "68a164c0",
   "metadata": {},
   "outputs": [
    {
     "data": {
      "text/plain": [
       "Sentence[6]: \"It is an interesting dog.\" → POSITIVE (0.9831)"
      ]
     },
     "execution_count": 27,
     "metadata": {},
     "output_type": "execute_result"
    }
   ],
   "source": [
    "# Flair sentiment prediction\n",
    "classifier.predict(sentence)\n",
    "sentence"
   ]
  },
  {
   "cell_type": "code",
   "execution_count": 28,
   "id": "4c6d689b",
   "metadata": {},
   "outputs": [
    {
     "data": {
      "text/plain": [
       "Sentence[7]: \"It is a very funny dog.\""
      ]
     },
     "execution_count": 28,
     "metadata": {},
     "output_type": "execute_result"
    }
   ],
   "source": [
    "# Example text\n",
    "text = 'It is a very funny dog.'\n",
    "\n",
    "# Flair tokenization\n",
    "sentence = Sentence(text)\n",
    "sentence"
   ]
  },
  {
   "cell_type": "code",
   "execution_count": 29,
   "id": "8e79605a",
   "metadata": {},
   "outputs": [
    {
     "data": {
      "text/plain": [
       "Sentence[7]: \"It is a very funny dog.\" → POSITIVE (0.9996)"
      ]
     },
     "execution_count": 29,
     "metadata": {},
     "output_type": "execute_result"
    }
   ],
   "source": [
    "# Flair sentiment prediction\n",
    "classifier.predict(sentence)\n",
    "sentence"
   ]
  },
  {
   "cell_type": "code",
   "execution_count": 30,
   "id": "6afb2912",
   "metadata": {},
   "outputs": [
    {
     "name": "stdout",
     "output_type": "stream",
     "text": [
      "Flair classified the review as POSITIVE with the score of 1.00\n"
     ]
    }
   ],
   "source": [
    "# Extract sentiment prediction score\n",
    "print(f'Flair classified the review as {sentence.labels[0].value} with the score of {sentence.labels[0].score:.2f}')"
   ]
  },
  {
   "cell_type": "code",
   "execution_count": 31,
   "id": "5907b847",
   "metadata": {},
   "outputs": [
    {
     "data": {
      "text/plain": [
       "Sentence[7]: \"This movie dot is not funny.\""
      ]
     },
     "execution_count": 31,
     "metadata": {},
     "output_type": "execute_result"
    }
   ],
   "source": [
    "# Example text\n",
    "text2 = 'This movie dot is not funny.'\n",
    "\n",
    "# Flair tokenization\n",
    "sentence2 = Sentence(text2)\n",
    "sentence2"
   ]
  },
  {
   "cell_type": "code",
   "execution_count": 32,
   "id": "7abee231",
   "metadata": {},
   "outputs": [
    {
     "data": {
      "text/plain": [
       "Sentence[7]: \"This movie dot is not funny.\" → NEGATIVE (0.9999)"
      ]
     },
     "execution_count": 32,
     "metadata": {},
     "output_type": "execute_result"
    }
   ],
   "source": [
    "# Flair sentiment prediction\n",
    "classifier.predict(sentence2)\n",
    "sentence2"
   ]
  },
  {
   "cell_type": "code",
   "execution_count": 33,
   "id": "0cae7b54",
   "metadata": {},
   "outputs": [
    {
     "name": "stdout",
     "output_type": "stream",
     "text": [
      "Flair classified the review as NEGATIVE with the score of 1.00\n"
     ]
    }
   ],
   "source": [
    "# Extract sentiment prediction score\n",
    "print(f'Flair classified the review as {sentence2.labels[0].value} with the score of {sentence2.labels[0].score:.2f}')"
   ]
  },
  {
   "cell_type": "code",
   "execution_count": 34,
   "id": "127b8705",
   "metadata": {},
   "outputs": [
    {
     "data": {
      "text/plain": [
       "Sentence[9]: \"I cannot say that this dog is funny.\""
      ]
     },
     "execution_count": 34,
     "metadata": {},
     "output_type": "execute_result"
    }
   ],
   "source": [
    "# Example text\n",
    "text3 = 'I cannot say that this dog is funny.'\n",
    "\n",
    "# Flair tokenization\n",
    "sentence3 = Sentence(text3)\n",
    "sentence3"
   ]
  },
  {
   "cell_type": "code",
   "execution_count": 35,
   "id": "a583354f",
   "metadata": {},
   "outputs": [
    {
     "data": {
      "text/plain": [
       "Sentence[9]: \"I cannot say that this dog is funny.\" → NEGATIVE (0.5917)"
      ]
     },
     "execution_count": 35,
     "metadata": {},
     "output_type": "execute_result"
    }
   ],
   "source": [
    "# Flair sentiment prediction\n",
    "classifier.predict(sentence3)\n",
    "sentence3"
   ]
  },
  {
   "cell_type": "code",
   "execution_count": 36,
   "id": "d788b354",
   "metadata": {},
   "outputs": [
    {
     "name": "stdout",
     "output_type": "stream",
     "text": [
      "Flair classified the review as NEGATIVE with the score of 0.59\n"
     ]
    }
   ],
   "source": [
    "# Extract sentiment prediction score\n",
    "print(f'Flair classified the review as {sentence3.labels[0].value} with the score of {sentence3.labels[0].score:.2f}')"
   ]
  },
  {
   "cell_type": "code",
   "execution_count": 37,
   "id": "f117d6c0",
   "metadata": {},
   "outputs": [
    {
     "data": {
      "text/html": [
       "<div>\n",
       "<style scoped>\n",
       "    .dataframe tbody tr th:only-of-type {\n",
       "        vertical-align: middle;\n",
       "    }\n",
       "\n",
       "    .dataframe tbody tr th {\n",
       "        vertical-align: top;\n",
       "    }\n",
       "\n",
       "    .dataframe thead th {\n",
       "        text-align: right;\n",
       "    }\n",
       "</style>\n",
       "<table border=\"1\" class=\"dataframe\">\n",
       "  <thead>\n",
       "    <tr style=\"text-align: right;\">\n",
       "      <th></th>\n",
       "      <th>review</th>\n",
       "      <th>label</th>\n",
       "      <th>scores_TextBlob</th>\n",
       "      <th>pred_TextBlob</th>\n",
       "    </tr>\n",
       "  </thead>\n",
       "  <tbody>\n",
       "    <tr>\n",
       "      <th>0</th>\n",
       "      <td>Wow... Loved this place.</td>\n",
       "      <td>1</td>\n",
       "      <td>0.40</td>\n",
       "      <td>1</td>\n",
       "    </tr>\n",
       "    <tr>\n",
       "      <th>1</th>\n",
       "      <td>Crust is not good.</td>\n",
       "      <td>0</td>\n",
       "      <td>-0.35</td>\n",
       "      <td>0</td>\n",
       "    </tr>\n",
       "    <tr>\n",
       "      <th>2</th>\n",
       "      <td>Not tasty and the texture was just nasty.</td>\n",
       "      <td>0</td>\n",
       "      <td>-1.00</td>\n",
       "      <td>0</td>\n",
       "    </tr>\n",
       "    <tr>\n",
       "      <th>3</th>\n",
       "      <td>Stopped by during the late May bank holiday of...</td>\n",
       "      <td>1</td>\n",
       "      <td>0.20</td>\n",
       "      <td>1</td>\n",
       "    </tr>\n",
       "    <tr>\n",
       "      <th>4</th>\n",
       "      <td>The selection on the menu was great and so wer...</td>\n",
       "      <td>1</td>\n",
       "      <td>0.80</td>\n",
       "      <td>1</td>\n",
       "    </tr>\n",
       "  </tbody>\n",
       "</table>\n",
       "</div>"
      ],
      "text/plain": [
       "                                              review  label  scores_TextBlob  \\\n",
       "0                           Wow... Loved this place.      1             0.40   \n",
       "1                                 Crust is not good.      0            -0.35   \n",
       "2          Not tasty and the texture was just nasty.      0            -1.00   \n",
       "3  Stopped by during the late May bank holiday of...      1             0.20   \n",
       "4  The selection on the menu was great and so wer...      1             0.80   \n",
       "\n",
       "   pred_TextBlob  \n",
       "0              1  \n",
       "1              0  \n",
       "2              0  \n",
       "3              1  \n",
       "4              1  "
      ]
     },
     "execution_count": 37,
     "metadata": {},
     "output_type": "execute_result"
    }
   ],
   "source": [
    "# Get sentiment score for each review\n",
    "amz_review['scores_TextBlob'] = amz_review['review'].apply(lambda s: TextBlob(s).sentiment.polarity)\n",
    "\n",
    "# Predict sentiment label for each review\n",
    "amz_review['pred_TextBlob'] = amz_review['scores_TextBlob'].apply(lambda x: 1 if x >=0 else 0)\n",
    "amz_review.head()"
   ]
  },
  {
   "cell_type": "code",
   "execution_count": 57,
   "id": "e8f14f32",
   "metadata": {},
   "outputs": [
    {
     "name": "stdout",
     "output_type": "stream",
     "text": [
      "Accuracy: 0.723\n",
      "Precision: 0.7919597174144153\n",
      "Recall: 0.723\n",
      "F1: 0.7056169768670207\n"
     ]
    }
   ],
   "source": [
    "# Compare Actual and Predicted and get the Accuracy, Precision, Recall, and F1 score\n",
    "actual_labels = amz_review['label']\n",
    "predicted_labels = amz_review['pred_VADER']\n",
    "\n",
    "accuracy_VADER = accuracy_score(actual_labels,predicted_labels)\n",
    "precision_VADER = precision_score(actual_labels, predicted_labels, average='macro')  # Use 'micro' or 'weighted' if more appropriate\n",
    "recall_VADER = recall_score(actual_labels, predicted_labels, average='macro')\n",
    "f1_VADER = f1_score(actual_labels, predicted_labels, average='macro')\n",
    "\n",
    "print(f'Accuracy:', accuracy_VADER)\n",
    "print(f'Precision:', precision_VADER)\n",
    "print(f'Recall:', recall_VADER)\n",
    "print(f'F1:', f1_VADER)"
   ]
  },
  {
   "cell_type": "code",
   "execution_count": 38,
   "id": "06fe7fe1",
   "metadata": {},
   "outputs": [
    {
     "name": "stdout",
     "output_type": "stream",
     "text": [
      "Accuracy: 0.695\n",
      "Precision: 0.7606965812651405\n",
      "Recall: 0.695\n",
      "F1: 0.6744927155738694\n"
     ]
    }
   ],
   "source": [
    "# Compare Actual and Predicted and get the Accuracy, Precision, Recall, and F1 score\n",
    "actual_labels = amz_review['label']\n",
    "predicted_labels = amz_review['pred_TextBlob']\n",
    "\n",
    "accuracy_TextBlob = accuracy_score(actual_labels,predicted_labels)\n",
    "precision_TextBlob = precision_score(actual_labels, predicted_labels, average='macro')  # Use 'micro' or 'weighted' if more appropriate\n",
    "recall_TextBlob = recall_score(actual_labels, predicted_labels, average='macro')\n",
    "f1_TextBlob = f1_score(actual_labels, predicted_labels, average='macro')\n",
    "\n",
    "print(f'Accuracy:', accuracy_TextBlob)\n",
    "print(f'Precision:', precision_TextBlob)\n",
    "print(f'Recall:', recall_TextBlob)\n",
    "print(f'F1:', f1_TextBlob)"
   ]
  },
  {
   "cell_type": "code",
   "execution_count": 53,
   "id": "be5946f3",
   "metadata": {},
   "outputs": [
    {
     "ename": "KeyboardInterrupt",
     "evalue": "",
     "output_type": "error",
     "traceback": [
      "\u001b[1;31m---------------------------------------------------------------------------\u001b[0m",
      "\u001b[1;31mKeyboardInterrupt\u001b[0m                         Traceback (most recent call last)",
      "Cell \u001b[1;32mIn[53], line 7\u001b[0m\n\u001b[0;32m      4\u001b[0m     \u001b[38;5;28;01mreturn\u001b[39;00m blob\u001b[38;5;241m.\u001b[39msentiment\u001b[38;5;241m.\u001b[39mclassification\n\u001b[0;32m      6\u001b[0m \u001b[38;5;66;03m# Applying the Naive Bayes classifier to get sentiment\u001b[39;00m\n\u001b[1;32m----> 7\u001b[0m amz_review[\u001b[38;5;124m'\u001b[39m\u001b[38;5;124mnaive_bayes_analysis\u001b[39m\u001b[38;5;124m'\u001b[39m] \u001b[38;5;241m=\u001b[39m amz_review[\u001b[38;5;124m'\u001b[39m\u001b[38;5;124mreview\u001b[39m\u001b[38;5;124m'\u001b[39m]\u001b[38;5;241m.\u001b[39mapply(naive_bayes_sentiment)\n\u001b[0;32m      9\u001b[0m \u001b[38;5;66;03m# Predict sentiment label (1 for positive, 0 for negative)\u001b[39;00m\n\u001b[0;32m     10\u001b[0m amz_review[\u001b[38;5;124m'\u001b[39m\u001b[38;5;124mpred_TextBlob_NaiveBayes\u001b[39m\u001b[38;5;124m'\u001b[39m] \u001b[38;5;241m=\u001b[39m amz_review[\u001b[38;5;124m'\u001b[39m\u001b[38;5;124mnaive_bayes_analysis\u001b[39m\u001b[38;5;124m'\u001b[39m]\u001b[38;5;241m.\u001b[39mapply(\u001b[38;5;28;01mlambda\u001b[39;00m x: \u001b[38;5;241m1\u001b[39m \u001b[38;5;28;01mif\u001b[39;00m x\u001b[38;5;241m.\u001b[39mclassification \u001b[38;5;241m==\u001b[39m \u001b[38;5;124m'\u001b[39m\u001b[38;5;124mpos\u001b[39m\u001b[38;5;124m'\u001b[39m \u001b[38;5;28;01melse\u001b[39;00m \u001b[38;5;241m0\u001b[39m)\n",
      "File \u001b[1;32mC:\\ProgramData\\anaconda3\\Lib\\site-packages\\pandas\\core\\series.py:4630\u001b[0m, in \u001b[0;36mSeries.apply\u001b[1;34m(self, func, convert_dtype, args, **kwargs)\u001b[0m\n\u001b[0;32m   4520\u001b[0m \u001b[38;5;28;01mdef\u001b[39;00m \u001b[38;5;21mapply\u001b[39m(\n\u001b[0;32m   4521\u001b[0m     \u001b[38;5;28mself\u001b[39m,\n\u001b[0;32m   4522\u001b[0m     func: AggFuncType,\n\u001b[1;32m   (...)\u001b[0m\n\u001b[0;32m   4525\u001b[0m     \u001b[38;5;241m*\u001b[39m\u001b[38;5;241m*\u001b[39mkwargs,\n\u001b[0;32m   4526\u001b[0m ) \u001b[38;5;241m-\u001b[39m\u001b[38;5;241m>\u001b[39m DataFrame \u001b[38;5;241m|\u001b[39m Series:\n\u001b[0;32m   4527\u001b[0m \u001b[38;5;250m    \u001b[39m\u001b[38;5;124;03m\"\"\"\u001b[39;00m\n\u001b[0;32m   4528\u001b[0m \u001b[38;5;124;03m    Invoke function on values of Series.\u001b[39;00m\n\u001b[0;32m   4529\u001b[0m \n\u001b[1;32m   (...)\u001b[0m\n\u001b[0;32m   4628\u001b[0m \u001b[38;5;124;03m    dtype: float64\u001b[39;00m\n\u001b[0;32m   4629\u001b[0m \u001b[38;5;124;03m    \"\"\"\u001b[39;00m\n\u001b[1;32m-> 4630\u001b[0m     \u001b[38;5;28;01mreturn\u001b[39;00m SeriesApply(\u001b[38;5;28mself\u001b[39m, func, convert_dtype, args, kwargs)\u001b[38;5;241m.\u001b[39mapply()\n",
      "File \u001b[1;32mC:\\ProgramData\\anaconda3\\Lib\\site-packages\\pandas\\core\\apply.py:1025\u001b[0m, in \u001b[0;36mSeriesApply.apply\u001b[1;34m(self)\u001b[0m\n\u001b[0;32m   1022\u001b[0m     \u001b[38;5;28;01mreturn\u001b[39;00m \u001b[38;5;28mself\u001b[39m\u001b[38;5;241m.\u001b[39mapply_str()\n\u001b[0;32m   1024\u001b[0m \u001b[38;5;66;03m# self.f is Callable\u001b[39;00m\n\u001b[1;32m-> 1025\u001b[0m \u001b[38;5;28;01mreturn\u001b[39;00m \u001b[38;5;28mself\u001b[39m\u001b[38;5;241m.\u001b[39mapply_standard()\n",
      "File \u001b[1;32mC:\\ProgramData\\anaconda3\\Lib\\site-packages\\pandas\\core\\apply.py:1076\u001b[0m, in \u001b[0;36mSeriesApply.apply_standard\u001b[1;34m(self)\u001b[0m\n\u001b[0;32m   1074\u001b[0m     \u001b[38;5;28;01melse\u001b[39;00m:\n\u001b[0;32m   1075\u001b[0m         values \u001b[38;5;241m=\u001b[39m obj\u001b[38;5;241m.\u001b[39mastype(\u001b[38;5;28mobject\u001b[39m)\u001b[38;5;241m.\u001b[39m_values\n\u001b[1;32m-> 1076\u001b[0m         mapped \u001b[38;5;241m=\u001b[39m lib\u001b[38;5;241m.\u001b[39mmap_infer(\n\u001b[0;32m   1077\u001b[0m             values,\n\u001b[0;32m   1078\u001b[0m             f,\n\u001b[0;32m   1079\u001b[0m             convert\u001b[38;5;241m=\u001b[39m\u001b[38;5;28mself\u001b[39m\u001b[38;5;241m.\u001b[39mconvert_dtype,\n\u001b[0;32m   1080\u001b[0m         )\n\u001b[0;32m   1082\u001b[0m \u001b[38;5;28;01mif\u001b[39;00m \u001b[38;5;28mlen\u001b[39m(mapped) \u001b[38;5;129;01mand\u001b[39;00m \u001b[38;5;28misinstance\u001b[39m(mapped[\u001b[38;5;241m0\u001b[39m], ABCSeries):\n\u001b[0;32m   1083\u001b[0m     \u001b[38;5;66;03m# GH#43986 Need to do list(mapped) in order to get treated as nested\u001b[39;00m\n\u001b[0;32m   1084\u001b[0m     \u001b[38;5;66;03m#  See also GH#25959 regarding EA support\u001b[39;00m\n\u001b[0;32m   1085\u001b[0m     \u001b[38;5;28;01mreturn\u001b[39;00m obj\u001b[38;5;241m.\u001b[39m_constructor_expanddim(\u001b[38;5;28mlist\u001b[39m(mapped), index\u001b[38;5;241m=\u001b[39mobj\u001b[38;5;241m.\u001b[39mindex)\n",
      "File \u001b[1;32mC:\\ProgramData\\anaconda3\\Lib\\site-packages\\pandas\\_libs\\lib.pyx:2834\u001b[0m, in \u001b[0;36mpandas._libs.lib.map_infer\u001b[1;34m()\u001b[0m\n",
      "Cell \u001b[1;32mIn[53], line 4\u001b[0m, in \u001b[0;36mnaive_bayes_sentiment\u001b[1;34m(text)\u001b[0m\n\u001b[0;32m      2\u001b[0m \u001b[38;5;28;01mdef\u001b[39;00m \u001b[38;5;21mnaive_bayes_sentiment\u001b[39m(text):\n\u001b[0;32m      3\u001b[0m     blob \u001b[38;5;241m=\u001b[39m TextBlob(text, analyzer\u001b[38;5;241m=\u001b[39mNaiveBayesAnalyzer())\n\u001b[1;32m----> 4\u001b[0m     \u001b[38;5;28;01mreturn\u001b[39;00m blob\u001b[38;5;241m.\u001b[39msentiment\u001b[38;5;241m.\u001b[39mclassification\n",
      "File \u001b[1;32m~\\AppData\\Roaming\\Python\\Python311\\site-packages\\textblob\\decorators.py:24\u001b[0m, in \u001b[0;36mcached_property.__get__\u001b[1;34m(self, obj, cls)\u001b[0m\n\u001b[0;32m     22\u001b[0m \u001b[38;5;28;01mif\u001b[39;00m obj \u001b[38;5;129;01mis\u001b[39;00m \u001b[38;5;28;01mNone\u001b[39;00m:\n\u001b[0;32m     23\u001b[0m     \u001b[38;5;28;01mreturn\u001b[39;00m \u001b[38;5;28mself\u001b[39m\n\u001b[1;32m---> 24\u001b[0m value \u001b[38;5;241m=\u001b[39m obj\u001b[38;5;241m.\u001b[39m\u001b[38;5;18m__dict__\u001b[39m[\u001b[38;5;28mself\u001b[39m\u001b[38;5;241m.\u001b[39mfunc\u001b[38;5;241m.\u001b[39m\u001b[38;5;18m__name__\u001b[39m] \u001b[38;5;241m=\u001b[39m \u001b[38;5;28mself\u001b[39m\u001b[38;5;241m.\u001b[39mfunc(obj)\n\u001b[0;32m     25\u001b[0m \u001b[38;5;28;01mreturn\u001b[39;00m value\n",
      "File \u001b[1;32m~\\AppData\\Roaming\\Python\\Python311\\site-packages\\textblob\\blob.py:447\u001b[0m, in \u001b[0;36mBaseBlob.sentiment\u001b[1;34m(self)\u001b[0m\n\u001b[0;32m    438\u001b[0m \u001b[38;5;129m@cached_property\u001b[39m\n\u001b[0;32m    439\u001b[0m \u001b[38;5;28;01mdef\u001b[39;00m \u001b[38;5;21msentiment\u001b[39m(\u001b[38;5;28mself\u001b[39m):\n\u001b[0;32m    440\u001b[0m \u001b[38;5;250m    \u001b[39m\u001b[38;5;124;03m\"\"\"Return a tuple of form (polarity, subjectivity ) where polarity\u001b[39;00m\n\u001b[0;32m    441\u001b[0m \u001b[38;5;124;03m    is a float within the range [-1.0, 1.0] and subjectivity is a float\u001b[39;00m\n\u001b[0;32m    442\u001b[0m \u001b[38;5;124;03m    within the range [0.0, 1.0] where 0.0 is very objective and 1.0 is\u001b[39;00m\n\u001b[1;32m   (...)\u001b[0m\n\u001b[0;32m    445\u001b[0m \u001b[38;5;124;03m    :rtype: namedtuple of the form ``Sentiment(polarity, subjectivity)``\u001b[39;00m\n\u001b[0;32m    446\u001b[0m \u001b[38;5;124;03m    \"\"\"\u001b[39;00m\n\u001b[1;32m--> 447\u001b[0m     \u001b[38;5;28;01mreturn\u001b[39;00m \u001b[38;5;28mself\u001b[39m\u001b[38;5;241m.\u001b[39manalyzer\u001b[38;5;241m.\u001b[39manalyze(\u001b[38;5;28mself\u001b[39m\u001b[38;5;241m.\u001b[39mraw)\n",
      "File \u001b[1;32m~\\AppData\\Roaming\\Python\\Python311\\site-packages\\textblob\\en\\sentiments.py:88\u001b[0m, in \u001b[0;36mNaiveBayesAnalyzer.analyze\u001b[1;34m(self, text)\u001b[0m\n\u001b[0;32m     84\u001b[0m \u001b[38;5;250m\u001b[39m\u001b[38;5;124;03m\"\"\"Return the sentiment as a named tuple of the form:\u001b[39;00m\n\u001b[0;32m     85\u001b[0m \u001b[38;5;124;03m``Sentiment(classification, p_pos, p_neg)``\u001b[39;00m\n\u001b[0;32m     86\u001b[0m \u001b[38;5;124;03m\"\"\"\u001b[39;00m\n\u001b[0;32m     87\u001b[0m \u001b[38;5;66;03m# Lazily train the classifier\u001b[39;00m\n\u001b[1;32m---> 88\u001b[0m \u001b[38;5;28msuper\u001b[39m(NaiveBayesAnalyzer, \u001b[38;5;28mself\u001b[39m)\u001b[38;5;241m.\u001b[39manalyze(text)\n\u001b[0;32m     89\u001b[0m tokens \u001b[38;5;241m=\u001b[39m word_tokenize(text, include_punc\u001b[38;5;241m=\u001b[39m\u001b[38;5;28;01mFalse\u001b[39;00m)\n\u001b[0;32m     90\u001b[0m filtered \u001b[38;5;241m=\u001b[39m (t\u001b[38;5;241m.\u001b[39mlower() \u001b[38;5;28;01mfor\u001b[39;00m t \u001b[38;5;129;01min\u001b[39;00m tokens \u001b[38;5;28;01mif\u001b[39;00m \u001b[38;5;28mlen\u001b[39m(t) \u001b[38;5;241m>\u001b[39m\u001b[38;5;241m=\u001b[39m \u001b[38;5;241m3\u001b[39m)\n",
      "File \u001b[1;32m~\\AppData\\Roaming\\Python\\Python311\\site-packages\\textblob\\base.py:94\u001b[0m, in \u001b[0;36mBaseSentimentAnalyzer.analyze\u001b[1;34m(self, text)\u001b[0m\n\u001b[0;32m     92\u001b[0m \u001b[38;5;66;03m# Lazily train the classifier\u001b[39;00m\n\u001b[0;32m     93\u001b[0m \u001b[38;5;28;01mif\u001b[39;00m \u001b[38;5;129;01mnot\u001b[39;00m \u001b[38;5;28mself\u001b[39m\u001b[38;5;241m.\u001b[39m_trained:\n\u001b[1;32m---> 94\u001b[0m     \u001b[38;5;28mself\u001b[39m\u001b[38;5;241m.\u001b[39mtrain()\n\u001b[0;32m     95\u001b[0m \u001b[38;5;66;03m# Analyze text\u001b[39;00m\n\u001b[0;32m     96\u001b[0m \u001b[38;5;28;01mreturn\u001b[39;00m \u001b[38;5;28;01mNone\u001b[39;00m\n",
      "File \u001b[1;32m~\\AppData\\Roaming\\Python\\Python311\\site-packages\\textblob\\decorators.py:35\u001b[0m, in \u001b[0;36mrequires_nltk_corpus.<locals>.decorated\u001b[1;34m(*args, **kwargs)\u001b[0m\n\u001b[0;32m     32\u001b[0m \u001b[38;5;129m@wraps\u001b[39m(func)\n\u001b[0;32m     33\u001b[0m \u001b[38;5;28;01mdef\u001b[39;00m \u001b[38;5;21mdecorated\u001b[39m(\u001b[38;5;241m*\u001b[39margs, \u001b[38;5;241m*\u001b[39m\u001b[38;5;241m*\u001b[39mkwargs):\n\u001b[0;32m     34\u001b[0m     \u001b[38;5;28;01mtry\u001b[39;00m:\n\u001b[1;32m---> 35\u001b[0m         \u001b[38;5;28;01mreturn\u001b[39;00m func(\u001b[38;5;241m*\u001b[39margs, \u001b[38;5;241m*\u001b[39m\u001b[38;5;241m*\u001b[39mkwargs)\n\u001b[0;32m     36\u001b[0m     \u001b[38;5;28;01mexcept\u001b[39;00m \u001b[38;5;167;01mLookupError\u001b[39;00m \u001b[38;5;28;01mas\u001b[39;00m err:\n\u001b[0;32m     37\u001b[0m         \u001b[38;5;28mprint\u001b[39m(err)\n",
      "File \u001b[1;32m~\\AppData\\Roaming\\Python\\Python311\\site-packages\\textblob\\en\\sentiments.py:81\u001b[0m, in \u001b[0;36mNaiveBayesAnalyzer.train\u001b[1;34m(self)\u001b[0m\n\u001b[0;32m     78\u001b[0m pos_feats \u001b[38;5;241m=\u001b[39m [(\u001b[38;5;28mself\u001b[39m\u001b[38;5;241m.\u001b[39mfeature_extractor(\n\u001b[0;32m     79\u001b[0m     nltk\u001b[38;5;241m.\u001b[39mcorpus\u001b[38;5;241m.\u001b[39mmovie_reviews\u001b[38;5;241m.\u001b[39mwords(fileids\u001b[38;5;241m=\u001b[39m[f])), \u001b[38;5;124m'\u001b[39m\u001b[38;5;124mpos\u001b[39m\u001b[38;5;124m'\u001b[39m) \u001b[38;5;28;01mfor\u001b[39;00m f \u001b[38;5;129;01min\u001b[39;00m pos_ids]\n\u001b[0;32m     80\u001b[0m train_data \u001b[38;5;241m=\u001b[39m neg_feats \u001b[38;5;241m+\u001b[39m pos_feats\n\u001b[1;32m---> 81\u001b[0m \u001b[38;5;28mself\u001b[39m\u001b[38;5;241m.\u001b[39m_classifier \u001b[38;5;241m=\u001b[39m nltk\u001b[38;5;241m.\u001b[39mclassify\u001b[38;5;241m.\u001b[39mNaiveBayesClassifier\u001b[38;5;241m.\u001b[39mtrain(train_data)\n",
      "File \u001b[1;32mC:\\ProgramData\\anaconda3\\Lib\\site-packages\\nltk\\classify\\naivebayes.py:228\u001b[0m, in \u001b[0;36mNaiveBayesClassifier.train\u001b[1;34m(cls, labeled_featuresets, estimator)\u001b[0m\n\u001b[0;32m    226\u001b[0m num_samples \u001b[38;5;241m=\u001b[39m label_freqdist[label]\n\u001b[0;32m    227\u001b[0m \u001b[38;5;28;01mfor\u001b[39;00m fname \u001b[38;5;129;01min\u001b[39;00m fnames:\n\u001b[1;32m--> 228\u001b[0m     count \u001b[38;5;241m=\u001b[39m feature_freqdist[label, fname]\u001b[38;5;241m.\u001b[39mN()\n\u001b[0;32m    229\u001b[0m     \u001b[38;5;66;03m# Only add a None key when necessary, i.e. if there are\u001b[39;00m\n\u001b[0;32m    230\u001b[0m     \u001b[38;5;66;03m# any samples with feature 'fname' missing.\u001b[39;00m\n\u001b[0;32m    231\u001b[0m     \u001b[38;5;28;01mif\u001b[39;00m num_samples \u001b[38;5;241m-\u001b[39m count \u001b[38;5;241m>\u001b[39m \u001b[38;5;241m0\u001b[39m:\n",
      "File \u001b[1;32mC:\\ProgramData\\anaconda3\\Lib\\site-packages\\nltk\\probability.py:118\u001b[0m, in \u001b[0;36mFreqDist.N\u001b[1;34m(self)\u001b[0m\n\u001b[0;32m    108\u001b[0m \u001b[38;5;250m\u001b[39m\u001b[38;5;124;03m\"\"\"\u001b[39;00m\n\u001b[0;32m    109\u001b[0m \u001b[38;5;124;03mReturn the total number of sample outcomes that have been\u001b[39;00m\n\u001b[0;32m    110\u001b[0m \u001b[38;5;124;03mrecorded by this FreqDist.  For the number of unique\u001b[39;00m\n\u001b[1;32m   (...)\u001b[0m\n\u001b[0;32m    114\u001b[0m \u001b[38;5;124;03m:rtype: int\u001b[39;00m\n\u001b[0;32m    115\u001b[0m \u001b[38;5;124;03m\"\"\"\u001b[39;00m\n\u001b[0;32m    116\u001b[0m \u001b[38;5;28;01mif\u001b[39;00m \u001b[38;5;28mself\u001b[39m\u001b[38;5;241m.\u001b[39m_N \u001b[38;5;129;01mis\u001b[39;00m \u001b[38;5;28;01mNone\u001b[39;00m:\n\u001b[0;32m    117\u001b[0m     \u001b[38;5;66;03m# Not already cached, or cache has been invalidated\u001b[39;00m\n\u001b[1;32m--> 118\u001b[0m     \u001b[38;5;28mself\u001b[39m\u001b[38;5;241m.\u001b[39m_N \u001b[38;5;241m=\u001b[39m \u001b[38;5;28msum\u001b[39m(\u001b[38;5;28mself\u001b[39m\u001b[38;5;241m.\u001b[39mvalues())\n\u001b[0;32m    119\u001b[0m \u001b[38;5;28;01mreturn\u001b[39;00m \u001b[38;5;28mself\u001b[39m\u001b[38;5;241m.\u001b[39m_N\n",
      "\u001b[1;31mKeyboardInterrupt\u001b[0m: "
     ]
    }
   ],
   "source": [
    "# Function to apply Naive Bayes Sentiment Analysis\n",
    "def naive_bayes_sentiment(text):\n",
    "    blob = TextBlob(text, analyzer=NaiveBayesAnalyzer())\n",
    "    return blob.sentiment.classification\n",
    "\n",
    "# Applying the Naive Bayes classifier to get sentiment\n",
    "amz_review['naive_bayes_analysis'] = amz_review['review'].apply(naive_bayes_sentiment)\n",
    "\n",
    "# Predict sentiment label (1 for positive, 0 for negative)\n",
    "amz_review['pred_TextBlob_NaiveBayes'] = amz_review['naive_bayes_analysis'].apply(lambda x: 1 if x.classification == 'pos' else 0)\n",
    "amz_review.head()"
   ]
  },
  {
   "cell_type": "code",
   "execution_count": 56,
   "id": "8dab977b",
   "metadata": {},
   "outputs": [
    {
     "ename": "KeyError",
     "evalue": "'pred_TextBlob_NaiveBayes'",
     "output_type": "error",
     "traceback": [
      "\u001b[1;31m---------------------------------------------------------------------------\u001b[0m",
      "\u001b[1;31mKeyError\u001b[0m                                  Traceback (most recent call last)",
      "File \u001b[1;32mC:\\ProgramData\\anaconda3\\Lib\\site-packages\\pandas\\core\\indexes\\base.py:3653\u001b[0m, in \u001b[0;36mIndex.get_loc\u001b[1;34m(self, key)\u001b[0m\n\u001b[0;32m   3652\u001b[0m \u001b[38;5;28;01mtry\u001b[39;00m:\n\u001b[1;32m-> 3653\u001b[0m     \u001b[38;5;28;01mreturn\u001b[39;00m \u001b[38;5;28mself\u001b[39m\u001b[38;5;241m.\u001b[39m_engine\u001b[38;5;241m.\u001b[39mget_loc(casted_key)\n\u001b[0;32m   3654\u001b[0m \u001b[38;5;28;01mexcept\u001b[39;00m \u001b[38;5;167;01mKeyError\u001b[39;00m \u001b[38;5;28;01mas\u001b[39;00m err:\n",
      "File \u001b[1;32mC:\\ProgramData\\anaconda3\\Lib\\site-packages\\pandas\\_libs\\index.pyx:147\u001b[0m, in \u001b[0;36mpandas._libs.index.IndexEngine.get_loc\u001b[1;34m()\u001b[0m\n",
      "File \u001b[1;32mC:\\ProgramData\\anaconda3\\Lib\\site-packages\\pandas\\_libs\\index.pyx:176\u001b[0m, in \u001b[0;36mpandas._libs.index.IndexEngine.get_loc\u001b[1;34m()\u001b[0m\n",
      "File \u001b[1;32mpandas\\_libs\\hashtable_class_helper.pxi:7080\u001b[0m, in \u001b[0;36mpandas._libs.hashtable.PyObjectHashTable.get_item\u001b[1;34m()\u001b[0m\n",
      "File \u001b[1;32mpandas\\_libs\\hashtable_class_helper.pxi:7088\u001b[0m, in \u001b[0;36mpandas._libs.hashtable.PyObjectHashTable.get_item\u001b[1;34m()\u001b[0m\n",
      "\u001b[1;31mKeyError\u001b[0m: 'pred_TextBlob_NaiveBayes'",
      "\nThe above exception was the direct cause of the following exception:\n",
      "\u001b[1;31mKeyError\u001b[0m                                  Traceback (most recent call last)",
      "Cell \u001b[1;32mIn[56], line 3\u001b[0m\n\u001b[0;32m      1\u001b[0m \u001b[38;5;66;03m# Compare Actual and Predicted and get the Accuracy, Precision, Recall, and F1 score\u001b[39;00m\n\u001b[0;32m      2\u001b[0m actual_labels \u001b[38;5;241m=\u001b[39m amz_review[\u001b[38;5;124m'\u001b[39m\u001b[38;5;124mlabel\u001b[39m\u001b[38;5;124m'\u001b[39m]\n\u001b[1;32m----> 3\u001b[0m predicted_labels \u001b[38;5;241m=\u001b[39m amz_review[\u001b[38;5;124m'\u001b[39m\u001b[38;5;124mpred_TextBlob_NaiveBayes\u001b[39m\u001b[38;5;124m'\u001b[39m]\n\u001b[0;32m      5\u001b[0m accuracy_TextBlob_NB \u001b[38;5;241m=\u001b[39m accuracy_score(actual_labels,predicted_labels)\n\u001b[0;32m      6\u001b[0m precision_TextBlob_NB \u001b[38;5;241m=\u001b[39m precision_score(actual_labels, predicted_labels, average\u001b[38;5;241m=\u001b[39m\u001b[38;5;124m'\u001b[39m\u001b[38;5;124mmacro\u001b[39m\u001b[38;5;124m'\u001b[39m)  \u001b[38;5;66;03m# Use 'micro' or 'weighted' if more appropriate\u001b[39;00m\n",
      "File \u001b[1;32mC:\\ProgramData\\anaconda3\\Lib\\site-packages\\pandas\\core\\frame.py:3761\u001b[0m, in \u001b[0;36mDataFrame.__getitem__\u001b[1;34m(self, key)\u001b[0m\n\u001b[0;32m   3759\u001b[0m \u001b[38;5;28;01mif\u001b[39;00m \u001b[38;5;28mself\u001b[39m\u001b[38;5;241m.\u001b[39mcolumns\u001b[38;5;241m.\u001b[39mnlevels \u001b[38;5;241m>\u001b[39m \u001b[38;5;241m1\u001b[39m:\n\u001b[0;32m   3760\u001b[0m     \u001b[38;5;28;01mreturn\u001b[39;00m \u001b[38;5;28mself\u001b[39m\u001b[38;5;241m.\u001b[39m_getitem_multilevel(key)\n\u001b[1;32m-> 3761\u001b[0m indexer \u001b[38;5;241m=\u001b[39m \u001b[38;5;28mself\u001b[39m\u001b[38;5;241m.\u001b[39mcolumns\u001b[38;5;241m.\u001b[39mget_loc(key)\n\u001b[0;32m   3762\u001b[0m \u001b[38;5;28;01mif\u001b[39;00m is_integer(indexer):\n\u001b[0;32m   3763\u001b[0m     indexer \u001b[38;5;241m=\u001b[39m [indexer]\n",
      "File \u001b[1;32mC:\\ProgramData\\anaconda3\\Lib\\site-packages\\pandas\\core\\indexes\\base.py:3655\u001b[0m, in \u001b[0;36mIndex.get_loc\u001b[1;34m(self, key)\u001b[0m\n\u001b[0;32m   3653\u001b[0m     \u001b[38;5;28;01mreturn\u001b[39;00m \u001b[38;5;28mself\u001b[39m\u001b[38;5;241m.\u001b[39m_engine\u001b[38;5;241m.\u001b[39mget_loc(casted_key)\n\u001b[0;32m   3654\u001b[0m \u001b[38;5;28;01mexcept\u001b[39;00m \u001b[38;5;167;01mKeyError\u001b[39;00m \u001b[38;5;28;01mas\u001b[39;00m err:\n\u001b[1;32m-> 3655\u001b[0m     \u001b[38;5;28;01mraise\u001b[39;00m \u001b[38;5;167;01mKeyError\u001b[39;00m(key) \u001b[38;5;28;01mfrom\u001b[39;00m \u001b[38;5;21;01merr\u001b[39;00m\n\u001b[0;32m   3656\u001b[0m \u001b[38;5;28;01mexcept\u001b[39;00m \u001b[38;5;167;01mTypeError\u001b[39;00m:\n\u001b[0;32m   3657\u001b[0m     \u001b[38;5;66;03m# If we have a listlike key, _check_indexing_error will raise\u001b[39;00m\n\u001b[0;32m   3658\u001b[0m     \u001b[38;5;66;03m#  InvalidIndexError. Otherwise we fall through and re-raise\u001b[39;00m\n\u001b[0;32m   3659\u001b[0m     \u001b[38;5;66;03m#  the TypeError.\u001b[39;00m\n\u001b[0;32m   3660\u001b[0m     \u001b[38;5;28mself\u001b[39m\u001b[38;5;241m.\u001b[39m_check_indexing_error(key)\n",
      "\u001b[1;31mKeyError\u001b[0m: 'pred_TextBlob_NaiveBayes'"
     ]
    }
   ],
   "source": [
    "# Compare Actual and Predicted and get the Accuracy, Precision, Recall, and F1 score\n",
    "actual_labels = amz_review['label']\n",
    "predicted_labels = amz_review['pred_TextBlob_NaiveBayes']\n",
    "\n",
    "accuracy_TextBlob_NB = accuracy_score(actual_labels,predicted_labels)\n",
    "precision_TextBlob_NB = precision_score(actual_labels, predicted_labels, average='macro')  # Use 'micro' or 'weighted' if more appropriate\n",
    "recall_TextBlob_NB = recall_score(actual_labels, predicted_labels, average='macro')\n",
    "f1_TextBlob_NB = f1_score(actual_labels, predicted_labels, average='macro')\n",
    "\n",
    "print(f'Accuracy:', accuracy_TextBlob_NB)\n",
    "print(f'Precision:', precision_TextBlob_NB)\n",
    "print(f'Recall:', recall_TextBlob_NB)\n",
    "print(f'F1:', f1_TextBlob_NB)"
   ]
  },
  {
   "cell_type": "code",
   "execution_count": 41,
   "id": "7a24353d",
   "metadata": {},
   "outputs": [
    {
     "data": {
      "text/html": [
       "<div>\n",
       "<style scoped>\n",
       "    .dataframe tbody tr th:only-of-type {\n",
       "        vertical-align: middle;\n",
       "    }\n",
       "\n",
       "    .dataframe tbody tr th {\n",
       "        vertical-align: top;\n",
       "    }\n",
       "\n",
       "    .dataframe thead th {\n",
       "        text-align: right;\n",
       "    }\n",
       "</style>\n",
       "<table border=\"1\" class=\"dataframe\">\n",
       "  <thead>\n",
       "    <tr style=\"text-align: right;\">\n",
       "      <th></th>\n",
       "      <th>review</th>\n",
       "      <th>label</th>\n",
       "      <th>scores_TextBlob</th>\n",
       "      <th>pred_TextBlob</th>\n",
       "      <th>scores_VADER</th>\n",
       "      <th>pred_VADER</th>\n",
       "    </tr>\n",
       "  </thead>\n",
       "  <tbody>\n",
       "    <tr>\n",
       "      <th>0</th>\n",
       "      <td>Wow... Loved this place.</td>\n",
       "      <td>1</td>\n",
       "      <td>0.40</td>\n",
       "      <td>1</td>\n",
       "      <td>0.5994</td>\n",
       "      <td>1</td>\n",
       "    </tr>\n",
       "    <tr>\n",
       "      <th>1</th>\n",
       "      <td>Crust is not good.</td>\n",
       "      <td>0</td>\n",
       "      <td>-0.35</td>\n",
       "      <td>0</td>\n",
       "      <td>-0.3412</td>\n",
       "      <td>0</td>\n",
       "    </tr>\n",
       "    <tr>\n",
       "      <th>2</th>\n",
       "      <td>Not tasty and the texture was just nasty.</td>\n",
       "      <td>0</td>\n",
       "      <td>-1.00</td>\n",
       "      <td>0</td>\n",
       "      <td>-0.5574</td>\n",
       "      <td>0</td>\n",
       "    </tr>\n",
       "    <tr>\n",
       "      <th>3</th>\n",
       "      <td>Stopped by during the late May bank holiday of...</td>\n",
       "      <td>1</td>\n",
       "      <td>0.20</td>\n",
       "      <td>1</td>\n",
       "      <td>0.6908</td>\n",
       "      <td>1</td>\n",
       "    </tr>\n",
       "    <tr>\n",
       "      <th>4</th>\n",
       "      <td>The selection on the menu was great and so wer...</td>\n",
       "      <td>1</td>\n",
       "      <td>0.80</td>\n",
       "      <td>1</td>\n",
       "      <td>0.6249</td>\n",
       "      <td>1</td>\n",
       "    </tr>\n",
       "  </tbody>\n",
       "</table>\n",
       "</div>"
      ],
      "text/plain": [
       "                                              review  label  scores_TextBlob  \\\n",
       "0                           Wow... Loved this place.      1             0.40   \n",
       "1                                 Crust is not good.      0            -0.35   \n",
       "2          Not tasty and the texture was just nasty.      0            -1.00   \n",
       "3  Stopped by during the late May bank holiday of...      1             0.20   \n",
       "4  The selection on the menu was great and so wer...      1             0.80   \n",
       "\n",
       "   pred_TextBlob  scores_VADER  pred_VADER  \n",
       "0              1        0.5994           1  \n",
       "1              0       -0.3412           0  \n",
       "2              0       -0.5574           0  \n",
       "3              1        0.6908           1  \n",
       "4              1        0.6249           1  "
      ]
     },
     "execution_count": 41,
     "metadata": {},
     "output_type": "execute_result"
    }
   ],
   "source": [
    "# Get sentiment score for each review\n",
    "vader_sentiment = SentimentIntensityAnalyzer()\n",
    "amz_review['scores_VADER'] = amz_review['review'].apply(lambda s: vader_sentiment.polarity_scores(s)['compound'])\n",
    "\n",
    "# Predict sentiment label for each review\n",
    "amz_review['pred_VADER'] = amz_review['scores_VADER'].apply(lambda x: 1 if x >=0 else 0)\n",
    "amz_review.head()"
   ]
  },
  {
   "cell_type": "code",
   "execution_count": 42,
   "id": "50593b60",
   "metadata": {},
   "outputs": [],
   "source": [
    "# Define a function to get Flair sentiment prediction score\n",
    "def score_flair(text):\n",
    "    sentence = Sentence(text)\n",
    "    classifier.predict(sentence)\n",
    "    score = sentence.labels[0].score\n",
    "    value = sentence.labels[0].value\n",
    "    return score, value"
   ]
  },
  {
   "cell_type": "code",
   "execution_count": 43,
   "id": "6850609b",
   "metadata": {},
   "outputs": [],
   "source": [
    "# Get sentiment score for each review\n",
    "amz_review['scores_flair'] = amz_review['review'].apply(lambda s: score_flair(s)[0])\n",
    "\n",
    "# Predict sentiment label for each review\n",
    "amz_review['pred_flair'] = amz_review['review'].apply(lambda s: score_flair(s)[1])"
   ]
  },
  {
   "cell_type": "code",
   "execution_count": 44,
   "id": "1c6e4798",
   "metadata": {},
   "outputs": [
    {
     "data": {
      "text/html": [
       "<div>\n",
       "<style scoped>\n",
       "    .dataframe tbody tr th:only-of-type {\n",
       "        vertical-align: middle;\n",
       "    }\n",
       "\n",
       "    .dataframe tbody tr th {\n",
       "        vertical-align: top;\n",
       "    }\n",
       "\n",
       "    .dataframe thead th {\n",
       "        text-align: right;\n",
       "    }\n",
       "</style>\n",
       "<table border=\"1\" class=\"dataframe\">\n",
       "  <thead>\n",
       "    <tr style=\"text-align: right;\">\n",
       "      <th></th>\n",
       "      <th>review</th>\n",
       "      <th>label</th>\n",
       "      <th>scores_TextBlob</th>\n",
       "      <th>pred_TextBlob</th>\n",
       "      <th>scores_VADER</th>\n",
       "      <th>pred_VADER</th>\n",
       "      <th>scores_flair</th>\n",
       "      <th>pred_flair</th>\n",
       "    </tr>\n",
       "  </thead>\n",
       "  <tbody>\n",
       "    <tr>\n",
       "      <th>0</th>\n",
       "      <td>Wow... Loved this place.</td>\n",
       "      <td>1</td>\n",
       "      <td>0.40</td>\n",
       "      <td>1</td>\n",
       "      <td>0.5994</td>\n",
       "      <td>1</td>\n",
       "      <td>0.992839</td>\n",
       "      <td>POSITIVE</td>\n",
       "    </tr>\n",
       "    <tr>\n",
       "      <th>1</th>\n",
       "      <td>Crust is not good.</td>\n",
       "      <td>0</td>\n",
       "      <td>-0.35</td>\n",
       "      <td>0</td>\n",
       "      <td>-0.3412</td>\n",
       "      <td>0</td>\n",
       "      <td>0.999943</td>\n",
       "      <td>NEGATIVE</td>\n",
       "    </tr>\n",
       "    <tr>\n",
       "      <th>2</th>\n",
       "      <td>Not tasty and the texture was just nasty.</td>\n",
       "      <td>0</td>\n",
       "      <td>-1.00</td>\n",
       "      <td>0</td>\n",
       "      <td>-0.5574</td>\n",
       "      <td>0</td>\n",
       "      <td>0.999888</td>\n",
       "      <td>NEGATIVE</td>\n",
       "    </tr>\n",
       "    <tr>\n",
       "      <th>3</th>\n",
       "      <td>Stopped by during the late May bank holiday of...</td>\n",
       "      <td>1</td>\n",
       "      <td>0.20</td>\n",
       "      <td>1</td>\n",
       "      <td>0.6908</td>\n",
       "      <td>1</td>\n",
       "      <td>0.993655</td>\n",
       "      <td>POSITIVE</td>\n",
       "    </tr>\n",
       "    <tr>\n",
       "      <th>4</th>\n",
       "      <td>The selection on the menu was great and so wer...</td>\n",
       "      <td>1</td>\n",
       "      <td>0.80</td>\n",
       "      <td>1</td>\n",
       "      <td>0.6249</td>\n",
       "      <td>1</td>\n",
       "      <td>0.988007</td>\n",
       "      <td>POSITIVE</td>\n",
       "    </tr>\n",
       "  </tbody>\n",
       "</table>\n",
       "</div>"
      ],
      "text/plain": [
       "                                              review  label  scores_TextBlob  \\\n",
       "0                           Wow... Loved this place.      1             0.40   \n",
       "1                                 Crust is not good.      0            -0.35   \n",
       "2          Not tasty and the texture was just nasty.      0            -1.00   \n",
       "3  Stopped by during the late May bank holiday of...      1             0.20   \n",
       "4  The selection on the menu was great and so wer...      1             0.80   \n",
       "\n",
       "   pred_TextBlob  scores_VADER  pred_VADER  scores_flair pred_flair  \n",
       "0              1        0.5994           1      0.992839   POSITIVE  \n",
       "1              0       -0.3412           0      0.999943   NEGATIVE  \n",
       "2              0       -0.5574           0      0.999888   NEGATIVE  \n",
       "3              1        0.6908           1      0.993655   POSITIVE  \n",
       "4              1        0.6249           1      0.988007   POSITIVE  "
      ]
     },
     "execution_count": 44,
     "metadata": {},
     "output_type": "execute_result"
    }
   ],
   "source": [
    "amz_review.head()"
   ]
  },
  {
   "cell_type": "code",
   "execution_count": 45,
   "id": "e0680d90",
   "metadata": {},
   "outputs": [
    {
     "data": {
      "text/plain": [
       "count    1000.000000\n",
       "mean        0.971674\n",
       "std         0.083650\n",
       "min         0.502009\n",
       "25%         0.991594\n",
       "50%         0.998672\n",
       "75%         0.999800\n",
       "max         0.999998\n",
       "Name: scores_flair, dtype: float64"
      ]
     },
     "execution_count": 45,
     "metadata": {},
     "output_type": "execute_result"
    }
   ],
   "source": [
    "# Check the distribution of the score\n",
    "amz_review['scores_flair'].describe()"
   ]
  },
  {
   "cell_type": "code",
   "execution_count": 46,
   "id": "59df87af",
   "metadata": {},
   "outputs": [
    {
     "data": {
      "text/plain": [
       "pred_flair\n",
       "POSITIVE    510\n",
       "NEGATIVE    490\n",
       "Name: count, dtype: int64"
      ]
     },
     "execution_count": 46,
     "metadata": {},
     "output_type": "execute_result"
    }
   ],
   "source": [
    "# Check the counts of labels\n",
    "amz_review['pred_flair'].value_counts()"
   ]
  },
  {
   "cell_type": "code",
   "execution_count": 47,
   "id": "04307c4a",
   "metadata": {},
   "outputs": [],
   "source": [
    "# Change the label of flair prediction to 0 if negative and 1 if positive\n",
    "mapping = {'NEGATIVE': 0, 'POSITIVE': 1}\n",
    "amz_review['pred_flair'] = amz_review['pred_flair'].map(mapping)"
   ]
  },
  {
   "cell_type": "code",
   "execution_count": 48,
   "id": "dcbb1a2b",
   "metadata": {},
   "outputs": [
    {
     "data": {
      "text/plain": [
       "pred_flair\n",
       "1    510\n",
       "0    490\n",
       "Name: count, dtype: int64"
      ]
     },
     "execution_count": 48,
     "metadata": {},
     "output_type": "execute_result"
    }
   ],
   "source": [
    "# Check counts\n",
    "amz_review['pred_flair'].value_counts()"
   ]
  },
  {
   "cell_type": "code",
   "execution_count": 49,
   "id": "b67489ab",
   "metadata": {},
   "outputs": [
    {
     "name": "stdout",
     "output_type": "stream",
     "text": [
      "Accuracy: 0.93\n",
      "Precision: 0.930172068827531\n",
      "Recall: 0.9299999999999999\n",
      "F1: 0.9299929992999301\n"
     ]
    }
   ],
   "source": [
    "# Compare Actual and Predicted and get the Accuracy, Precision, Recall, and F1 score\n",
    "actual_labels = amz_review['label']\n",
    "predicted_labels = amz_review['pred_flair']\n",
    "\n",
    "accuracy_flair = accuracy_score(actual_labels,predicted_labels)\n",
    "precision_flair = precision_score(actual_labels, predicted_labels, average='macro')  # Use 'micro' or 'weighted' if more appropriate\n",
    "recall_flair = recall_score(actual_labels, predicted_labels, average='macro')\n",
    "f1_flair = f1_score(actual_labels, predicted_labels, average='macro')\n",
    "\n",
    "print(f'Accuracy:', accuracy_flair)\n",
    "print(f'Precision:', precision_flair)\n",
    "print(f'Recall:', recall_flair)\n",
    "print(f'F1:', f1_flair)"
   ]
  },
  {
   "cell_type": "code",
   "execution_count": 50,
   "id": "7cf0aa7b",
   "metadata": {},
   "outputs": [
    {
     "name": "stdout",
     "output_type": "stream",
     "text": [
      "Defaulting to user installation because normal site-packages is not writeable\n",
      "Requirement already satisfied: matplotlib in c:\\programdata\\anaconda3\\lib\\site-packages (3.7.2)\n",
      "Requirement already satisfied: contourpy>=1.0.1 in c:\\programdata\\anaconda3\\lib\\site-packages (from matplotlib) (1.0.5)\n",
      "Requirement already satisfied: cycler>=0.10 in c:\\programdata\\anaconda3\\lib\\site-packages (from matplotlib) (0.11.0)\n",
      "Requirement already satisfied: fonttools>=4.22.0 in c:\\programdata\\anaconda3\\lib\\site-packages (from matplotlib) (4.25.0)\n",
      "Requirement already satisfied: kiwisolver>=1.0.1 in c:\\programdata\\anaconda3\\lib\\site-packages (from matplotlib) (1.4.4)\n",
      "Requirement already satisfied: numpy>=1.20 in c:\\programdata\\anaconda3\\lib\\site-packages (from matplotlib) (1.24.3)\n",
      "Requirement already satisfied: packaging>=20.0 in c:\\programdata\\anaconda3\\lib\\site-packages (from matplotlib) (23.1)\n",
      "Requirement already satisfied: pillow>=6.2.0 in c:\\programdata\\anaconda3\\lib\\site-packages (from matplotlib) (10.0.1)\n",
      "Requirement already satisfied: pyparsing<3.1,>=2.3.1 in c:\\programdata\\anaconda3\\lib\\site-packages (from matplotlib) (3.0.9)\n",
      "Requirement already satisfied: python-dateutil>=2.7 in c:\\programdata\\anaconda3\\lib\\site-packages (from matplotlib) (2.8.2)\n",
      "Requirement already satisfied: six>=1.5 in c:\\programdata\\anaconda3\\lib\\site-packages (from python-dateutil>=2.7->matplotlib) (1.16.0)\n"
     ]
    }
   ],
   "source": [
    "!pip install matplotlib"
   ]
  },
  {
   "cell_type": "code",
   "execution_count": 58,
   "id": "1c7d21a2",
   "metadata": {},
   "outputs": [
    {
     "data": {
      "image/png": "[encoded data removed]",
      "text/plain": [
       "<Figure size 640x480 with 1 Axes>"
      ]
     },
     "metadata": {},
     "output_type": "display_data"
    }
   ],
   "source": [
    "import matplotlib.pyplot as plt\n",
    "\n",
    "# Conver the results in lists\n",
    "textblob_values = [accuracy_TextBlob, precision_TextBlob, recall_TextBlob, f1_TextBlob]\n",
    "# textblobNB_values = [accuracy_TextBlob_NB, precision_TextBlob_NB, recall_TextBlob_NB, f1_TextBlob_NB]\n",
    "vader_values = [accuracy_VADER, precision_VADER, recall_VADER, f1_VADER]\n",
    "flair_values = [accuracy_flair, precision_flair, recall_flair, f1_flair]\n",
    "\n",
    "labels = ['Accuracy', 'Precision', 'Recall', 'F1 Score']\n",
    "\n",
    "# Setting the positions and width for the bars\n",
    "x = range(len(labels))  # the label locations\n",
    "width = 0.2  # the width of the bars\n",
    "\n",
    "# Plotting\n",
    "fig, ax = plt.subplots()\n",
    "rects1 = ax.bar(x, textblob_values, width, label='TextBlob')\n",
    "rects2 = ax.bar([p + width for p in x], vader_values, width, label='VADER')\n",
    "rects3 = ax.bar([p + width * 2 for p in x], flair_values, width, label='Flair')\n",
    "\n",
    "# Add some text for labels, title, and custom x-axis tick labels\n",
    "ax.set_ylabel('Scores')\n",
    "ax.set_title('Comparison of Sentiment Analysis Tools')\n",
    "ax.set_xticks([p + width for p in x])\n",
    "ax.set_xticklabels(labels)\n",
    "ax.legend(loc='lower right')\n",
    "\n",
    "# Function to add labels on the bars\n",
    "def autolabel(rects):\n",
    "    for rect in rects:\n",
    "        height = rect.get_height()\n",
    "        ax.annotate(f'{height:.2f}',\n",
    "                    xy=(rect.get_x() + rect.get_width() / 2, height),\n",
    "                    xytext=(0, 3),  # 3 points vertical offset\n",
    "                    textcoords=\"offset points\",\n",
    "                    ha='center', va='bottom')\n",
    "\n",
    "# Attach labels\n",
    "autolabel(rects1)\n",
    "autolabel(rects2)\n",
    "autolabel(rects3)\n",
    "\n",
    "# Show the plot\n",
    "plt.show()"
   ]
  },
  {
   "cell_type": "code",
   "execution_count": null,
   "id": "844748af",
   "metadata": {},
   "outputs": [],
   "source": []
  }
 ],
 "metadata": {
  "kernelspec": {
   "display_name": "Python 3 (ipykernel)",
   "language": "python",
   "name": "python3"
  },
  "language_info": {
   "codemirror_mode": {
    "name": "ipython",
    "version": 3
   },
   "file_extension": ".py",
   "mimetype": "text/x-python",
   "name": "python",
   "nbconvert_exporter": "python",
   "pygments_lexer": "ipython3",
   "version": "3.11.5"
  }
 },
 "nbformat": 4,
 "nbformat_minor": 5
}
