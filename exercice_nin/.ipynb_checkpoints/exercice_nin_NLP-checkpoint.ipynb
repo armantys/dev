{
 "cells": [
  {
   "cell_type": "code",
   "execution_count": 23,
   "id": "a9caec14",
   "metadata": {},
   "outputs": [],
   "source": [
    "import pandas as pd\n",
    "import nltk\n",
    "from nltk.corpus import stopwords\n",
    "from nltk.tokenize import word_tokenize\n",
    "from nltk.stem import WordNetLemmatizer\n",
    "from nltk.stem.porter import PorterStemmer\n",
    "import string\n",
    "import re\n"
   ]
  },
  {
   "cell_type": "code",
   "execution_count": 20,
   "id": "fdc7b9db",
   "metadata": {},
   "outputs": [
    {
     "name": "stderr",
     "output_type": "stream",
     "text": [
      "[nltk_data] Downloading package wordnet to\n",
      "[nltk_data]     C:\\Users\\admin\\AppData\\Roaming\\nltk_data...\n"
     ]
    }
   ],
   "source": [
    "#nltk.download('punkt')\n",
    "#nltk.download('stopwords')\n",
    "nltk.download('wordnet')\n",
    "\n",
    "# Charger le fichier CSV\n",
    "df = pd.read_csv(r'C:\\Users\\admin\\OneDrive\\Bureau\\visual code\\python\\NLP_learn\\SMS_test.csv', encoding='unicode_escape')"
   ]
  },
  {
   "cell_type": "code",
   "execution_count": 4,
   "id": "5bf353f5",
   "metadata": {},
   "outputs": [],
   "source": [
    "# Removing numbers/digits\n",
    "def remove_numbers(text):\n",
    "\tresult = re.sub(r'(\\d\\s?)+', '', text)\n",
    "\treturn result"
   ]
  },
  {
   "cell_type": "code",
   "execution_count": 5,
   "id": "9a629049",
   "metadata": {},
   "outputs": [],
   "source": [
    "# Lowercasing\n",
    "def lower_casing(text):\n",
    "     return text.lower()"
   ]
  },
  {
   "cell_type": "code",
   "execution_count": 8,
   "id": "f006462c",
   "metadata": {},
   "outputs": [],
   "source": [
    "#tokenization\n",
    "def tokenization_text(text):\n",
    "    result = nltk.word_tokenize(text)\n",
    "    return result"
   ]
  },
  {
   "cell_type": "code",
   "execution_count": 9,
   "id": "a30c4571",
   "metadata": {},
   "outputs": [],
   "source": [
    "#Stopwords removal\n",
    "def remove_stopword(text):\n",
    "    stop_words = set(stopwords.words(\"english\"))\n",
    "    word_tokens = word_tokenize(text)\n",
    "    filtered_text = [word for word in word_tokens if word.lower() not in stop_words]\n",
    "\n",
    "    return filtered_text"
   ]
  },
  {
   "cell_type": "code",
   "execution_count": 18,
   "id": "456395e2",
   "metadata": {},
   "outputs": [],
   "source": [
    "#function to lemmatize words in the list of tokenized words\n",
    "\n",
    "#Initialize the WordNetLemmatizer\n",
    "lemmatizer = WordNetLemmatizer()\n",
    "\n",
    "def lemma_words(text):\n",
    "    word_tokens = word_tokenize(text)\n",
    "    lemmas = [lemmatizer.lemmatize(word) for word in word_tokens]\n",
    "    return lemmas"
   ]
  },
  {
   "cell_type": "code",
   "execution_count": 24,
   "id": "cbc53c62",
   "metadata": {},
   "outputs": [],
   "source": [
    "stemmer = PorterStemmer()\n",
    "\n",
    "#stem words in the list of tokenized words\n",
    "def stem_words(text8):\n",
    "    word_tokens = word_tokenize(text8)\n",
    "    stem = [stemmer.stem(word) for word in word_tokens]\n",
    "    return stem"
   ]
  },
  {
   "cell_type": "code",
   "execution_count": 26,
   "id": "1b955e44",
   "metadata": {},
   "outputs": [
    {
     "data": {
      "text/html": [
       "<div>\n",
       "<style scoped>\n",
       "    .dataframe tbody tr th:only-of-type {\n",
       "        vertical-align: middle;\n",
       "    }\n",
       "\n",
       "    .dataframe tbody tr th {\n",
       "        vertical-align: top;\n",
       "    }\n",
       "\n",
       "    .dataframe thead th {\n",
       "        text-align: right;\n",
       "    }\n",
       "</style>\n",
       "<table border=\"1\" class=\"dataframe\">\n",
       "  <thead>\n",
       "    <tr style=\"text-align: right;\">\n",
       "      <th></th>\n",
       "      <th>S. No.</th>\n",
       "      <th>Message_body</th>\n",
       "      <th>Label</th>\n",
       "      <th>clean_text</th>\n",
       "      <th>lower_case</th>\n",
       "      <th>tokenization</th>\n",
       "      <th>stopwords</th>\n",
       "      <th>lemmatization</th>\n",
       "      <th>stem</th>\n",
       "    </tr>\n",
       "  </thead>\n",
       "  <tbody>\n",
       "    <tr>\n",
       "      <th>0</th>\n",
       "      <td>1</td>\n",
       "      <td>UpgrdCentre Orange customer, you may now claim...</td>\n",
       "      <td>Spam</td>\n",
       "      <td>[upgrdcentr, orang, custom, ,, you, may, now, ...</td>\n",
       "      <td>[upgrdcentr, orang, custom, ,, you, may, now, ...</td>\n",
       "      <td>[upgrdcentr, orang, custom, ,, you, may, now, ...</td>\n",
       "      <td>[upgrdcentr, orang, custom, ,, you, may, now, ...</td>\n",
       "      <td>[upgrdcentr, orang, custom, ,, you, may, now, ...</td>\n",
       "      <td>[upgrdcentr, orang, custom, ,, you, may, now, ...</td>\n",
       "    </tr>\n",
       "  </tbody>\n",
       "</table>\n",
       "</div>"
      ],
      "text/plain": [
       "   S. No.                                       Message_body Label  \\\n",
       "0       1  UpgrdCentre Orange customer, you may now claim...  Spam   \n",
       "\n",
       "                                          clean_text  \\\n",
       "0  [upgrdcentr, orang, custom, ,, you, may, now, ...   \n",
       "\n",
       "                                          lower_case  \\\n",
       "0  [upgrdcentr, orang, custom, ,, you, may, now, ...   \n",
       "\n",
       "                                        tokenization  \\\n",
       "0  [upgrdcentr, orang, custom, ,, you, may, now, ...   \n",
       "\n",
       "                                           stopwords  \\\n",
       "0  [upgrdcentr, orang, custom, ,, you, may, now, ...   \n",
       "\n",
       "                                       lemmatization  \\\n",
       "0  [upgrdcentr, orang, custom, ,, you, may, now, ...   \n",
       "\n",
       "                                                stem  \n",
       "0  [upgrdcentr, orang, custom, ,, you, may, now, ...  "
      ]
     },
     "execution_count": 26,
     "metadata": {},
     "output_type": "execute_result"
    }
   ],
   "source": [
    "clean_text = []\n",
    "\n",
    "for text in df['Message_body']:\n",
    "    result = remove_numbers(text)\n",
    "    result = lower_casing(text)\n",
    "    result = tokenization_text(text)\n",
    "    result = remove_stopword(text)\n",
    "    result = lemma_words(text)\n",
    "    result = stem_words(text)\n",
    "    clean_text.append(result)\n",
    "\n",
    "df['clean_text']= clean_text\n",
    "df['lower_case']= clean_text\n",
    "df['tokenization']= clean_text\n",
    "df['stopwords']= clean_text\n",
    "df['lemmatization'] = clean_text\n",
    "df['stem'] = clean_text\n",
    "\n",
    "df.head(1)"
   ]
  },
  {
   "cell_type": "code",
   "execution_count": null,
   "id": "14f711cc",
   "metadata": {},
   "outputs": [],
   "source": []
  }
 ],
 "metadata": {
  "kernelspec": {
   "display_name": "Python 3 (ipykernel)",
   "language": "python",
   "name": "python3"
  },
  "language_info": {
   "codemirror_mode": {
    "name": "ipython",
    "version": 3
   },
   "file_extension": ".py",
   "mimetype": "text/x-python",
   "name": "python",
   "nbconvert_exporter": "python",
   "pygments_lexer": "ipython3",
   "version": "3.11.5"
  }
 },
 "nbformat": 4,
 "nbformat_minor": 5
}
