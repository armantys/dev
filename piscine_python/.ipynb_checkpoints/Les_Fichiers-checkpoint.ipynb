{
 "cells": [
  {
   "cell_type": "code",
   "execution_count": 1,
   "id": "855a05b7",
   "metadata": {},
   "outputs": [
    {
     "ename": "KeyboardInterrupt",
     "evalue": "Interrupted by user",
     "output_type": "error",
     "traceback": [
      "\u001b[1;31m---------------------------------------------------------------------------\u001b[0m",
      "\u001b[1;31mKeyboardInterrupt\u001b[0m                         Traceback (most recent call last)",
      "Cell \u001b[1;32mIn[1], line 12\u001b[0m\n\u001b[0;32m      1\u001b[0m \u001b[38;5;66;03m#exercice 1\u001b[39;00m\n\u001b[0;32m      2\u001b[0m \n\u001b[0;32m      3\u001b[0m \n\u001b[0;32m      4\u001b[0m \u001b[38;5;66;03m# Ecrivez un programme qui permet à l'utilisateur d'écrire un \u001b[39;00m\n\u001b[0;32m      5\u001b[0m \u001b[38;5;66;03m# fichier texte simple (.txt). Le programme demande à l'utilisateur le nom du fichier, \u001b[39;00m\n\u001b[0;32m      6\u001b[0m \u001b[38;5;66;03m# ainsi que son contenu. Après validation, le fichier est enregistré sur l'ordinateur.\u001b[39;00m\n\u001b[0;32m     10\u001b[0m \u001b[38;5;28;01mimport\u001b[39;00m \u001b[38;5;21;01mos\u001b[39;00m\n\u001b[1;32m---> 12\u001b[0m nomfichier \u001b[38;5;241m=\u001b[39m \u001b[38;5;28mstr\u001b[39m(\u001b[38;5;28minput\u001b[39m(\u001b[38;5;124m\"\u001b[39m\u001b[38;5;124mquel est le nom du fichier ? : \u001b[39m\u001b[38;5;124m\"\u001b[39m))\n\u001b[0;32m     13\u001b[0m ajout \u001b[38;5;241m=\u001b[39m \u001b[38;5;28minput\u001b[39m(\u001b[38;5;124m\"\u001b[39m\u001b[38;5;124majouter un texte : \u001b[39m\u001b[38;5;124m\"\u001b[39m)\n\u001b[0;32m     16\u001b[0m \u001b[38;5;28;01mwhile\u001b[39;00m \u001b[38;5;28;01mTrue\u001b[39;00m:\n",
      "File \u001b[1;32mC:\\ProgramData\\anaconda3\\Lib\\site-packages\\ipykernel\\kernelbase.py:1202\u001b[0m, in \u001b[0;36mKernel.raw_input\u001b[1;34m(self, prompt)\u001b[0m\n\u001b[0;32m   1200\u001b[0m     msg \u001b[38;5;241m=\u001b[39m \u001b[38;5;124m\"\u001b[39m\u001b[38;5;124mraw_input was called, but this frontend does not support input requests.\u001b[39m\u001b[38;5;124m\"\u001b[39m\n\u001b[0;32m   1201\u001b[0m     \u001b[38;5;28;01mraise\u001b[39;00m StdinNotImplementedError(msg)\n\u001b[1;32m-> 1202\u001b[0m \u001b[38;5;28;01mreturn\u001b[39;00m \u001b[38;5;28mself\u001b[39m\u001b[38;5;241m.\u001b[39m_input_request(\n\u001b[0;32m   1203\u001b[0m     \u001b[38;5;28mstr\u001b[39m(prompt),\n\u001b[0;32m   1204\u001b[0m     \u001b[38;5;28mself\u001b[39m\u001b[38;5;241m.\u001b[39m_parent_ident[\u001b[38;5;124m\"\u001b[39m\u001b[38;5;124mshell\u001b[39m\u001b[38;5;124m\"\u001b[39m],\n\u001b[0;32m   1205\u001b[0m     \u001b[38;5;28mself\u001b[39m\u001b[38;5;241m.\u001b[39mget_parent(\u001b[38;5;124m\"\u001b[39m\u001b[38;5;124mshell\u001b[39m\u001b[38;5;124m\"\u001b[39m),\n\u001b[0;32m   1206\u001b[0m     password\u001b[38;5;241m=\u001b[39m\u001b[38;5;28;01mFalse\u001b[39;00m,\n\u001b[0;32m   1207\u001b[0m )\n",
      "File \u001b[1;32mC:\\ProgramData\\anaconda3\\Lib\\site-packages\\ipykernel\\kernelbase.py:1245\u001b[0m, in \u001b[0;36mKernel._input_request\u001b[1;34m(self, prompt, ident, parent, password)\u001b[0m\n\u001b[0;32m   1242\u001b[0m \u001b[38;5;28;01mexcept\u001b[39;00m \u001b[38;5;167;01mKeyboardInterrupt\u001b[39;00m:\n\u001b[0;32m   1243\u001b[0m     \u001b[38;5;66;03m# re-raise KeyboardInterrupt, to truncate traceback\u001b[39;00m\n\u001b[0;32m   1244\u001b[0m     msg \u001b[38;5;241m=\u001b[39m \u001b[38;5;124m\"\u001b[39m\u001b[38;5;124mInterrupted by user\u001b[39m\u001b[38;5;124m\"\u001b[39m\n\u001b[1;32m-> 1245\u001b[0m     \u001b[38;5;28;01mraise\u001b[39;00m \u001b[38;5;167;01mKeyboardInterrupt\u001b[39;00m(msg) \u001b[38;5;28;01mfrom\u001b[39;00m \u001b[38;5;28;01mNone\u001b[39;00m\n\u001b[0;32m   1246\u001b[0m \u001b[38;5;28;01mexcept\u001b[39;00m \u001b[38;5;167;01mException\u001b[39;00m:\n\u001b[0;32m   1247\u001b[0m     \u001b[38;5;28mself\u001b[39m\u001b[38;5;241m.\u001b[39mlog\u001b[38;5;241m.\u001b[39mwarning(\u001b[38;5;124m\"\u001b[39m\u001b[38;5;124mInvalid Message:\u001b[39m\u001b[38;5;124m\"\u001b[39m, exc_info\u001b[38;5;241m=\u001b[39m\u001b[38;5;28;01mTrue\u001b[39;00m)\n",
      "\u001b[1;31mKeyboardInterrupt\u001b[0m: Interrupted by user"
     ]
    }
   ],
   "source": [
    "#exercice 1\n",
    "\n",
    "\n",
    "# Ecrivez un programme qui permet à l'utilisateur d'écrire un \n",
    "# fichier texte simple (.txt). Le programme demande à l'utilisateur le nom du fichier, \n",
    "# ainsi que son contenu. Après validation, le fichier est enregistré sur l'ordinateur.\n",
    "\n",
    "\n",
    "\n",
    "import os\n",
    "\n",
    "nomfichier = str(input(\"quel est le nom du fichier ? : \"))\n",
    "ajout = input(\"ajouter un texte : \")\n",
    "\n",
    "\n",
    "while True:\n",
    "    choix = input(\"\"\"voulez vous sauvegarder le fichier  ? : \n",
    "     - oui\n",
    "     - non\n",
    "     \"\"\")\n",
    "    if choix == \"oui\":\n",
    "        with open(f'{nomfichier}.txt', 'x') as fichier:\n",
    "            fichier.write(ajout)\n",
    "            print(\"votre fichier a été sauvegarder \")\n",
    "            break\n",
    "    elif choix == \"non\":\n",
    "            print(\"votre fichier n'a pas été sauvegarder \")\n",
    "            break\n",
    "    else:\n",
    "        print(\"refaite votre choix\")"
   ]
  },
  {
   "cell_type": "code",
   "execution_count": 36,
   "id": "86b1276c",
   "metadata": {},
   "outputs": [
    {
     "name": "stdout",
     "output_type": "stream",
     "text": [
      "quel est le nom du fichier ? : poire\n",
      "le fichier n'existe pas, saisissez a nouveau le nom du fichier \n",
      "quel est le nom du fichier ? : pomme\n",
      "êtes vous sur de vouloir lire ce fichier fichier ? : \n",
      "         - oui\n",
      "         - non\n",
      "           oui\n",
      "j'aime les pommes\n"
     ]
    }
   ],
   "source": [
    "#exercice 2\n",
    "\n",
    "# Ecrivez un programme qui permet à l'utilisateur de lire un fichier texte simple (.txt). \n",
    "# Le programme demande à l'utilisateur le nom du fichier. \n",
    "# Après validation, le fichier est ouvert et son contenu est affiché.\n",
    "\n",
    "\n",
    "\n",
    "\n",
    "while True:\n",
    "    nomfichier = str(input(\"quel est le nom du fichier ? : \"))\n",
    "    if os.path.exists(f\"{nomfichier}.txt\"):\n",
    "        choix = input(\"\"\"êtes vous sur de vouloir lire ce fichier fichier ? : \n",
    "         - oui\n",
    "         - non\n",
    "           \"\"\")\n",
    "        if choix == \"oui\":\n",
    "            with open(f'{nomfichier}.txt', 'r') as fichier:\n",
    "                lire = fichier.read()\n",
    "                print(lire)\n",
    "                break\n",
    "        elif choix == \"non\":\n",
    "                print(\"le fichier n'a pas été lu\")\n",
    "                break\n",
    "        else:\n",
    "            print(\"refaite votre choix\")\n",
    "    else:\n",
    "        print(\"le fichier n'existe pas, saisissez a nouveau le nom du fichier \")"
   ]
  },
  {
   "cell_type": "code",
   "execution_count": 2,
   "id": "99ec17e5",
   "metadata": {},
   "outputs": [
    {
     "name": "stdout",
     "output_type": "stream",
     "text": [
      "quel est le nom du fichier ? : pomme\n",
      "quel est le nom du 2eme fichier ? : poire\n",
      "j'aime\t\tles\t\tpommes\n"
     ]
    }
   ],
   "source": [
    "#exercice 3\n",
    "\n",
    "# Écrivez un programme qui ouvre un fichier texte, \n",
    "# et crée un nouveau fichier avec le contenu du premier en triplant tous les espaces entre les mots.\n",
    "\n",
    "\n",
    "\n",
    "\n",
    "nomfichier = str(input(\"quel est le nom du fichier ? : \"))\n",
    "nomfichier2 = str(input(\"quel est le nom du 2eme fichier ? : \"))\n",
    "with open(f'{nomfichier}.txt', 'r') as fichier:\n",
    "    lire = fichier.read().split(\" \")\n",
    "    phrase = \"\\t\\t\".join(lire)\n",
    "    print(phrase)\n",
    "    with open(f'{nomfichier2}.txt', 'x') as fichier:\n",
    "            fichier.write(phrase)"
   ]
  },
  {
   "cell_type": "code",
   "execution_count": 5,
   "id": "72360749",
   "metadata": {},
   "outputs": [
    {
     "name": "stdout",
     "output_type": "stream",
     "text": [
      "quel est le nom du fichier ? : pomme\n",
      "quel est le nom du 2eme fichier ? : poire\n",
      "quel est le nom du 3eme fichier ? : banane\n",
      "j'aime les pommes j'aime les poire\n"
     ]
    }
   ],
   "source": [
    "#exercice 4\n",
    "\n",
    "\n",
    "# Écrire un programme qui ouvre deux fichiers texte et qui en crée un troisième \n",
    "# comportant le contenu des deux premiers à la suite. \n",
    "# Bis : mettre ce programme dans une fonction que l'on pourra appeler en précisant en paramètres \n",
    "# le chemin relatif des deux fichiers à lire ainsi que celui à écrire.\n",
    "\n",
    "\n",
    "def fusion(f1,f2,f3):\n",
    "    with open(f'{f1}{nomfichier}.txt', 'r') as fichier:\n",
    "        lire = fichier.read()\n",
    "    with open(f'{f2}{nomfichier2}.txt', 'r') as fichier:\n",
    "            lire2 = fichier.read()\n",
    "            phrase = lire+','+lire2\n",
    "            print(phrase)\n",
    "            with open(f'{f3}{nomfichier3}.txt', 'x') as fichier:\n",
    "                fichier.write(phrase) \n",
    "    \n",
    "\n",
    "fichier1 = r\"C:\\Users\\ludovic.souquet\\Documents\\GitHub\\ludovic.souquet\\piscine_python\\\\\"\n",
    "fichier2 = r\"C:\\Users\\ludovic.souquet\\Documents\\GitHub\\ludovic.souquet\\piscine_python\\\\\"\n",
    "fichier3 = r\"C:\\Users\\ludovic.souquet\\Documents\\GitHub\\ludovic.souquet\\piscine_python\\\\\"\n",
    "nomfichier = str(input(\"quel est le nom du fichier ? : \"))\n",
    "nomfichier2 = str(input(\"quel est le nom du 2eme fichier ? : \"))\n",
    "nomfichier3 = str(input(\"quel est le nom du 3eme fichier ? : \"))\n",
    "\n",
    "fusion(fichier1,fichier2,fichier3)"
   ]
  },
  {
   "cell_type": "code",
   "execution_count": 38,
   "id": "82f8bebb",
   "metadata": {},
   "outputs": [
    {
     "name": "stdout",
     "output_type": "stream",
     "text": [
      "quelle est le nom du fichier ? : pomme\n",
      "quelle est le mot a chercher ? : les\n",
      "{\"les\": 3}\n",
      "quelle est le mot a chercher ? : poires\n",
      "{\"les\": 3, \"poires\": 1}\n",
      "quelle est le mot a chercher ? : pommes\n",
      "{\"les\": 3, \"poires\": 1, \"pommes\": 1}\n",
      "quelle est le mot a chercher ? : \n",
      "vous avez fini votre recherche\n",
      "{\"\": 0, \"les\": 3, \"poires\": 1, \"pommes\": 1}\n"
     ]
    }
   ],
   "source": [
    "#exercice 5\n",
    "\n",
    "\n",
    "# Écrire un programme permettant d'ouvrir un fichier texte et de donner le nombre d'apparitions d'une liste de mots. \n",
    "# Bis : mettre ce programme dans une fonction qui prendra en paramètres le nom du fichier à ouvrir et la liste des mots à chercher. \n",
    "# Ter : le programme renvoie un objet JSON contenant le résultat de la recherche. Par exemple :\n",
    "\n",
    "\n",
    "import json\n",
    "\n",
    "\n",
    "d1 = dict({})\n",
    "\n",
    "\n",
    "def listedemot(f,l):\n",
    "    with open(f'{f}.txt', 'r') as fichier:\n",
    "        lire = fichier.read()\n",
    "        listemot = lire.split()\n",
    "        d1[l] = listemot.count(l)\n",
    "        print(json.dumps(d1,sort_keys=True))\n",
    "\n",
    "              \n",
    "nomfichier = input(\"quelle est le nom du fichier ? : \") \n",
    "while True :\n",
    "    mot = input(\"quelle est le mot a chercher ? : \")\n",
    "    if mot != \"\": \n",
    "        listedemot(nomfichier,mot)\n",
    "    else:\n",
    "        print(\"vous avez fini votre recherche\")\n",
    "        break"
   ]
  },
  {
   "cell_type": "code",
   "execution_count": null,
   "id": "b71f75f4",
   "metadata": {},
   "outputs": [],
   "source": []
  },
  {
   "cell_type": "code",
   "execution_count": null,
   "id": "0e4106c1",
   "metadata": {},
   "outputs": [],
   "source": []
  }
 ],
 "metadata": {
  "kernelspec": {
   "display_name": "Python 3 (ipykernel)",
   "language": "python",
   "name": "python3"
  },
  "language_info": {
   "codemirror_mode": {
    "name": "ipython",
    "version": 3
   },
   "file_extension": ".py",
   "mimetype": "text/x-python",
   "name": "python",
   "nbconvert_exporter": "python",
   "pygments_lexer": "ipython3",
   "version": "3.11.5"
  }
 },
 "nbformat": 4,
 "nbformat_minor": 5
}
