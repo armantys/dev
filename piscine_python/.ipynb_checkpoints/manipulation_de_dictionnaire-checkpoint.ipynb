{
 "cells": [
  {
   "cell_type": "code",
   "execution_count": 15,
   "id": "aefc1a01",
   "metadata": {},
   "outputs": [
    {
     "ename": "AttributeError",
     "evalue": "'dict' object has no attribute 'nom'",
     "output_type": "error",
     "traceback": [
      "\u001b[1;31m---------------------------------------------------------------------------\u001b[0m",
      "\u001b[1;31mAttributeError\u001b[0m                            Traceback (most recent call last)",
      "Cell \u001b[1;32mIn[15], line 21\u001b[0m\n\u001b[0;32m     17\u001b[0m         \u001b[38;5;28;01mif\u001b[39;00m \u001b[38;5;28mlen\u001b[39m(eleve\u001b[38;5;241m.\u001b[39mnom)\u001b[38;5;241m<\u001b[39m\u001b[38;5;241m=\u001b[39m \u001b[38;5;241m5\u001b[39m:\n\u001b[0;32m     18\u001b[0m             jeune_court\u001b[38;5;241m.\u001b[39mappend(eleve)\n\u001b[1;32m---> 21\u001b[0m age_nom(eleve1,eleve2,eleve3,eleve4,eleve5,eleve6,eleve7)\n",
      "Cell \u001b[1;32mIn[15], line 17\u001b[0m, in \u001b[0;36mage_nom\u001b[1;34m(e1, e2, e3, e4, e5, e6, e7)\u001b[0m\n\u001b[0;32m     15\u001b[0m jeune_long \u001b[38;5;241m=\u001b[39m {}\n\u001b[0;32m     16\u001b[0m \u001b[38;5;28;01mfor\u001b[39;00m eleve \u001b[38;5;129;01min\u001b[39;00m eleves:\n\u001b[1;32m---> 17\u001b[0m     \u001b[38;5;28;01mif\u001b[39;00m \u001b[38;5;28mlen\u001b[39m(eleve\u001b[38;5;241m.\u001b[39mnom)\u001b[38;5;241m<\u001b[39m\u001b[38;5;241m=\u001b[39m \u001b[38;5;241m5\u001b[39m:\n\u001b[0;32m     18\u001b[0m         jeune_court\u001b[38;5;241m.\u001b[39mappend(eleve)\n",
      "\u001b[1;31mAttributeError\u001b[0m: 'dict' object has no attribute 'nom'"
     ]
    }
   ],
   "source": [
    "eleve1 = {'nom':'pinot', 'prenom':'guillaume', 'age':20}\n",
    "eleve2 = {'nom':'pinat', 'prenom':'cedric', 'age':22}\n",
    "eleve3 = {'nom':'pinut', 'prenom':'arthur', 'age':24}\n",
    "eleve4 = {'nom':'pinot', 'prenom':'guillaume', 'age':26}\n",
    "eleve5 = {'nom':'pinat', 'prenom':'cedric', 'age':28}\n",
    "eleve6 = {'nom':'pinut', 'prenom':'arthur', 'age':30}\n",
    "eleve7 = {'nom':'pinutiano', 'prenom':'arthur', 'age':35}\n",
    "\n",
    "def age_nom(e1,e2,e3,e4,e5,e6,e7):\n",
    "    eleves = [eleve1, eleve2, eleve3, eleve4, eleve5, eleve6, eleve7]\n",
    "    cle = 1\n",
    "    jeune_court = {}\n",
    "    vieux_court = {}\n",
    "    vieux_long = {}\n",
    "    jeune_long = {}\n",
    "    for eleve in eleves:\n",
    "        if len(eleve.nom)<= 5:\n",
    "            jeune_court.append(eleve)\n",
    "    \n",
    "    \n",
    "age_nom(eleve1,eleve2,eleve3,eleve4,eleve5,eleve6,eleve7)"
   ]
  },
  {
   "cell_type": "code",
   "execution_count": null,
   "id": "18934499",
   "metadata": {},
   "outputs": [],
   "source": []
  }
 ],
 "metadata": {
  "kernelspec": {
   "display_name": "Python 3 (ipykernel)",
   "language": "python",
   "name": "python3"
  },
  "language_info": {
   "codemirror_mode": {
    "name": "ipython",
    "version": 3
   },
   "file_extension": ".py",
   "mimetype": "text/x-python",
   "name": "python",
   "nbconvert_exporter": "python",
   "pygments_lexer": "ipython3",
   "version": "3.11.5"
  }
 },
 "nbformat": 4,
 "nbformat_minor": 5
}
