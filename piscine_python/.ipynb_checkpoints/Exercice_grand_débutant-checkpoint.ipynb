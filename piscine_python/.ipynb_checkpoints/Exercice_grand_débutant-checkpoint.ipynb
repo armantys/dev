{
 "cells": [
  {
   "cell_type": "code",
   "execution_count": 4,
   "id": "8e77e0fe",
   "metadata": {},
   "outputs": [
    {
     "name": "stdout",
     "output_type": "stream",
     "text": [
      "quel est votre nom? diesel\n",
      "quel est votre prénom? vin\n",
      "bienvenu vin diesel\n"
     ]
    }
   ],
   "source": [
    "#exercice 1\n",
    "\n",
    "nom=input(\"quel est votre nom? \")\n",
    "prenom= input(\"quel est votre prénom? \")\n",
    "\n",
    "print(\"bienvenu\",prenom , nom)"
   ]
  },
  {
   "cell_type": "code",
   "execution_count": 11,
   "id": "49b26c1a",
   "metadata": {},
   "outputs": [
    {
     "name": "stdout",
     "output_type": "stream",
     "text": [
      "saisissez le premier nombre 10\n",
      "saisissez le deuxieme nombre 20\n",
      "la somme des deux nombres est 30.0\n"
     ]
    }
   ],
   "source": [
    "#exercice 2\n",
    "\n",
    "a = float(input(\"saisissez le premier nombre \"))\n",
    "b = float(input(\"saisissez le deuxieme nombre \"))\n",
    "\n",
    "print(\"la somme des deux nombres est\",a + b)"
   ]
  },
  {
   "cell_type": "code",
   "execution_count": 12,
   "id": "b2b76cbf",
   "metadata": {},
   "outputs": [
    {
     "name": "stdout",
     "output_type": "stream",
     "text": [
      "saisissez le premier nombre 10\n",
      "saisissez le deuxieme nombre 20\n",
      "le plus grand nombre est 20.0\n"
     ]
    }
   ],
   "source": [
    "#ecercice 3\n",
    "\n",
    "\n",
    "a = float(input(\"saisissez le premier nombre \"))\n",
    "b = float(input(\"saisissez le deuxieme nombre \"))\n",
    "\n",
    "if (a<b):\n",
    "    print(\"le plus grand nombre est\", b)\n",
    "else:\n",
    "    print(\"le plus grand nombre est\", a)"
   ]
  },
  {
   "cell_type": "code",
   "execution_count": 8,
   "id": "c64d7d85",
   "metadata": {},
   "outputs": [
    {
     "name": "stdout",
     "output_type": "stream",
     "text": [
      "saisissez nombre entier 20\n",
      "1234567891011121314151617181920"
     ]
    }
   ],
   "source": [
    "#exercice 4\n",
    "\n",
    "a = int(input(\"saisissez nombre entier \"))\n",
    "\n",
    "for i in range(1,a +1):\n",
    "    print(i, end=\"\")\n",
    "\n",
    "\n",
    "    "
   ]
  },
  {
   "cell_type": "code",
   "execution_count": 15,
   "id": "a3e10437",
   "metadata": {},
   "outputs": [
    {
     "name": "stdout",
     "output_type": "stream",
     "text": [
      "saisissez nombre entier 15\n",
      "15 ce nombre est impaire\n"
     ]
    }
   ],
   "source": [
    "#exercice 5\n",
    "\n",
    "a = int(input(\"saisissez nombre entier \"))\n",
    "\n",
    "if (a%2) == 0:\n",
    "    print(a ,\"ce nombre est paire\")\n",
    "else:\n",
    "    print(a ,\"ce nombre est impaire\")"
   ]
  },
  {
   "cell_type": "code",
   "execution_count": 3,
   "id": "1f70851b",
   "metadata": {},
   "outputs": [
    {
     "name": "stdout",
     "output_type": "stream",
     "text": [
      "saisissez votre âge 15\n",
      "vous avez 15 vous êtes mineur\n"
     ]
    }
   ],
   "source": [
    "#exercice 6\n",
    "\n",
    "age = int(input(\"saisissez votre âge \"))\n",
    "\n",
    "if(age>18):\n",
    "    print(\"vous avez\",age,\"vous êtes majeur\")\n",
    "else:\n",
    "    print(\"vous avez\",age,\"vous êtes mineur\")"
   ]
  },
  {
   "cell_type": "code",
   "execution_count": 6,
   "id": "e8f29765",
   "metadata": {},
   "outputs": [
    {
     "name": "stdout",
     "output_type": "stream",
     "text": [
      "saisissez le premier nombre 22\n",
      "saisissez le deuxieme nombre 15\n",
      "saisissez le troisieme nombre 2\n",
      "None\n",
      "le nombre le plus grand est:  22.0\n"
     ]
    }
   ],
   "source": [
    "#exercice 7\n",
    "\n",
    "x = float(input(\"saisissez le premier nombre \"))\n",
    "y = float(input(\"saisissez le deuxieme nombre \"))\n",
    "z = float(input(\"saisissez le troisieme nombre \"))\n",
    "\n",
    "liste = [x,y,z]\n",
    "\n",
    "liste.sort()\n",
    "\n",
    "print(\"le nombre le plus grand est: \", liste[-1])\n"
   ]
  },
  {
   "cell_type": "code",
   "execution_count": 66,
   "id": "c1a8f8dc",
   "metadata": {},
   "outputs": [
    {
     "name": "stdout",
     "output_type": "stream",
     "text": [
      "saisissez un nombre entier 20\n",
      "la somme de 1+2+..+n = 210\n"
     ]
    }
   ],
   "source": [
    "#exercice 8\n",
    "s=0\n",
    "n = input(\"saisissez un nombre entier \")\n",
    "n = int(n)\n",
    "for i in range(0,n+1):\n",
    "    s = s + i\n",
    "print(\"la somme de 1+2+..+n =\", s)\n",
    "\n",
    "    \n",
    "    "
   ]
  },
  {
   "cell_type": "code",
   "execution_count": 65,
   "id": "818403ef",
   "metadata": {},
   "outputs": [
    {
     "name": "stdout",
     "output_type": "stream",
     "text": [
      "saisissez un nombre entier 5\n",
      "foctoriel de n est : 5 ! = :  120\n"
     ]
    }
   ],
   "source": [
    "#exercice 9\n",
    "\n",
    "n = int(input(\"saisissez un nombre entier \"))\n",
    "\n",
    "s= 1\n",
    "for i in range(1,n+1):\n",
    "    s=s*i\n",
    "print(\"foctoriel de n est :\",n,\"! = : \", s)"
   ]
  },
  {
   "cell_type": "code",
   "execution_count": 71,
   "id": "1bbfd7a5",
   "metadata": {},
   "outputs": [
    {
     "name": "stdout",
     "output_type": "stream",
     "text": [
      "quel est le rayon du cercle ? 10\n",
      "la surface du cercle est de: 314.0 et son périmètre est: 62.800000000000004\n"
     ]
    }
   ],
   "source": [
    "#exercice 10\n",
    "\n",
    "rayon = int(input(\"quel est le rayon du cercle ? \"))\n",
    "\n",
    "#pour calculé un perimetre on fait 2*pi*r et pour la surface r*r*pi\n",
    "perimetre= 2*3.14*rayon\n",
    "surface = (rayon*rayon)*3.14\n",
    "\n",
    "print(\"la surface du cercle est de:\",surface,\"et son périmètre est:\", perimetre)"
   ]
  },
  {
   "cell_type": "code",
   "execution_count": 72,
   "id": "8d9b4df8",
   "metadata": {},
   "outputs": [
    {
     "name": "stdout",
     "output_type": "stream",
     "text": [
      "saisissez un nombre entier 10\n",
      "le nombre 1 est un diviseur de  10\n",
      "le nombre 2 est un diviseur de  10\n",
      "le nombre 5 est un diviseur de  10\n",
      "le nombre 10 est un diviseur de  10\n"
     ]
    }
   ],
   "source": [
    "#exercice 11\n",
    "\n",
    "n = int(input(\"saisissez un nombre entier \"))\n",
    "\n",
    "for i in range(1,n+1):\n",
    "    if(n%i==0):\n",
    "        print(\"le nombre\",i,\"est un diviseur de \",n)"
   ]
  },
  {
   "cell_type": "code",
   "execution_count": 83,
   "id": "8e06aad7",
   "metadata": {},
   "outputs": [
    {
     "name": "stdout",
     "output_type": "stream",
     "text": [
      "---------\n",
      "1 X 1 = 1\n",
      "1 X 2 = 2\n",
      "1 X 3 = 3\n",
      "1 X 4 = 4\n",
      "1 X 5 = 5\n",
      "1 X 6 = 6\n",
      "1 X 7 = 7\n",
      "1 X 8 = 8\n",
      "1 X 9 = 9\n",
      "---------\n",
      "2 X 1 = 2\n",
      "2 X 2 = 4\n",
      "2 X 3 = 6\n",
      "2 X 4 = 8\n",
      "2 X 5 = 10\n",
      "2 X 6 = 12\n",
      "2 X 7 = 14\n",
      "2 X 8 = 16\n",
      "2 X 9 = 18\n",
      "---------\n",
      "3 X 1 = 3\n",
      "3 X 2 = 6\n",
      "3 X 3 = 9\n",
      "3 X 4 = 12\n",
      "3 X 5 = 15\n",
      "3 X 6 = 18\n",
      "3 X 7 = 21\n",
      "3 X 8 = 24\n",
      "3 X 9 = 27\n",
      "---------\n",
      "4 X 1 = 4\n",
      "4 X 2 = 8\n",
      "4 X 3 = 12\n",
      "4 X 4 = 16\n",
      "4 X 5 = 20\n",
      "4 X 6 = 24\n",
      "4 X 7 = 28\n",
      "4 X 8 = 32\n",
      "4 X 9 = 36\n",
      "---------\n",
      "5 X 1 = 5\n",
      "5 X 2 = 10\n",
      "5 X 3 = 15\n",
      "5 X 4 = 20\n",
      "5 X 5 = 25\n",
      "5 X 6 = 30\n",
      "5 X 7 = 35\n",
      "5 X 8 = 40\n",
      "5 X 9 = 45\n",
      "---------\n",
      "6 X 1 = 6\n",
      "6 X 2 = 12\n",
      "6 X 3 = 18\n",
      "6 X 4 = 24\n",
      "6 X 5 = 30\n",
      "6 X 6 = 36\n",
      "6 X 7 = 42\n",
      "6 X 8 = 48\n",
      "6 X 9 = 54\n",
      "---------\n",
      "7 X 1 = 7\n",
      "7 X 2 = 14\n",
      "7 X 3 = 21\n",
      "7 X 4 = 28\n",
      "7 X 5 = 35\n",
      "7 X 6 = 42\n",
      "7 X 7 = 49\n",
      "7 X 8 = 56\n",
      "7 X 9 = 63\n",
      "---------\n",
      "8 X 1 = 8\n",
      "8 X 2 = 16\n",
      "8 X 3 = 24\n",
      "8 X 4 = 32\n",
      "8 X 5 = 40\n",
      "8 X 6 = 48\n",
      "8 X 7 = 56\n",
      "8 X 8 = 64\n",
      "8 X 9 = 72\n",
      "---------\n",
      "9 X 1 = 9\n",
      "9 X 2 = 18\n",
      "9 X 3 = 27\n",
      "9 X 4 = 36\n",
      "9 X 5 = 45\n",
      "9 X 6 = 54\n",
      "9 X 7 = 63\n",
      "9 X 8 = 72\n",
      "9 X 9 = 81\n"
     ]
    }
   ],
   "source": [
    "#exercice 12\n",
    "\n",
    "for n in range(1,10):\n",
    "    print(\"---------\")\n",
    "    for i in range(1,10):\n",
    "        print(n,\"X\",i,\"=\",i*n)\n",
    "   \n"
   ]
  },
  {
   "cell_type": "code",
   "execution_count": 84,
   "id": "c64085f2",
   "metadata": {},
   "outputs": [
    {
     "name": "stdout",
     "output_type": "stream",
     "text": [
      "saisissez le premier nombre 50\n",
      "saisissez le deuxieme nombre 20\n",
      "le quotient est :  2 et le reste est :  10\n"
     ]
    }
   ],
   "source": [
    "#exercice 13\n",
    "\n",
    "a = int(input(\"saisissez le premier nombre \"))\n",
    "b = int(input(\"saisissez le deuxieme nombre \"))\n",
    "\n",
    "# // retourne le quotient de la division et % retourne le reste\n",
    "quotient = a//b\n",
    "reste = a%b\n",
    "\n",
    "print(\"le quotient est : \", quotient,\"et le reste est : \", reste)"
   ]
  },
  {
   "cell_type": "code",
   "execution_count": 41,
   "id": "bad05c9d",
   "metadata": {},
   "outputs": [
    {
     "name": "stdout",
     "output_type": "stream",
     "text": [
      "saisissez un nombre entier 4\n",
      "L'entier 4 est un carré parfait\n"
     ]
    }
   ],
   "source": [
    "#exercice 14\n",
    "\n",
    "\n",
    "\n",
    "n = int(input(\"saisissez un nombre entier \"))\n",
    "\n",
    "j=0\n",
    "for i in range(0,n):\n",
    "    if(i**2 == n):\n",
    "        j = j+1\n",
    "if (j > 0):\n",
    "    print(\"L'entier\", n , \"est un carré parfait\")\n",
    "else:\n",
    "    print(\"L'entier\", n , \"n'est pas un carré parfait\")"
   ]
  },
  {
   "cell_type": "code",
   "execution_count": 54,
   "id": "da840a1e",
   "metadata": {},
   "outputs": [
    {
     "name": "stdout",
     "output_type": "stream",
     "text": [
      "saisissez un nombre entier 20\n",
      "20\n",
      "20 est un nombre premier\n"
     ]
    }
   ],
   "source": [
    "#exercice 15\n",
    "\n",
    "n = int(input(\"saisissez un nombre entier \"))\n",
    "\n",
    "j=1\n",
    "for i in range(i,n+1):\n",
    "    if(n%i == 0):\n",
    "        j = j+1\n",
    "if (j == 2):\n",
    "    print(n,\"est un nombre premier\")\n",
    "else:\n",
    "    print(n,\"n'est pas un nombre premier \")\n",
    "        \n",
    "\n"
   ]
  },
  {
   "cell_type": "code",
   "execution_count": 64,
   "id": "ac2c7cbb",
   "metadata": {},
   "outputs": [
    {
     "name": "stdout",
     "output_type": "stream",
     "text": [
      "écrire un motsalut\n",
      "s\n",
      "a\n",
      "l\n",
      "u\n",
      "t\n"
     ]
    }
   ],
   "source": [
    "#exercice 16\n",
    "\n",
    "s = input(\"écrire un mot\")\n",
    "\n",
    "for caractere in s:\n",
    "    print(caractere)\n"
   ]
  },
  {
   "cell_type": "code",
   "execution_count": 76,
   "id": "992c1aa8",
   "metadata": {},
   "outputs": [
    {
     "name": "stdout",
     "output_type": "stream",
     "text": [
      "écrire un mot salut simon\n",
      "s est 2 dans la chaine\n",
      "a est 1 dans la chaine\n",
      "n est 1 dans la chaine\n",
      "i est 1 dans la chaine\n",
      "m est 1 dans la chaine\n",
      "  est 1 dans la chaine\n",
      "u est 1 dans la chaine\n",
      "t est 1 dans la chaine\n",
      "l est 1 dans la chaine\n",
      "o est 1 dans la chaine\n"
     ]
    }
   ],
   "source": [
    "#exercice 17\n",
    "\n",
    "s = input(\"écrire un mot \")\n",
    "\n",
    "for caractere in set(s):\n",
    "    if(caractere == \"\"):\n",
    "        continue\n",
    "    count = s.count(caractere)\n",
    "    print(caractere,\"est\",count,\"dans la chaine\")\n"
   ]
  },
  {
   "cell_type": "code",
   "execution_count": null,
   "id": "27d55476",
   "metadata": {},
   "outputs": [
    {
     "name": "stdout",
     "output_type": "stream",
     "text": [
      "écrire un mot bonjour o\n"
     ]
    }
   ],
   "source": [
    "#exercice 18\n",
    "\n",
    "s = input(\"écrire un mot \")\n",
    "b = input(\"choisir une lettre \")\n",
    "\n",
    "#obtenir la longeur de la chaine de caractere s\n",
    "n = len(s)\n",
    "#parcourir la chaine de caractere\n",
    "for i in range(0,n):\n",
    "    #on teste si un caractère est égale a la variable b\n",
    "    if (s[i] == b):\n",
    "        print(b,\"est\",i,\"dans la chaine\")\n"
   ]
  },
  {
   "cell_type": "code",
   "execution_count": 81,
   "id": "dea3108e",
   "metadata": {},
   "outputs": [
    {
     "name": "stdout",
     "output_type": "stream",
     "text": [
      "laptop 6\n",
      "iphone 6\n",
      "tablet 6\n"
     ]
    }
   ],
   "source": [
    "#exercice 19\n",
    "\n",
    "l = [\"laptop\", \"iphone\", \"tablet\"]\n",
    "\n",
    "for s in l:\n",
    "    print(s,len(s))"
   ]
  },
  {
   "cell_type": "code",
   "execution_count": 97,
   "id": "70e8e6c7",
   "metadata": {},
   "outputs": [
    {
     "name": "stdout",
     "output_type": "stream",
     "text": [
      "écrire un mot bonjour\n",
      "le nouveau mot est : ronjoub\n"
     ]
    }
   ],
   "source": [
    "#exercice 20\n",
    "\n",
    "n = input(\"écrire un mot \")\n",
    "\n",
    "if len(n) < 2:\n",
    "    print(\"la chaine doit contenir au moins deux caractères\")\n",
    "else:\n",
    "    premier = n[0]\n",
    "    dernier = n[-1]\n",
    "    milieu = n[1:-1]\n",
    "    nouveau_mot = dernier + milieu + premier\n",
    "    print (f\"le nouveau mot est : {nouveau_mot}\")\n",
    "    "
   ]
  },
  {
   "cell_type": "code",
   "execution_count": 109,
   "id": "061e95d9",
   "metadata": {},
   "outputs": [
    {
     "name": "stdout",
     "output_type": "stream",
     "text": [
      "écrire un mot salut\n",
      "il y a 2 voyelles dans salut\n"
     ]
    }
   ],
   "source": [
    "#exercice 21\n",
    "\n",
    "mot = input(\"écrire un mot \")\n",
    "\n",
    "#on met les lettres en minuscule\n",
    "mot_min = mot.lower()\n",
    "\n",
    "#on fait un tableau des voyelles\n",
    "liste_voyelles =[\"a\",\"e\",\"i\",\"o\",\"u\",\"y\"]\n",
    "\n",
    "#on met le nombre de voyelles de base a 0\n",
    "nb_voyelles = 0\n",
    "\n",
    "#on fait une boucle pour compter le nombre de voyelles et on rajoute +1 au compteur a chaque fois qu'il y en a une\n",
    "for lettre in mot_min:\n",
    "    if lettre in liste_voyelles:\n",
    "        nb_voyelles +=1\n",
    "        \n",
    "        \n",
    "if nb_voyelles == 0:\n",
    "    print(f\"il n'y a pas de voyelle dans {mot_min}\")\n",
    "else:\n",
    "    print(f\"il y a {nb_voyelles} voyelles dans {mot_min}\")\n",
    "\n",
    "\n"
   ]
  },
  {
   "cell_type": "code",
   "execution_count": 121,
   "id": "b5b97bce",
   "metadata": {},
   "outputs": [
    {
     "name": "stdout",
     "output_type": "stream",
     "text": [
      "écrire une prase j'aime les pistaches\n",
      "j'aime\n"
     ]
    }
   ],
   "source": [
    "#exercice 22\n",
    "\n",
    "phrase = input(\"écrire une prase \")\n",
    "\n",
    "mots = phrase.split()\n",
    "print(mots[0])"
   ]
  },
  {
   "cell_type": "code",
   "execution_count": 128,
   "id": "891b5a65",
   "metadata": {},
   "outputs": [
    {
     "name": "stdout",
     "output_type": "stream",
     "text": [
      "saisir le nom d'un fichier et son extension coursPython.pdf\n",
      "l'extension du fichier est : pdf\n"
     ]
    }
   ],
   "source": [
    "#exercice 23\n",
    "\n",
    "\n",
    "fichier = input(\"saisir le nom d'un fichier et son extension \")\n",
    "extension = fichier.split(\".\")[-1]\n",
    "\n",
    "print(f\"l'extension du fichier est : {extension}\")\n"
   ]
  },
  {
   "cell_type": "code",
   "execution_count": 135,
   "id": "de47be20",
   "metadata": {},
   "outputs": [
    {
     "name": "stdout",
     "output_type": "stream",
     "text": [
      "écrire un mot KawAk\n",
      "kawak est un palindrome\n"
     ]
    }
   ],
   "source": [
    "#exercice 24\n",
    "\n",
    "mot = input(\"écrire un mot \")\n",
    "mot_lower = mot.lower()\n",
    "# [::-1] permet de parcourir le mot en sens inverse\n",
    "if (mot_lower == mot_lower[::-1]):\n",
    "    print(f\"{mot_lower} est un palindrome\")\n",
    "else:\n",
    "    print(f\"{mot_lower} n'est pas un palindrome\")"
   ]
  },
  {
   "cell_type": "code",
   "execution_count": 136,
   "id": "c1e71ada",
   "metadata": {},
   "outputs": [
    {
     "name": "stdout",
     "output_type": "stream",
     "text": [
      "écrire un mot pistache\n",
      "ehcatsip\n"
     ]
    }
   ],
   "source": [
    "#exercice 25\n",
    "\n",
    "mot = input(\"écrire un mot \")\n",
    "\n",
    "mot_inverse = mot[::-1]\n",
    "\n",
    "print(mot_inverse)"
   ]
  },
  {
   "cell_type": "code",
   "execution_count": 148,
   "id": "35c026f3",
   "metadata": {},
   "outputs": [
    {
     "name": "stdout",
     "output_type": "stream",
     "text": [
      "écrire une prase allons voir annabelle\n",
      "les mot commençant par a sont ['allons', 'annabelle']\n"
     ]
    }
   ],
   "source": [
    "#exercice 26\n",
    "\n",
    "phrase = input(\"écrire une prase \")\n",
    "phrase_lower = phrase.lower()\n",
    "mot = phrase_lower.split()\n",
    "#on crée un tableau pour les mot commencant par a\n",
    "mot_en_a =[]\n",
    "for lettres in mot:\n",
    "    if lettres.startswith(\"a\"):\n",
    "        mot_en_a.append(lettres)\n",
    "        \n",
    "if len(mot_en_a) > 0:\n",
    "    print(f\"les mot commençant par a sont {mot_en_a}\")\n",
    "else:\n",
    "    print(\"il n'y a pas de mot commençant par a\")\n",
    "\n"
   ]
  }
 ],
 "metadata": {
  "kernelspec": {
   "display_name": "Python 3 (ipykernel)",
   "language": "python",
   "name": "python3"
  },
  "language_info": {
   "codemirror_mode": {
    "name": "ipython",
    "version": 3
   },
   "file_extension": ".py",
   "mimetype": "text/x-python",
   "name": "python",
   "nbconvert_exporter": "python",
   "pygments_lexer": "ipython3",
   "version": "3.11.5"
  }
 },
 "nbformat": 4,
 "nbformat_minor": 5
}
