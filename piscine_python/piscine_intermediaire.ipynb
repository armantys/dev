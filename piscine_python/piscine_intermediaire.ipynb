{
 "cells": [
  {
   "cell_type": "code",
   "execution_count": 33,
   "id": "2db45022",
   "metadata": {},
   "outputs": [
    {
     "name": "stdout",
     "output_type": "stream",
     "text": [
      "0.0470400026866224\n",
      "0.45464871341284085\n",
      "0.8414709848078965\n",
      "1.0\n",
      "0.8414709848078965\n",
      "0.45464871341284085\n",
      "0.0470400026866224\n"
     ]
    }
   ],
   "source": [
    "#exercice 1\n",
    "from math import sin\n",
    "\n",
    "\n",
    "\n",
    "for x in range(-3,4):\n",
    "    try:\n",
    "        print(sin(x)/x)\n",
    "    except:\n",
    "        print(float(1))\n",
    "        \n",
    "        "
   ]
  },
  {
   "cell_type": "code",
   "execution_count": 7,
   "id": "1593f688",
   "metadata": {},
   "outputs": [
    {
     "name": "stdout",
     "output_type": "stream",
     "text": [
      "quel est la born inf ?2\n",
      "quel est la born sup ?5\n",
      "quel est le nombre de pas ?1\n",
      "2   13\n"
     ]
    },
    {
     "data": {
      "text/plain": [
       "{2: 13}"
      ]
     },
     "execution_count": 7,
     "metadata": {},
     "output_type": "execute_result"
    }
   ],
   "source": [
    "#exercice 2\n",
    "\n",
    "def f(x):\n",
    "    return 2*x**3 + x - 5\n",
    "\n",
    "def poly(fonction,bornInf,bornSup,nbPas):\n",
    "    #cette procédure affiche les valeur de fonction\n",
    "    if(bornInf>bornSup):\n",
    "         print(\"vous êtes un teubé\")\n",
    "    else: \n",
    "        for x in range(bornInf,bornSup,nbPas):\n",
    "            \n",
    "            dico = {}\n",
    "            dico[x] = f(x)\n",
    "            print (x,\" \",f(x))\n",
    "            return dico\n",
    "\n",
    "        \n",
    "bornInf = int(input(\"quel est la born inf ?\"))  \n",
    "bornSup = int(input(\"quel est la born sup ?\"))\n",
    "nbPas = int(input(\"quel est le nombre de pas ?\"))\n",
    "poly(f,bornInf,bornSup,nbPas)\n",
    "\n",
    "    \n",
    "    \n",
    "    \n",
    "    \n",
    "    "
   ]
  },
  {
   "cell_type": "code",
   "execution_count": 42,
   "id": "90661044",
   "metadata": {},
   "outputs": [
    {
     "name": "stdout",
     "output_type": "stream",
     "text": [
      "[17, 10, 25, 72, 12]\n",
      "0\n",
      "[25, 72]\n",
      "[25, 72, 12]\n",
      "12\n"
     ]
    }
   ],
   "source": [
    "#exercice 3\n",
    "\n",
    "\n",
    "\n",
    "liste =[17, 38, 10, 25, 72]\n",
    "\n",
    "liste.append(12)\n",
    "liste.remove(38)\n",
    "print(liste)\n",
    "print(liste.index(17))\n",
    "print(liste[2:4])\n",
    "print(liste[2:])\n",
    "print(liste[-1])"
   ]
  },
  {
   "cell_type": "code",
   "execution_count": 62,
   "id": "341740a5",
   "metadata": {},
   "outputs": [
    {
     "name": "stdout",
     "output_type": "stream",
     "text": [
      "notez une phrasej'aime les fraise et j'aime les pommes\n",
      "{\"j'aime\": 2, 'les': 2, 'fraise': 1, 'et': 1, 'pommes': 1}\n"
     ]
    }
   ],
   "source": [
    "#exercice 4\n",
    "\n",
    "\n",
    "def compterMots(phrase):\n",
    "    \n",
    "    d = dict({})\n",
    "    \n",
    "    listemot = phrase.split()\n",
    "    \n",
    "    for mot in listemot:\n",
    "        d[mot] = listemot.count(mot)\n",
    "        \n",
    "    return d\n",
    "\n",
    "phrase = input(\"notez une phrase\")\n",
    "print(compterMots(phrase))"
   ]
  },
  {
   "cell_type": "code",
   "execution_count": 7,
   "id": "3a570c6e",
   "metadata": {},
   "outputs": [
    {
     "data": {
      "text/plain": [
       "(10, 20, 15.0)"
      ]
     },
     "execution_count": 7,
     "metadata": {},
     "output_type": "execute_result"
    }
   ],
   "source": [
    "#exercice 5\n",
    "\n",
    "\n",
    "def minMaxMoy():\n",
    "    \n",
    "    tableau = [10, 18, 14, 20, 12, 16]\n",
    "    tableau.sort()\n",
    "    mini = tableau[0]\n",
    "    maxi = tableau[-1]\n",
    "    moyenne = sum(tableau) /len(tableau)\n",
    "    return mini, maxi, moyenne\n",
    "    \n",
    "\n",
    "minMaxMoy()"
   ]
  },
  {
   "cell_type": "code",
   "execution_count": 32,
   "id": "a94e18d2",
   "metadata": {},
   "outputs": [
    {
     "name": "stdout",
     "output_type": "stream",
     "text": [
      "79\n"
     ]
    }
   ],
   "source": [
    "#exercice 6\n",
    "\n",
    "\n",
    "dico = {\"Au\":\n",
    "        {\"Te/Tf\":\n",
    "         (2970,1063),\n",
    "         \"Z/A\":(79,196.967)},\n",
    "        \"Ga\":\n",
    "        {\"Te/Tf\":\n",
    "         (2237,29.8),\n",
    "         \"Z/A\":\n",
    "         (31,69.72)}}\n",
    "\n",
    "print(dico[\"Au\"][\"Z/A\"][0])"
   ]
  },
  {
   "cell_type": "code",
   "execution_count": 46,
   "id": "31ff4efd",
   "metadata": {},
   "outputs": [
    {
     "name": "stdout",
     "output_type": "stream",
     "text": [
      "écrivez une phrase bonjour, je suis ludovic\n",
      "mettez un decalage 5\n",
      "gtsotzw, oj xznx qzitanh\n"
     ]
    }
   ],
   "source": [
    "#exercice 7\n",
    "\n",
    "\n",
    "\n",
    "def changer(ch, decalage):\n",
    "    chDecal = \"\"\n",
    "    for i in range(len(ch)):\n",
    "        codeAscii = ord(ch[i]) # on convertit le caractère en code ascii\n",
    "        if (ch[i]>='A' and ch[i]<= 'Z'):\n",
    "            if codeAscii(ord('Z')-decalage):\n",
    "                codeAscii=codeAscii-26\n",
    "            codeAscii=codeAscii+decalage\n",
    "        elif (ch[i]>='a' and ch[i]<='z'):\n",
    "            if codeAscii>(ord('z')-decalage):\n",
    "                codeAscii=codeAscii-26\n",
    "            codeAscii=codeAscii+decalage\n",
    "        else:\n",
    "            codeAscii=codeAscii\n",
    "        car=chr(codeAscii)\n",
    "        chDecal=chDecal+car\n",
    "    return chDecal\n",
    "        \n",
    "\n",
    "    \n",
    "\n",
    "phrase = input(\"écrivez une phrase \")\n",
    "ledacalage = int(input('mettez un decalage '))\n",
    "chaineDecaler = changer(phrase, ledacalage)\n",
    "print(chaineDecaler)"
   ]
  },
  {
   "cell_type": "code",
   "execution_count": null,
   "id": "21b6882e",
   "metadata": {},
   "outputs": [],
   "source": []
  },
  {
   "cell_type": "code",
   "execution_count": null,
   "id": "23178e78",
   "metadata": {
    "collapsed": true
   },
   "outputs": [],
   "source": []
  }
 ],
 "metadata": {
  "kernelspec": {
   "display_name": "Python 3 (ipykernel)",
   "language": "python",
   "name": "python3"
  },
  "language_info": {
   "codemirror_mode": {
    "name": "ipython",
    "version": 3
   },
   "file_extension": ".py",
   "mimetype": "text/x-python",
   "name": "python",
   "nbconvert_exporter": "python",
   "pygments_lexer": "ipython3",
   "version": "3.11.5"
  }
 },
 "nbformat": 4,
 "nbformat_minor": 5
}
