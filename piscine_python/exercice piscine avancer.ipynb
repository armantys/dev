{
 "cells": [
  {
   "cell_type": "code",
   "execution_count": 7,
   "id": "633b835b",
   "metadata": {},
   "outputs": [
    {
     "name": "stdout",
     "output_type": "stream",
     "text": [
      "['pomme', 'pates', 'poire']\n",
      "choisissez une option : 3\n",
      "1 : pomme\n",
      "2 : pates\n",
      "3 : poire\n",
      "choisissez une option : 2\n",
      "retirer un articles a la liste : 1\n",
      "1 : pates\n",
      "2 : poire\n",
      "choisissez une option : 1\n",
      "ajouter un articles a la liste : pommes\n",
      "1 : pates\n",
      "2 : poire\n",
      "3 : pommes\n",
      "choisissez une option : 4\n",
      "choisissez une option : 3\n",
      "choisissez une option : 0\n"
     ]
    }
   ],
   "source": [
    "#exercice 1\n",
    "import os\n",
    "import json\n",
    "\n",
    "\n",
    "affichage = \"\"\"\n",
    "Choisissez une option:\n",
    "\\t1: Ajouter un élément\n",
    "\\t2: Enlever un élément\n",
    "\\t3: Afficher la liste\n",
    "\\t4: Vider la liste\n",
    "\\t5: Sauvegarder la liste\n",
    "\"\"\"\n",
    "\n",
    "\n",
    "\n",
    "monfichier = \"listes.json\"\n",
    "\n",
    "try:\n",
    "\n",
    "    with open(monfichier, \"r\") as fichier:\n",
    "        liste =  json.load(fichier)\n",
    "        print(liste)\n",
    "except:\n",
    "    liste = []\n",
    "    print(affichage)\n",
    "\n",
    "    \n",
    "def listeelement():\n",
    "    for cle, valeur in enumerate(liste):\n",
    "            print(cle+1 ,\":\", valeur)\n",
    "\n",
    "\n",
    "\n",
    "while True:\n",
    "    choix = int(input(\"choisissez une option : \"))\n",
    "    if (choix == 1):\n",
    "            ajout = input(\"ajouter un articles a la liste : \")\n",
    "            liste.append(ajout)\n",
    "            listeelement()\n",
    "    elif (choix == 2):\n",
    "        retirer = int(input(\"retirer un articles a la liste : \"))\n",
    "        del liste[retirer-1]\n",
    "        listeelement()\n",
    "    elif (choix == 3):\n",
    "        listeelement()\n",
    "    elif (choix == 4):\n",
    "        liste = []\n",
    "    elif (choix == 5):\n",
    "        print(liste)\n",
    "        with open(monfichier, \"w\") as fichier:\n",
    "            json.dump(liste, fichier)\n",
    "    elif (choix == 0):\n",
    "        break\n"
   ]
  },
  {
   "cell_type": "code",
   "execution_count": 10,
   "id": "916a1844",
   "metadata": {},
   "outputs": [
    {
     "name": "stdout",
     "output_type": "stream",
     "text": [
      "choisissez une option : 2\n",
      "fichier en cours de tri dans le dossier principal \n"
     ]
    }
   ],
   "source": [
    "#exercice 2\n",
    "\n",
    "import os\n",
    "import shutil\n",
    "\n",
    "def retri(src,liste):\n",
    "    for files in liste:\n",
    "        shutil.move(src+files,r\"C:\\Users\\ludovic.souquet\\Documents\\GitHub\\ludovic.souquet\\piscine_python\\exercice_files\")\n",
    "\n",
    "def tri(src,liste):\n",
    "\n",
    "    for files in liste:\n",
    "        extention = files.split(\".\")[-1]\n",
    "\n",
    "        if extention =='mp4' :\n",
    "            shutil.move(src+files,r\"C:\\Users\\ludovic.souquet\\Documents\\GitHub\\ludovic.souquet\\piscine_python\\exercice_files\\Videos\")\n",
    "        if extention =='mp3' :\n",
    "            shutil.move(src+files,r\"C:\\Users\\ludovic.souquet\\Documents\\GitHub\\ludovic.souquet\\piscine_python\\exercice_files\\Musiques\")\n",
    "        if extention =='pdf' :\n",
    "            shutil.move(src+files,r\"C:\\Users\\ludovic.souquet\\Documents\\GitHub\\ludovic.souquet\\piscine_python\\exercice_files\\Documents\")\n",
    "        if extention =='jpg' :\n",
    "            shutil.move(src+files,r\"C:\\Users\\ludovic.souquet\\Documents\\GitHub\\ludovic.souquet\\piscine_python\\exercice_files\\Images\")\n",
    "            \n",
    "choix = int(input(\"choisissez une option : \"))\n",
    "if (choix == 1):\n",
    "    path = r\"C:\\Users\\ludovic.souquet\\Documents\\GitHub\\ludovic.souquet\\piscine_python\\exercice_files\\\\\" \n",
    "    dirs = os.listdir(path)\n",
    "    tri(path,dirs)\n",
    "    print(\"fichier en cours de tri dans leurs dossiers respectif \")\n",
    "elif (choix == 2):\n",
    "    listepath = [r\"C:\\Users\\ludovic.souquet\\Documents\\GitHub\\ludovic.souquet\\piscine_python\\exercice_files\\Videos\\\\\",r\"C:\\Users\\ludovic.souquet\\Documents\\GitHub\\ludovic.souquet\\piscine_python\\exercice_files\\Musiques\\\\\",r\"C:\\Users\\ludovic.souquet\\Documents\\GitHub\\ludovic.souquet\\piscine_python\\exercice_files\\Documents\\\\\",r\"C:\\Users\\ludovic.souquet\\Documents\\GitHub\\ludovic.souquet\\piscine_python\\exercice_files\\Images\\\\\"]\n",
    "    for paths in listepath: \n",
    "        dirs = os.listdir(paths)\n",
    "        retri(paths,dirs)\n",
    "    print(\"fichier en cours de tri dans le dossier principal \")\n",
    "    "
   ]
  },
  {
   "cell_type": "code",
   "execution_count": null,
   "id": "07f43f95",
   "metadata": {},
   "outputs": [],
   "source": []
  },
  {
   "cell_type": "code",
   "execution_count": null,
   "id": "27c2f185",
   "metadata": {},
   "outputs": [],
   "source": []
  }
 ],
 "metadata": {
  "kernelspec": {
   "display_name": "Python 3 (ipykernel)",
   "language": "python",
   "name": "python3"
  },
  "language_info": {
   "codemirror_mode": {
    "name": "ipython",
    "version": 3
   },
   "file_extension": ".py",
   "mimetype": "text/x-python",
   "name": "python",
   "nbconvert_exporter": "python",
   "pygments_lexer": "ipython3",
   "version": "3.11.5"
  }
 },
 "nbformat": 4,
 "nbformat_minor": 5
}
