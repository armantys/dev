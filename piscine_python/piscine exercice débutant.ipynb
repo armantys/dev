{
 "cells": [
  {
   "cell_type": "code",
   "execution_count": 8,
   "id": "e2bfd4fb",
   "metadata": {},
   "outputs": [
    {
     "name": "stdout",
     "output_type": "stream",
     "text": [
      "bonjour\n",
      "bonjour\n",
      "bonjour\n",
      "bonjour\n",
      "bonjour\n"
     ]
    }
   ],
   "source": [
    "#exercice 1\n",
    "\n",
    "def bonjour(n):\n",
    "    i=0\n",
    "    while i < n:\n",
    "        print(\"bonjour\")\n",
    "        i=i+1\n",
    "n=5\n",
    "bonjour(n)"
   ]
  },
  {
   "cell_type": "code",
   "execution_count": 15,
   "id": "5f13ac85",
   "metadata": {},
   "outputs": [
    {
     "name": "stdout",
     "output_type": "stream",
     "text": [
      "quel est le rayon ?10\n",
      "quel est la hauteur ?15\n"
     ]
    },
    {
     "data": {
      "text/plain": [
       "1570.0"
      ]
     },
     "execution_count": 15,
     "metadata": {},
     "output_type": "execute_result"
    }
   ],
   "source": [
    "#exercice 2\n",
    "\n",
    "\n",
    "def volume_cone():\n",
    "    Vcone = 1/3 * 3.14 * rayon*rayon * hauteur\n",
    "    return Vcone\n",
    "\n",
    "rayon = int(input(\"quel est le rayon ?\"))\n",
    "hauteur = int(input(\"quel est la hauteur ?\"))          \n",
    "volume_cone()"
   ]
  },
  {
   "cell_type": "code",
   "execution_count": 23,
   "id": "25cb6c9f",
   "metadata": {},
   "outputs": [
    {
     "name": "stdout",
     "output_type": "stream",
     "text": [
      "quel est votre poids ?63\n",
      "quel est votre taille ?1.70\n"
     ]
    },
    {
     "data": {
      "text/plain": [
       "21.79930795847751"
      ]
     },
     "execution_count": 23,
     "metadata": {},
     "output_type": "execute_result"
    }
   ],
   "source": [
    "#exercice 3\n",
    "\n",
    "def imc():\n",
    "    return poids/(taille*taille)\n",
    "\n",
    "\n",
    "poids = float(input(\"quel est votre poids ?\"))\n",
    "taille = float(input(\"quel est votre taille ?\"))\n",
    "imc()"
   ]
  },
  {
   "cell_type": "code",
   "execution_count": 29,
   "id": "437f4026",
   "metadata": {},
   "outputs": [
    {
     "name": "stdout",
     "output_type": "stream",
     "text": [
      "combien de miles avez vous fait ?3\n",
      "vous avez fait 4.827 km/h\n",
      "ce qui fait 1.3408333333333333 mètre par seconde\n"
     ]
    }
   ],
   "source": [
    "#exercice 4\n",
    "\n",
    "\n",
    "def convertisseur():\n",
    "    conver_km = miles*1609/1000\n",
    "    conver_metre_seconde = miles*1609/3600\n",
    "    print(f\"vous avez fait {conver_km} km/h\")\n",
    "    print(f\"ce qui fait {conver_metre_seconde} mètre par seconde\")\n",
    "    \n",
    "    \n",
    "    \n",
    "    \n",
    "miles= int(input(\"combien de miles avez vous fait ?\"))\n",
    "convertisseur()"
   ]
  },
  {
   "cell_type": "code",
   "execution_count": 36,
   "id": "ac50155e",
   "metadata": {},
   "outputs": [
    {
     "name": "stdout",
     "output_type": "stream",
     "text": [
      "écrire un nombre entier 10\n"
     ]
    },
    {
     "data": {
      "text/plain": [
       "'le nombre est pair'"
      ]
     },
     "execution_count": 36,
     "metadata": {},
     "output_type": "execute_result"
    }
   ],
   "source": [
    "#exercice 5\n",
    "\n",
    "def pair(n):\n",
    "    if (n%2 == 0):\n",
    "        return \"le nombre est pair\"\n",
    "    else:\n",
    "        return \" le nombre est impaire\"\n",
    "\n",
    "n = int(input(\"écrire un nombre entier \"))\n",
    "pair(n)\n"
   ]
  },
  {
   "cell_type": "code",
   "execution_count": 89,
   "id": "2b001f0c",
   "metadata": {},
   "outputs": [
    {
     "name": "stdout",
     "output_type": "stream",
     "text": [
      "quel est le resultats de :  0  X  9\n"
     ]
    },
    {
     "ename": "KeyboardInterrupt",
     "evalue": "Interrupted by user",
     "output_type": "error",
     "traceback": [
      "\u001b[1;31m---------------------------------------------------------------------------\u001b[0m",
      "\u001b[1;31mKeyboardInterrupt\u001b[0m                         Traceback (most recent call last)",
      "Cell \u001b[1;32mIn[89], line 15\u001b[0m\n\u001b[0;32m     13\u001b[0m calcul \u001b[38;5;241m=\u001b[39m random1 \u001b[38;5;241m*\u001b[39m random2\n\u001b[0;32m     14\u001b[0m \u001b[38;5;28mprint\u001b[39m(\u001b[38;5;124m\"\u001b[39m\u001b[38;5;124mquel est le resultats de : \u001b[39m\u001b[38;5;124m\"\u001b[39m,random1,\u001b[38;5;124m\"\u001b[39m\u001b[38;5;124m X \u001b[39m\u001b[38;5;124m\"\u001b[39m ,random2)\n\u001b[1;32m---> 15\u001b[0m result\u001b[38;5;241m=\u001b[39m \u001b[38;5;28mint\u001b[39m(\u001b[38;5;28minput\u001b[39m(\u001b[38;5;124m\"\u001b[39m\u001b[38;5;124mmettre le resultat du calcul \u001b[39m\u001b[38;5;124m\"\u001b[39m))\n\u001b[0;32m     17\u001b[0m \u001b[38;5;66;03m#si le calcul est egal au resultat retourné par l'utilisateur on rajoute 1 point, sinon on enlève 1 point\u001b[39;00m\n\u001b[0;32m     18\u001b[0m \u001b[38;5;28;01mif\u001b[39;00m (calcul \u001b[38;5;241m==\u001b[39m result):\n",
      "File \u001b[1;32mC:\\ProgramData\\anaconda3\\Lib\\site-packages\\ipykernel\\kernelbase.py:1202\u001b[0m, in \u001b[0;36mKernel.raw_input\u001b[1;34m(self, prompt)\u001b[0m\n\u001b[0;32m   1200\u001b[0m     msg \u001b[38;5;241m=\u001b[39m \u001b[38;5;124m\"\u001b[39m\u001b[38;5;124mraw_input was called, but this frontend does not support input requests.\u001b[39m\u001b[38;5;124m\"\u001b[39m\n\u001b[0;32m   1201\u001b[0m     \u001b[38;5;28;01mraise\u001b[39;00m StdinNotImplementedError(msg)\n\u001b[1;32m-> 1202\u001b[0m \u001b[38;5;28;01mreturn\u001b[39;00m \u001b[38;5;28mself\u001b[39m\u001b[38;5;241m.\u001b[39m_input_request(\n\u001b[0;32m   1203\u001b[0m     \u001b[38;5;28mstr\u001b[39m(prompt),\n\u001b[0;32m   1204\u001b[0m     \u001b[38;5;28mself\u001b[39m\u001b[38;5;241m.\u001b[39m_parent_ident[\u001b[38;5;124m\"\u001b[39m\u001b[38;5;124mshell\u001b[39m\u001b[38;5;124m\"\u001b[39m],\n\u001b[0;32m   1205\u001b[0m     \u001b[38;5;28mself\u001b[39m\u001b[38;5;241m.\u001b[39mget_parent(\u001b[38;5;124m\"\u001b[39m\u001b[38;5;124mshell\u001b[39m\u001b[38;5;124m\"\u001b[39m),\n\u001b[0;32m   1206\u001b[0m     password\u001b[38;5;241m=\u001b[39m\u001b[38;5;28;01mFalse\u001b[39;00m,\n\u001b[0;32m   1207\u001b[0m )\n",
      "File \u001b[1;32mC:\\ProgramData\\anaconda3\\Lib\\site-packages\\ipykernel\\kernelbase.py:1245\u001b[0m, in \u001b[0;36mKernel._input_request\u001b[1;34m(self, prompt, ident, parent, password)\u001b[0m\n\u001b[0;32m   1242\u001b[0m \u001b[38;5;28;01mexcept\u001b[39;00m \u001b[38;5;167;01mKeyboardInterrupt\u001b[39;00m:\n\u001b[0;32m   1243\u001b[0m     \u001b[38;5;66;03m# re-raise KeyboardInterrupt, to truncate traceback\u001b[39;00m\n\u001b[0;32m   1244\u001b[0m     msg \u001b[38;5;241m=\u001b[39m \u001b[38;5;124m\"\u001b[39m\u001b[38;5;124mInterrupted by user\u001b[39m\u001b[38;5;124m\"\u001b[39m\n\u001b[1;32m-> 1245\u001b[0m     \u001b[38;5;28;01mraise\u001b[39;00m \u001b[38;5;167;01mKeyboardInterrupt\u001b[39;00m(msg) \u001b[38;5;28;01mfrom\u001b[39;00m \u001b[38;5;28;01mNone\u001b[39;00m\n\u001b[0;32m   1246\u001b[0m \u001b[38;5;28;01mexcept\u001b[39;00m \u001b[38;5;167;01mException\u001b[39;00m:\n\u001b[0;32m   1247\u001b[0m     \u001b[38;5;28mself\u001b[39m\u001b[38;5;241m.\u001b[39mlog\u001b[38;5;241m.\u001b[39mwarning(\u001b[38;5;124m\"\u001b[39m\u001b[38;5;124mInvalid Message:\u001b[39m\u001b[38;5;124m\"\u001b[39m, exc_info\u001b[38;5;241m=\u001b[39m\u001b[38;5;28;01mTrue\u001b[39;00m)\n",
      "\u001b[1;31mKeyboardInterrupt\u001b[0m: Interrupted by user"
     ]
    }
   ],
   "source": [
    "#exercice 6\n",
    "\n",
    "from random import *\n",
    "\n",
    "#on initialise le nombre de point a 0\n",
    "point = 0\n",
    "\n",
    "for i in range(5):\n",
    "    \n",
    "    #je setup 2 chiffres au hazar entre 0 et 10\n",
    "    random1 =randint(0, 10)\n",
    "    random2 =randint(0, 10)\n",
    "    calcul = random1 * random2\n",
    "    print(\"quel est le resultats de : \",random1,\" X \" ,random2)\n",
    "    result= int(input(\"mettre le resultat du calcul \"))\n",
    "    \n",
    "    #si le calcul est egal au resultat retourné par l'utilisateur on rajoute 1 point, sinon on enlève 1 point\n",
    "    if (calcul == result):\n",
    "        point +=1\n",
    "        print(\"bravo vous gagnez un point\")\n",
    "        print (f\"votre total de points est {point}\")\n",
    "    else:\n",
    "        point -=1\n",
    "        print(\"dommage vous perdez un point\")\n",
    "        print (f\"votre total de points est {point}\")\n",
    "\n",
    "print(f\"votre total de points pour cette partie est de {point}\")"
   ]
  },
  {
   "cell_type": "code",
   "execution_count": 149,
   "id": "41c43648",
   "metadata": {},
   "outputs": [
    {
     "name": "stdout",
     "output_type": "stream",
     "text": [
      "mettre un nombre entre 0 et 100 0\n",
      "le nombre a trouver est plus grand\n",
      "il vous reste 9\n",
      "mettre un nombre plus grand que 0 0\n",
      "le nombre a trouver est plus grand\n",
      "il vous reste 8\n",
      "mettre un nombre plus grand que 0 0\n",
      "le nombre a trouver est plus grand\n",
      "il vous reste 7\n",
      "mettre un nombre plus grand que 0 0\n",
      "le nombre a trouver est plus grand\n",
      "il vous reste 6\n",
      "mettre un nombre plus grand que 0 0\n",
      "le nombre a trouver est plus grand\n",
      "il vous reste 5\n",
      "mettre un nombre plus grand que 0 0\n",
      "le nombre a trouver est plus grand\n",
      "il vous reste 4\n",
      "mettre un nombre plus grand que 0 0\n",
      "le nombre a trouver est plus grand\n",
      "il vous reste 3\n",
      "mettre un nombre plus grand que 0 0\n",
      "le nombre a trouver est plus grand\n",
      "il vous reste 2\n",
      "mettre un nombre plus grand que 0 0\n",
      "le nombre a trouver est plus grand\n",
      "il vous reste 1\n",
      "mettre un nombre plus grand que 0 0\n",
      "le nombre a trouver est plus grand\n",
      "il vous reste 0\n",
      "mettre un nombre plus grand que 0 0\n",
      "dommage vous n'avez pas trouver le bon numéro qui était 62\n"
     ]
    }
   ],
   "source": [
    "#exercice 7\n",
    "\n",
    "from random import *\n",
    "\n",
    "def plus_ou_moins(min = 0, max = 100, coups = 10):\n",
    "    random1 = randint(min,max)\n",
    "    result= int(input(\"mettre un nombre entre 0 et 100 \"))\n",
    "    for i in range(coups):  \n",
    "        if (random1<result):\n",
    "            print(\"le nombre a trouver est plus petit\")\n",
    "            coups = coups -1\n",
    "            print(f\"il vous reste {coups}\")\n",
    "            result= int(input(f\"mettre un nombre plus petit que {result} \"))\n",
    "        elif (random1>result):\n",
    "            print(\"le nombre a trouver est plus grand\")\n",
    "            coups = coups -1\n",
    "            print(f\"il vous reste {coups}\")\n",
    "            result= int(input(f\"mettre un nombre plus grand que {result} \"))\n",
    "        elif (random1==result):\n",
    "            print(\"bravo vous avez trouver le bon numéro\")\n",
    "            break\n",
    "    if(coups == 0):\n",
    "        print(f\"dommage vous n'avez pas trouver le bon numéro qui était {random1}\")\n",
    "           \n",
    "            \n",
    "plus_ou_moins(min =0,max = 100, coups = 10)"
   ]
  },
  {
   "cell_type": "code",
   "execution_count": null,
   "id": "d0abe74b",
   "metadata": {},
   "outputs": [],
   "source": []
  },
  {
   "cell_type": "code",
   "execution_count": null,
   "id": "55d89b7e",
   "metadata": {},
   "outputs": [],
   "source": []
  }
 ],
 "metadata": {
  "kernelspec": {
   "display_name": "Python 3 (ipykernel)",
   "language": "python",
   "name": "python3"
  },
  "language_info": {
   "codemirror_mode": {
    "name": "ipython",
    "version": 3
   },
   "file_extension": ".py",
   "mimetype": "text/x-python",
   "name": "python",
   "nbconvert_exporter": "python",
   "pygments_lexer": "ipython3",
   "version": "3.11.5"
  }
 },
 "nbformat": 4,
 "nbformat_minor": 5
}
